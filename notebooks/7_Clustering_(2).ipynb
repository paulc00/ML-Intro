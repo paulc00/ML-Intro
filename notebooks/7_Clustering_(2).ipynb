{
  "nbformat": 4,
  "nbformat_minor": 0,
  "metadata": {
    "colab": {
      "name": "7. Clustering (2).ipynb",
      "provenance": [],
      "collapsed_sections": [],
      "toc_visible": true,
      "include_colab_link": true
    },
    "kernelspec": {
      "name": "python3",
      "display_name": "Python 3"
    }
  },
  "cells": [
    {
      "cell_type": "markdown",
      "metadata": {
        "id": "view-in-github",
        "colab_type": "text"
      },
      "source": [
        "<a href=\"https://colab.research.google.com/github/paulc00/ML-Intro/blob/master/notebooks/7_Clustering_(2).ipynb\" target=\"_parent\"><img src=\"https://colab.research.google.com/assets/colab-badge.svg\" alt=\"Open In Colab\"/></a>"
      ]
    },
    {
      "cell_type": "markdown",
      "metadata": {
        "id": "OkzNsLhe2lon",
        "colab_type": "text"
      },
      "source": [
        "# K-means on digits\n"
      ]
    },
    {
      "cell_type": "markdown",
      "metadata": {
        "id": "ir8ktLCoN0jW",
        "colab_type": "text"
      },
      "source": [
        "## Demo\n",
        "\n",
        "We'll be using an example from the excellent [Python Data Science Handbook](https://jakevdp.github.io/PythonDataScienceHandbook) by Jake VanderPlas"
      ]
    },
    {
      "cell_type": "markdown",
      "metadata": {
        "id": "18esqBroN2eH",
        "colab_type": "text"
      },
      "source": [
        "First we import packages we'll need"
      ]
    },
    {
      "cell_type": "code",
      "metadata": {
        "id": "cMLwcRDC37mO",
        "colab_type": "code",
        "colab": {}
      },
      "source": [
        "%matplotlib inline\n",
        "import matplotlib.pyplot as plt\n",
        "import seaborn as sns; sns.set()  # for plot styling\n",
        "import numpy as np\n",
        "from sklearn.cluster import KMeans\n",
        "from sklearn.datasets import load_digits\n",
        "from sklearn.metrics import accuracy_score\n",
        "\n",
        "from scipy.stats import mode"
      ],
      "execution_count": 0,
      "outputs": []
    },
    {
      "cell_type": "markdown",
      "metadata": {
        "id": "B2nv4-MMN84_",
        "colab_type": "text"
      },
      "source": [
        "Next we define a function to print a nice graphical  confusion matrix"
      ]
    },
    {
      "cell_type": "code",
      "metadata": {
        "id": "XocEsOKt4Jt9",
        "colab_type": "code",
        "colab": {}
      },
      "source": [
        "# Utility function to print a confusion matrix\n",
        "\n",
        "from sklearn.metrics import confusion_matrix\n",
        "\n",
        "def print_confusion_matrix(act_labels, pred_labels):\n",
        "  cm = confusion_matrix(act_labels, pred_labels)\n",
        "  sns.heatmap(cm, annot=True, fmt='d', annot_kws={\"size\": 18}, cmap=sns.color_palette(\"Blues\", 100), cbar=None)\n",
        "  plt.ylabel('True', fontsize=24)\n",
        "  plt.xlabel('Predicted', fontsize=24)\n",
        "  plt.tick_params(axis=\"x\", labelsize=18)\n",
        "  plt.tick_params(axis=\"y\", labelsize=18)\n",
        "  plt.plot()"
      ],
      "execution_count": 0,
      "outputs": []
    },
    {
      "cell_type": "markdown",
      "metadata": {
        "id": "R7PJCl5aOFdU",
        "colab_type": "text"
      },
      "source": [
        "Load our dataset. We're using the handwritten digits data."
      ]
    },
    {
      "cell_type": "code",
      "metadata": {
        "id": "gpNyzXrf2ZI6",
        "colab_type": "code",
        "outputId": "ff723c52-28a0-483b-85b1-a49727185a03",
        "colab": {
          "base_uri": "https://localhost:8080/",
          "height": 34
        }
      },
      "source": [
        "# Load the digits data set\n",
        "digits = load_digits()\n",
        "digits.data.shape"
      ],
      "execution_count": 3,
      "outputs": [
        {
          "output_type": "execute_result",
          "data": {
            "text/plain": [
              "(1797, 64)"
            ]
          },
          "metadata": {
            "tags": []
          },
          "execution_count": 3
        }
      ]
    },
    {
      "cell_type": "markdown",
      "metadata": {
        "id": "K9z8DXkMONfs",
        "colab_type": "text"
      },
      "source": [
        "Now we can take a look at what some of these digits look like. They're stored as a flat 64 element array of grayscale values so we need to reshape the arrays to print the numbers."
      ]
    },
    {
      "cell_type": "code",
      "metadata": {
        "id": "_INvXprw7qAP",
        "colab_type": "code",
        "outputId": "d178cd81-56db-4cfb-d3c3-0b168ef413d7",
        "colab": {
          "base_uri": "https://localhost:8080/",
          "height": 282
        }
      },
      "source": [
        "# Plot some example images of the digits\n",
        "# Cheating a little here, the first 30 are in order\n",
        "fig, ax = plt.subplots(3, 10, figsize=(10, 5))\n",
        "num = []\n",
        "for i, axi in enumerate(ax.flat):\n",
        "  axi.set(xticks=[], yticks=[])\n",
        "  axi.imshow(digits.data[i].reshape((8, 8)), interpolation='nearest', cmap=plt.cm.binary)"
      ],
      "execution_count": 4,
      "outputs": [
        {
          "output_type": "display_data",
          "data": {
            "image/png": "[encoded data removed]",
            "text/plain": [
              "<Figure size 720x360 with 30 Axes>"
            ]
          },
          "metadata": {
            "tags": []
          }
        }
      ]
    },
    {
      "cell_type": "markdown",
      "metadata": {
        "id": "deQB-kREMOgW",
        "colab_type": "text"
      },
      "source": [
        "We'll learn 10 clusters using k-means. Once we've learned the clusters we can label the cluster with the most common label for the points within it."
      ]
    },
    {
      "cell_type": "code",
      "metadata": {
        "id": "wcv7TmcILBwp",
        "colab_type": "code",
        "colab": {}
      },
      "source": [
        "# Compute the clusters\n",
        "kmeans = KMeans(n_clusters=10, random_state=0)\n",
        "clusters = kmeans.fit_predict(digits.data)\n",
        "\n",
        "# Permute the labels\n",
        "# Get the correct label based on the most common labels within each cluster\n",
        "clabels = np.zeros(10)\n",
        "labels = np.zeros_like(clusters)\n",
        "for i in range(10):\n",
        "    mask = (clusters == i)\n",
        "    label = mode(digits.target[mask])[0]\n",
        "    labels[mask] = label\n",
        "    clabels[i] = label"
      ],
      "execution_count": 0,
      "outputs": []
    },
    {
      "cell_type": "markdown",
      "metadata": {
        "id": "hXAB89qwP1iV",
        "colab_type": "text"
      },
      "source": [
        "Let's take a look at our results."
      ]
    },
    {
      "cell_type": "code",
      "metadata": {
        "id": "YNRBliaJMBDc",
        "colab_type": "code",
        "outputId": "f6611c3a-2b00-4c0c-ee92-22c4f868ed54",
        "colab": {
          "base_uri": "https://localhost:8080/",
          "height": 361
        }
      },
      "source": [
        "# Compute the accuracy\n",
        "print(f\"Accuracy: {accuracy_score(digits.target, labels)*100:.2f}%\\n\\n\")\n",
        "\n",
        "# Show the confusion matrix\n",
        "print_confusion_matrix(digits.target, labels)"
      ],
      "execution_count": 6,
      "outputs": [
        {
          "output_type": "stream",
          "text": [
            "Accuracy: 79.35%\n",
            "\n",
            "\n"
          ],
          "name": "stdout"
        },
        {
          "output_type": "display_data",
          "data": {
            "image/png": "[encoded data removed]",
            "text/plain": [
              "<Figure size 432x288 with 1 Axes>"
            ]
          },
          "metadata": {
            "tags": []
          }
        }
      ]
    },
    {
      "cell_type": "markdown",
      "metadata": {
        "id": "c7ahGWk6Mujy",
        "colab_type": "text"
      },
      "source": [
        "It would be difficult to visualize the unprojected clusters because they are in 64 dimensions.\n",
        "\n",
        "The accuracy is not great on this. The confusion matrix shows that the algorithm mixes 8 and 1 up badly. We're going to need to try something else to improve the quality of the clustering."
      ]
    },
    {
      "cell_type": "markdown",
      "metadata": {
        "id": "aD3PLzB2A6d6",
        "colab_type": "text"
      },
      "source": [
        "## Exercise"
      ]
    },
    {
      "cell_type": "markdown",
      "metadata": {
        "id": "m2R3TDYlM7vu",
        "colab_type": "text"
      },
      "source": [
        "We'll use T-SNE to perform dimensionality reduction, moving the image data from 64 dimensions to just 2. As well as allowing us to easily visualize the digits it will significantly improve the clustering results. We could use PCA but T-SNE is more effective in this case.\n",
        "\n",
        "Code up the creation of a T-SNE instance, set the random_state parameter to 0. Use the `fit_transform()` method to transform the digit features."
      ]
    },
    {
      "cell_type": "code",
      "metadata": {
        "id": "kMCYNm1s3fNo",
        "colab_type": "code",
        "colab": {}
      },
      "source": [
        "from sklearn.manifold import TSNE\n",
        "\n",
        "# Project the data: this step will take several seconds\n",
        "# But it will result in very significantly increased accuracy\n",
        "\n",
        "# Create a T-SNE instance using the TSNE class we imported above\n",
        "# tsne = ...\n",
        "\n",
        "# Use the tsne instance to fit and transform the features\n",
        "# digits_proj = ...\n"
      ],
      "execution_count": 0,
      "outputs": []
    },
    {
      "cell_type": "markdown",
      "metadata": {
        "id": "zf6qjSOwOtwb",
        "colab_type": "text"
      },
      "source": [
        "Create the code to run k-means to assign our digits to clusters and pick the most common label as the label for the cluster. The code is similar to what we used above but you'll need to replace `digits.data` with `digits_proj`. You should use `digits.target` for labels, as before."
      ]
    },
    {
      "cell_type": "code",
      "metadata": {
        "id": "so1LwDA5J7t-",
        "colab_type": "code",
        "colab": {}
      },
      "source": [
        "# Compute the clusters\n",
        "# kmeans = ...\n",
        "# clusters = ...\n",
        "\n",
        "\n",
        "# Permute the labels (same as before)\n",
        "# labels = ...\n",
        "# for ...\n",
        "# ...\n",
        "\n",
        "\n",
        "\n"
      ],
      "execution_count": 0,
      "outputs": []
    },
    {
      "cell_type": "markdown",
      "metadata": {
        "id": "a24i9isIO6au",
        "colab_type": "text"
      },
      "source": [
        "Complete the following to show some results."
      ]
    },
    {
      "cell_type": "code",
      "metadata": {
        "id": "nvfmYLi9KDpW",
        "colab_type": "code",
        "colab": {}
      },
      "source": [
        "# Compute the accuracy\n",
        "# print(f\"...\n",
        "\n",
        "\n",
        "# Show the confusion matrix\n",
        "# print_c...\n",
        "\n"
      ],
      "execution_count": 0,
      "outputs": []
    },
    {
      "cell_type": "markdown",
      "metadata": {
        "id": "ih9upTLvK_5V",
        "colab_type": "text"
      },
      "source": [
        "Our accuracy looks much better now and there's much less confusion.\n",
        "\n",
        "Let's visualize your results, Since they're now in 2-D. You won't need to change any of this."
      ]
    },
    {
      "cell_type": "code",
      "metadata": {
        "id": "4Bk4bRaz3l1C",
        "colab_type": "code",
        "colab": {}
      },
      "source": [
        "# Plot the 2-D projection of our clusters (if tsne has been defined)\n",
        "if 'tsne' in globals():\n",
        "  cm = 'Spectral'\n",
        "  fig, ax = plt.subplots(1, 2, figsize=(20,8))\n",
        "  # Color each point based on its cluster label\n",
        "  ax[0].scatter(digits_proj[:, 0], digits_proj[:, 1], c=digits.target, cmap=cm)\n",
        "  ax[0].set_xticks([])\n",
        "  ax[0].set_yticks([])\n",
        "  ax[0].set_title('Colored by true label')\n",
        "  # Color each point based on its cluster label\n",
        "  ax[1].scatter(digits_proj[:, 0], digits_proj[:, 1], c=labels, cmap=cm)\n",
        "  for digit in range(10):\n",
        "    i = np.where(labels == digit)[0][0]\n",
        "    c = kmeans.cluster_centers_[np.argmin(np.linalg.norm(kmeans.cluster_centers_ - digits_proj[i], axis=1))]\n",
        "    ax[1].text(c[0], c[1], str(digit), {'backgroundcolor': 'white', 'weight': 'bold', 'size': 12, })\n",
        "  ax[1].set_xticks([])\n",
        "  ax[1].set_yticks([])\n",
        "  ax[1].set_title('Colored by cluster label')"
      ],
      "execution_count": 0,
      "outputs": []
    }
  ]
}