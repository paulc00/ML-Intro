{
  "nbformat": 4,
  "nbformat_minor": 0,
  "metadata": {
    "colab": {
      "name": "Scorecard_ODSC.ipynb",
      "provenance": [],
      "collapsed_sections": [],
      "toc_visible": true,
      "include_colab_link": true
    },
    "kernelspec": {
      "name": "python3",
      "display_name": "Python 3"
    }
  },
  "cells": [
    {
      "cell_type": "markdown",
      "metadata": {
        "id": "view-in-github",
        "colab_type": "text"
      },
      "source": [
        "<a href=\"https://colab.research.google.com/github/paulc00/ML-Intro/blob/master/notebooks/extras/Scorecard_ODSC.ipynb\" target=\"_parent\"><img src=\"https://colab.research.google.com/assets/colab-badge.svg\" alt=\"Open In Colab\"/></a>"
      ]
    },
    {
      "cell_type": "markdown",
      "metadata": {
        "id": "bIu_3FE4hdfY",
        "colab_type": "text"
      },
      "source": [
        "ScorecardODSC_7Aug\n",
        "Created on Mon Aug  5 09:43:55 2019\n",
        "@author: KAVITA DWIVEDI\n",
        "\"\"\"\n",
        "\n",
        "Edited: Paul Conway, Sep 2019\n",
        "\n",
        "This shows the full machine learning pipeline for a realistic problem: financial credit scoring.\n",
        "\n",
        "*See the acompanying slides for further explanation*"
      ]
    },
    {
      "cell_type": "markdown",
      "metadata": {
        "id": "uvEtulnyeJ4d",
        "colab_type": "text"
      },
      "source": [
        "## Sec 1. Importing libraries"
      ]
    },
    {
      "cell_type": "markdown",
      "metadata": {
        "id": "uxG87n9-0KiB",
        "colab_type": "text"
      },
      "source": [
        "Here we import the necessary python packages"
      ]
    },
    {
      "cell_type": "code",
      "metadata": {
        "id": "07yORTRSheuo",
        "colab_type": "code",
        "colab": {}
      },
      "source": [
        "#Importing the Libraries\n",
        "\n",
        "# Pandas for data manipulation\n",
        "import pandas as pd\n",
        "from pandas.core import algorithms\n",
        "\n",
        "# Numpy for vectors, matrices and linear algebra\n",
        "import numpy as np\n",
        "\n",
        "# matplotlib and Seaborn for graphing\n",
        "import matplotlib.pyplot as plt\n",
        "%matplotlib inline\n",
        "import seaborn as sns\n",
        "\n",
        "# scikit utilities for preprocessing, model selection and measuring performance\n",
        "from sklearn.preprocessing import LabelEncoder\n",
        "from sklearn.model_selection import train_test_split\n",
        "from sklearn.metrics import (classification_report, \n",
        "                             confusion_matrix, \n",
        "                             accuracy_score, \n",
        "                             roc_curve, \n",
        "                             auc)\n",
        "\n",
        "# ML models\n",
        "from sklearn.svm import SVC\n",
        "from sklearn.ensemble import RandomForestClassifier, GradientBoostingClassifier\n",
        "\n",
        "# We'll use variane inflation factor to do some feature selection\n",
        "from statsmodels.stats.outliers_influence import variance_inflation_factor\n",
        "\n",
        "# Some special dictionary types \n",
        "from collections import defaultdict, OrderedDict\n",
        "\n",
        "from pathlib import Path  # for chekcing if we cloned the repository already\n",
        "\n",
        "from scipy.stats import spearmanr\n",
        "import re\n",
        "import traceback\n",
        "import string\n",
        "\n",
        "from IPython.core.display import HTML\n",
        "\n",
        "from pprint import pprint"
      ],
      "execution_count": 0,
      "outputs": []
    },
    {
      "cell_type": "code",
      "metadata": {
        "id": "oqA1o1TGmH40",
        "colab_type": "code",
        "colab": {}
      },
      "source": [
        "# set random_state, to ensure results look the same every time\n",
        "rs = 2"
      ],
      "execution_count": 0,
      "outputs": []
    },
    {
      "cell_type": "markdown",
      "metadata": {
        "id": "_ADUoWEjecOl",
        "colab_type": "text"
      },
      "source": [
        "## Sec 2. Cloning The Github"
      ]
    },
    {
      "cell_type": "code",
      "metadata": {
        "id": "Ahr7w8BJhjIY",
        "colab_type": "code",
        "colab": {}
      },
      "source": [
        "if not Path(\"ScorecardODSC\").is_dir():\n",
        "  !git clone https://github.com/kavitablockyto/ScorecardODSC.git "
      ],
      "execution_count": 0,
      "outputs": []
    },
    {
      "cell_type": "markdown",
      "metadata": {
        "id": "w8utPT_kerkr",
        "colab_type": "text"
      },
      "source": [
        "##Section 3. Importing the Dataset and Sampling"
      ]
    },
    {
      "cell_type": "code",
      "metadata": {
        "id": "BClVz4m1iBrn",
        "colab_type": "code",
        "colab": {}
      },
      "source": [
        "# defining path of Collection_Home3.xlsx\n",
        "path=(\"/content/ScorecardODSC/Collection_Home3.xlsx\")\n",
        "\n",
        "#Reading the Dataset\n",
        "\n",
        "df = pd.read_excel(path)"
      ],
      "execution_count": 0,
      "outputs": []
    },
    {
      "cell_type": "code",
      "metadata": {
        "id": "9I_Ew4Njni0c",
        "colab_type": "code",
        "colab": {
          "base_uri": "https://localhost:8080/",
          "height": 309
        },
        "outputId": "f3476838-0bf8-46df-d3f5-c601b56a760a"
      },
      "source": [
        "data_sample = df.sample(frac=0.2, random_state=rs)\n",
        "data_sample.head()"
      ],
      "execution_count": 5,
      "outputs": [
        {
          "output_type": "execute_result",
          "data": {
            "text/html": [
              "<div>\n",
              "<style scoped>\n",
              "    .dataframe tbody tr th:only-of-type {\n",
              "        vertical-align: middle;\n",
              "    }\n",
              "\n",
              "    .dataframe tbody tr th {\n",
              "        vertical-align: top;\n",
              "    }\n",
              "\n",
              "    .dataframe thead th {\n",
              "        text-align: right;\n",
              "    }\n",
              "</style>\n",
              "<table border=\"1\" class=\"dataframe\">\n",
              "  <thead>\n",
              "    <tr style=\"text-align: right;\">\n",
              "      <th></th>\n",
              "      <th>CODE_GENDER</th>\n",
              "      <th>NAME_INCOME_TYPE</th>\n",
              "      <th>NAME_EDUCATION_TYPE</th>\n",
              "      <th>NAME_FAMILY_STATUS</th>\n",
              "      <th>DAYS_BIRTH</th>\n",
              "      <th>DAYS_EMPLOYED</th>\n",
              "      <th>DAYS_REGISTRATION</th>\n",
              "      <th>DAYS_ID_PUBLISH</th>\n",
              "      <th>FLAG_EMP_PHONE</th>\n",
              "      <th>FLAG_WORK_PHONE</th>\n",
              "      <th>FLAG_PHONE</th>\n",
              "      <th>OCCUPATION_TYPE</th>\n",
              "      <th>REG_CITY_NOT_LIVE_CITY</th>\n",
              "      <th>REG_CITY_NOT_WORK_CITY</th>\n",
              "      <th>ORGANIZATION_TYPE</th>\n",
              "      <th>DAYS_LAST_PHONE_CHANGE</th>\n",
              "      <th>TARGET</th>\n",
              "    </tr>\n",
              "  </thead>\n",
              "  <tbody>\n",
              "    <tr>\n",
              "      <th>177958</th>\n",
              "      <td>F</td>\n",
              "      <td>Working</td>\n",
              "      <td>Higher education</td>\n",
              "      <td>Married</td>\n",
              "      <td>10512</td>\n",
              "      <td>2147</td>\n",
              "      <td>4746.0</td>\n",
              "      <td>438</td>\n",
              "      <td>1</td>\n",
              "      <td>1</td>\n",
              "      <td>0</td>\n",
              "      <td>Managers</td>\n",
              "      <td>0</td>\n",
              "      <td>1</td>\n",
              "      <td>Business Entity Type 3</td>\n",
              "      <td>105</td>\n",
              "      <td>0</td>\n",
              "    </tr>\n",
              "    <tr>\n",
              "      <th>128842</th>\n",
              "      <td>F</td>\n",
              "      <td>Pensioner</td>\n",
              "      <td>Secondary / secondary special</td>\n",
              "      <td>Widow</td>\n",
              "      <td>21497</td>\n",
              "      <td>365243</td>\n",
              "      <td>8186.0</td>\n",
              "      <td>4042</td>\n",
              "      <td>0</td>\n",
              "      <td>0</td>\n",
              "      <td>0</td>\n",
              "      <td>NaN</td>\n",
              "      <td>0</td>\n",
              "      <td>0</td>\n",
              "      <td>XNA</td>\n",
              "      <td>2300</td>\n",
              "      <td>0</td>\n",
              "    </tr>\n",
              "    <tr>\n",
              "      <th>146276</th>\n",
              "      <td>F</td>\n",
              "      <td>Commercial associate</td>\n",
              "      <td>Higher education</td>\n",
              "      <td>Single / not married</td>\n",
              "      <td>20031</td>\n",
              "      <td>6874</td>\n",
              "      <td>4092.0</td>\n",
              "      <td>3589</td>\n",
              "      <td>1</td>\n",
              "      <td>0</td>\n",
              "      <td>1</td>\n",
              "      <td>Managers</td>\n",
              "      <td>0</td>\n",
              "      <td>0</td>\n",
              "      <td>Other</td>\n",
              "      <td>545</td>\n",
              "      <td>0</td>\n",
              "    </tr>\n",
              "    <tr>\n",
              "      <th>259956</th>\n",
              "      <td>M</td>\n",
              "      <td>Commercial associate</td>\n",
              "      <td>Secondary / secondary special</td>\n",
              "      <td>Married</td>\n",
              "      <td>11835</td>\n",
              "      <td>5047</td>\n",
              "      <td>28.0</td>\n",
              "      <td>4235</td>\n",
              "      <td>1</td>\n",
              "      <td>0</td>\n",
              "      <td>0</td>\n",
              "      <td>Drivers</td>\n",
              "      <td>0</td>\n",
              "      <td>0</td>\n",
              "      <td>Business Entity Type 3</td>\n",
              "      <td>768</td>\n",
              "      <td>0</td>\n",
              "    </tr>\n",
              "    <tr>\n",
              "      <th>42348</th>\n",
              "      <td>F</td>\n",
              "      <td>Pensioner</td>\n",
              "      <td>Secondary / secondary special</td>\n",
              "      <td>Married</td>\n",
              "      <td>23096</td>\n",
              "      <td>365243</td>\n",
              "      <td>9705.0</td>\n",
              "      <td>4078</td>\n",
              "      <td>0</td>\n",
              "      <td>0</td>\n",
              "      <td>1</td>\n",
              "      <td>NaN</td>\n",
              "      <td>0</td>\n",
              "      <td>0</td>\n",
              "      <td>XNA</td>\n",
              "      <td>582</td>\n",
              "      <td>0</td>\n",
              "    </tr>\n",
              "  </tbody>\n",
              "</table>\n",
              "</div>"
            ],
            "text/plain": [
              "       CODE_GENDER      NAME_INCOME_TYPE  ... DAYS_LAST_PHONE_CHANGE TARGET\n",
              "177958           F               Working  ...                    105      0\n",
              "128842           F             Pensioner  ...                   2300      0\n",
              "146276           F  Commercial associate  ...                    545      0\n",
              "259956           M  Commercial associate  ...                    768      0\n",
              "42348            F             Pensioner  ...                    582      0\n",
              "\n",
              "[5 rows x 17 columns]"
            ]
          },
          "metadata": {
            "tags": []
          },
          "execution_count": 5
        }
      ]
    },
    {
      "cell_type": "code",
      "metadata": {
        "id": "_aaMtEI4ie9P",
        "colab_type": "code",
        "outputId": "56315a75-956d-419d-e8da-4ef341b97bab",
        "colab": {
          "base_uri": "https://localhost:8080/",
          "height": 68
        }
      },
      "source": [
        "# Counting Target Variable numbers\n",
        "df.TARGET.value_counts()"
      ],
      "execution_count": 6,
      "outputs": [
        {
          "output_type": "execute_result",
          "data": {
            "text/plain": [
              "0    255011\n",
              "1     23221\n",
              "Name: TARGET, dtype: int64"
            ]
          },
          "metadata": {
            "tags": []
          },
          "execution_count": 6
        }
      ]
    },
    {
      "cell_type": "code",
      "metadata": {
        "id": "YNJR770nuMJW",
        "colab_type": "code",
        "outputId": "565c140a-721a-49c4-c2d0-789795b68405",
        "colab": {
          "base_uri": "https://localhost:8080/",
          "height": 68
        }
      },
      "source": [
        "\n",
        "data_sample.TARGET.value_counts()"
      ],
      "execution_count": 7,
      "outputs": [
        {
          "output_type": "execute_result",
          "data": {
            "text/plain": [
              "0    50850\n",
              "1     4796\n",
              "Name: TARGET, dtype: int64"
            ]
          },
          "metadata": {
            "tags": []
          },
          "execution_count": 7
        }
      ]
    },
    {
      "cell_type": "code",
      "metadata": {
        "id": "ZJXRS0VKihRW",
        "colab_type": "code",
        "outputId": "a25425d6-d7b9-4998-9080-f548f5caa687",
        "colab": {
          "base_uri": "https://localhost:8080/",
          "height": 68
        }
      },
      "source": [
        "#Descriptive Stats\n",
        "#Target Variable Count in data and sample\n",
        "\n",
        "df.TARGET.value_counts()/len(df)\n",
        "data_sample.TARGET.value_counts()/len(data_sample)"
      ],
      "execution_count": 8,
      "outputs": [
        {
          "output_type": "execute_result",
          "data": {
            "text/plain": [
              "0    0.913812\n",
              "1    0.086188\n",
              "Name: TARGET, dtype: float64"
            ]
          },
          "metadata": {
            "tags": []
          },
          "execution_count": 8
        }
      ]
    },
    {
      "cell_type": "code",
      "metadata": {
        "id": "nAE3McK-ijPm",
        "colab_type": "code",
        "outputId": "0cca8b7b-aebb-417a-c3ad-ebee35ef1a89",
        "colab": {
          "base_uri": "https://localhost:8080/",
          "height": 317
        }
      },
      "source": [
        "# Data Description\n",
        "data_sample.describe()"
      ],
      "execution_count": 9,
      "outputs": [
        {
          "output_type": "execute_result",
          "data": {
            "text/html": [
              "<div>\n",
              "<style scoped>\n",
              "    .dataframe tbody tr th:only-of-type {\n",
              "        vertical-align: middle;\n",
              "    }\n",
              "\n",
              "    .dataframe tbody tr th {\n",
              "        vertical-align: top;\n",
              "    }\n",
              "\n",
              "    .dataframe thead th {\n",
              "        text-align: right;\n",
              "    }\n",
              "</style>\n",
              "<table border=\"1\" class=\"dataframe\">\n",
              "  <thead>\n",
              "    <tr style=\"text-align: right;\">\n",
              "      <th></th>\n",
              "      <th>DAYS_BIRTH</th>\n",
              "      <th>DAYS_EMPLOYED</th>\n",
              "      <th>DAYS_REGISTRATION</th>\n",
              "      <th>DAYS_ID_PUBLISH</th>\n",
              "      <th>FLAG_EMP_PHONE</th>\n",
              "      <th>FLAG_WORK_PHONE</th>\n",
              "      <th>FLAG_PHONE</th>\n",
              "      <th>REG_CITY_NOT_LIVE_CITY</th>\n",
              "      <th>REG_CITY_NOT_WORK_CITY</th>\n",
              "      <th>DAYS_LAST_PHONE_CHANGE</th>\n",
              "      <th>TARGET</th>\n",
              "    </tr>\n",
              "  </thead>\n",
              "  <tbody>\n",
              "    <tr>\n",
              "      <th>count</th>\n",
              "      <td>55646.000000</td>\n",
              "      <td>55646.000000</td>\n",
              "      <td>55646.000000</td>\n",
              "      <td>55646.000000</td>\n",
              "      <td>55646.000000</td>\n",
              "      <td>55646.000000</td>\n",
              "      <td>55646.000000</td>\n",
              "      <td>55646.000000</td>\n",
              "      <td>55646.000000</td>\n",
              "      <td>55646.000000</td>\n",
              "      <td>55646.000000</td>\n",
              "    </tr>\n",
              "    <tr>\n",
              "      <th>mean</th>\n",
              "      <td>16140.211893</td>\n",
              "      <td>69265.894781</td>\n",
              "      <td>5008.039482</td>\n",
              "      <td>3011.903803</td>\n",
              "      <td>0.815710</td>\n",
              "      <td>0.203033</td>\n",
              "      <td>0.282356</td>\n",
              "      <td>0.078119</td>\n",
              "      <td>0.230637</td>\n",
              "      <td>972.483934</td>\n",
              "      <td>0.086188</td>\n",
              "    </tr>\n",
              "    <tr>\n",
              "      <th>std</th>\n",
              "      <td>4336.041155</td>\n",
              "      <td>140683.409755</td>\n",
              "      <td>3518.077016</td>\n",
              "      <td>1497.841880</td>\n",
              "      <td>0.387724</td>\n",
              "      <td>0.402261</td>\n",
              "      <td>0.450150</td>\n",
              "      <td>0.268361</td>\n",
              "      <td>0.421244</td>\n",
              "      <td>830.864961</td>\n",
              "      <td>0.280644</td>\n",
              "    </tr>\n",
              "    <tr>\n",
              "      <th>min</th>\n",
              "      <td>7489.000000</td>\n",
              "      <td>2.000000</td>\n",
              "      <td>0.000000</td>\n",
              "      <td>0.000000</td>\n",
              "      <td>0.000000</td>\n",
              "      <td>0.000000</td>\n",
              "      <td>0.000000</td>\n",
              "      <td>0.000000</td>\n",
              "      <td>0.000000</td>\n",
              "      <td>0.000000</td>\n",
              "      <td>0.000000</td>\n",
              "    </tr>\n",
              "    <tr>\n",
              "      <th>25%</th>\n",
              "      <td>12533.000000</td>\n",
              "      <td>956.000000</td>\n",
              "      <td>2065.000000</td>\n",
              "      <td>1770.250000</td>\n",
              "      <td>1.000000</td>\n",
              "      <td>0.000000</td>\n",
              "      <td>0.000000</td>\n",
              "      <td>0.000000</td>\n",
              "      <td>0.000000</td>\n",
              "      <td>274.000000</td>\n",
              "      <td>0.000000</td>\n",
              "    </tr>\n",
              "    <tr>\n",
              "      <th>50%</th>\n",
              "      <td>15869.000000</td>\n",
              "      <td>2266.000000</td>\n",
              "      <td>4520.500000</td>\n",
              "      <td>3271.000000</td>\n",
              "      <td>1.000000</td>\n",
              "      <td>0.000000</td>\n",
              "      <td>0.000000</td>\n",
              "      <td>0.000000</td>\n",
              "      <td>0.000000</td>\n",
              "      <td>779.000000</td>\n",
              "      <td>0.000000</td>\n",
              "    </tr>\n",
              "    <tr>\n",
              "      <th>75%</th>\n",
              "      <td>19726.000000</td>\n",
              "      <td>6001.750000</td>\n",
              "      <td>7507.750000</td>\n",
              "      <td>4308.000000</td>\n",
              "      <td>1.000000</td>\n",
              "      <td>0.000000</td>\n",
              "      <td>1.000000</td>\n",
              "      <td>0.000000</td>\n",
              "      <td>0.000000</td>\n",
              "      <td>1581.000000</td>\n",
              "      <td>0.000000</td>\n",
              "    </tr>\n",
              "    <tr>\n",
              "      <th>max</th>\n",
              "      <td>25197.000000</td>\n",
              "      <td>365243.000000</td>\n",
              "      <td>24672.000000</td>\n",
              "      <td>6258.000000</td>\n",
              "      <td>1.000000</td>\n",
              "      <td>1.000000</td>\n",
              "      <td>1.000000</td>\n",
              "      <td>1.000000</td>\n",
              "      <td>1.000000</td>\n",
              "      <td>4121.000000</td>\n",
              "      <td>1.000000</td>\n",
              "    </tr>\n",
              "  </tbody>\n",
              "</table>\n",
              "</div>"
            ],
            "text/plain": [
              "         DAYS_BIRTH  DAYS_EMPLOYED  ...  DAYS_LAST_PHONE_CHANGE        TARGET\n",
              "count  55646.000000   55646.000000  ...            55646.000000  55646.000000\n",
              "mean   16140.211893   69265.894781  ...              972.483934      0.086188\n",
              "std     4336.041155  140683.409755  ...              830.864961      0.280644\n",
              "min     7489.000000       2.000000  ...                0.000000      0.000000\n",
              "25%    12533.000000     956.000000  ...              274.000000      0.000000\n",
              "50%    15869.000000    2266.000000  ...              779.000000      0.000000\n",
              "75%    19726.000000    6001.750000  ...             1581.000000      0.000000\n",
              "max    25197.000000  365243.000000  ...             4121.000000      1.000000\n",
              "\n",
              "[8 rows x 11 columns]"
            ]
          },
          "metadata": {
            "tags": []
          },
          "execution_count": 9
        }
      ]
    },
    {
      "cell_type": "markdown",
      "metadata": {
        "id": "F6ZFDWAne-UA",
        "colab_type": "text"
      },
      "source": [
        "##Sec 4. Data Preparation "
      ]
    },
    {
      "cell_type": "code",
      "metadata": {
        "id": "LnfcVzbDoYLc",
        "colab_type": "code",
        "outputId": "84c1225e-168e-4478-fdf2-d21f021fec7b",
        "colab": {
          "base_uri": "https://localhost:8080/",
          "height": 420
        }
      },
      "source": [
        "#Correlation Plot\n",
        "corr = data_sample.corr()\n",
        "\n",
        "# Plot a heatmap fo the correlations using Seaborn\n",
        "sns.heatmap(corr, \n",
        "        xticklabels=corr.columns,\n",
        "        yticklabels=corr.columns)"
      ],
      "execution_count": 10,
      "outputs": [
        {
          "output_type": "execute_result",
          "data": {
            "text/plain": [
              "<matplotlib.axes._subplots.AxesSubplot at 0x7fec49a2fcc0>"
            ]
          },
          "metadata": {
            "tags": []
          },
          "execution_count": 10
        },
        {
          "output_type": "display_data",
          "data": {
            "image/png": "[encoded data removed]",
            "text/plain": [
              "<Figure size 432x288 with 2 Axes>"
            ]
          },
          "metadata": {
            "tags": []
          }
        }
      ]
    },
    {
      "cell_type": "code",
      "metadata": {
        "id": "0fX8Py6pkv7e",
        "colab_type": "code",
        "outputId": "6fa04000-eb81-42ae-bdef-7c28ef0b7fde",
        "colab": {
          "base_uri": "https://localhost:8080/",
          "height": 114
        }
      },
      "source": [
        "# Missing Data\n",
        "\n",
        "# Function to calculate missing values by column# Funct \n",
        "def missing_values_table(data_sample):\n",
        "        # Total missing values\n",
        "        mis_val = data_sample.isnull().sum()\n",
        "        \n",
        "        # Percentage of missing values\n",
        "        mis_val_percent = 100 * data_sample.isnull().sum() / len(data_sample)\n",
        "        \n",
        "        # Make a table with the results\n",
        "        mis_val_table = pd.concat([mis_val , mis_val_percent], axis=1)\n",
        "        \n",
        "        # Rename the columns\n",
        "        mis_val_table_ren_columns = mis_val_table.rename(\n",
        "        columns = {0 : 'Missing Values', 1 : '% of Total Values'})\n",
        "        \n",
        "        # Sort the table by percentage of missing descending\n",
        "        mis_val_table_ren_columns = mis_val_table_ren_columns[\n",
        "            mis_val_table_ren_columns.iloc[:, 1] != 0].sort_values(\n",
        "        '% of Total Values', ascending=False).round(1)\n",
        "        \n",
        "        # Print some summary information\n",
        "        print (\"Your selected dataframe has \" + str(data_sample.shape[1]) + \" columns.\\n\"      \n",
        "            \"There are \" + str(mis_val_table_ren_columns.shape[0]) +\n",
        "              \" columns that have missing values.\")\n",
        "        \n",
        "        # Return the dataframe with missing information\n",
        "        return mis_val_table_ren_columns\n",
        "\n",
        "# Missing values statistics\n",
        "missing_values = missing_values_table(data_sample)\n",
        "missing_values.head(20)"
      ],
      "execution_count": 11,
      "outputs": [
        {
          "output_type": "stream",
          "text": [
            "Your selected dataframe has 17 columns.\n",
            "There are 1 columns that have missing values.\n"
          ],
          "name": "stdout"
        },
        {
          "output_type": "execute_result",
          "data": {
            "text/html": [
              "<div>\n",
              "<style scoped>\n",
              "    .dataframe tbody tr th:only-of-type {\n",
              "        vertical-align: middle;\n",
              "    }\n",
              "\n",
              "    .dataframe tbody tr th {\n",
              "        vertical-align: top;\n",
              "    }\n",
              "\n",
              "    .dataframe thead th {\n",
              "        text-align: right;\n",
              "    }\n",
              "</style>\n",
              "<table border=\"1\" class=\"dataframe\">\n",
              "  <thead>\n",
              "    <tr style=\"text-align: right;\">\n",
              "      <th></th>\n",
              "      <th>Missing Values</th>\n",
              "      <th>% of Total Values</th>\n",
              "    </tr>\n",
              "  </thead>\n",
              "  <tbody>\n",
              "    <tr>\n",
              "      <th>OCCUPATION_TYPE</th>\n",
              "      <td>17541</td>\n",
              "      <td>31.5</td>\n",
              "    </tr>\n",
              "  </tbody>\n",
              "</table>\n",
              "</div>"
            ],
            "text/plain": [
              "                 Missing Values  % of Total Values\n",
              "OCCUPATION_TYPE           17541               31.5"
            ]
          },
          "metadata": {
            "tags": []
          },
          "execution_count": 11
        }
      ]
    },
    {
      "cell_type": "code",
      "metadata": {
        "id": "XjtD6CMFpasB",
        "colab_type": "code",
        "colab": {}
      },
      "source": [
        "def transform_data(data):\n",
        "  # Data transformation\n",
        "  # Convert categorical values to numeric using label encoder\n",
        "  # using defaultdict in this way allows us to fit_transform or inverse_transform\n",
        "  # a categorical variable \n",
        "  d = defaultdict(LabelEncoder)\n",
        "\n",
        "  # Encoding the categorical variable\n",
        "  fit = data.select_dtypes(include=['object']).fillna('NA').apply(lambda x: d[x.name].fit_transform(x))\n",
        "\n",
        "  # Convert the categorical columns based on encoding\n",
        "  for i in list(d.keys()):\n",
        "      data[i] = d[i].transform(data[i].fillna('NA'))\n",
        "      \n",
        "      features = data[data.columns.difference(['TARGET'])]\n",
        "  return features.fillna(0), data['TARGET']\n",
        "\n",
        "features, labels = transform_data(data_sample)"
      ],
      "execution_count": 0,
      "outputs": []
    },
    {
      "cell_type": "markdown",
      "metadata": {
        "id": "hdthwV2BeivP",
        "colab_type": "text"
      },
      "source": [
        "Weight of evidence (WOE) and Information value (IV) are widely used in credit scoring to measure the separation of good vs bad customers.\n",
        "$$\n",
        "\\begin{align}\n",
        "WOE & = \\ln \\left( \\frac{positive\\%}{negative\\%} \\right)\\\\\n",
        "IV & = \\sum (positive\\% - negative\\%) \\times WOE\n",
        "\\end{align}\n",
        "$$\n",
        "\n",
        "The IV value can be used to select variables quickly:\n",
        "\n",
        "| Information Value | Predictive Power |\n",
        "|---|---|\n",
        "| < 0.02 | Useless for prediction |\n",
        "| 0.02 - 0.1 | Weak predictor |\n",
        "| 0.1 - 0.3 | Medium predictor |\n",
        "| 0.3 - 0.5 | Strong predictor |\n",
        "| > 0.5 | Possibly too good to be true |\n",
        "\n",
        "From: \n",
        "[https://medium.com/@sundarstyles89/weight-of-evidence-and-information-value-using-python-6f05072e83eb](https://medium.com/@sundarstyles89/weight-of-evidence-and-information-value-using-python-6f05072e83eb)"
      ]
    },
    {
      "cell_type": "code",
      "metadata": {
        "id": "GKY2OAIEpjnA",
        "colab_type": "code",
        "colab": {}
      },
      "source": [
        "# Weight of evidence (WOE) and Information value (IV)\n",
        "# Ref: https://github.com/Sundar0989/WOE-and-IV\n",
        "\n",
        "# Maximum number of bins (categories) for numeric variable binning.\n",
        "max_bin = 20\n",
        "# Ensure binning produces at least 2 categories.\n",
        "force_bin = 3\n",
        "\n",
        "\n",
        "# define a monotonic numerical binning function for numeric values\n",
        "def mono_bin(Y, X, n = max_bin):\n",
        "    \n",
        "    df1 = pd.DataFrame({\"X\": X, \"Y\": Y})\n",
        "    justmiss = df1[['X', 'Y']][df1.X.isnull()]\n",
        "    notmiss = df1[['X', 'Y']][df1.X.notnull()]\n",
        "    r = 0\n",
        "    while np.abs(r) < 1:\n",
        "        try:\n",
        "            d1 = pd.DataFrame({\"X\": notmiss.X, \"Y\": notmiss.Y, \n",
        "                               \"Bucket\": pd.qcut(notmiss.X, n)})\n",
        "            d2 = d1.groupby('Bucket', as_index=True)\n",
        "            r, p = spearmanr(d2.mean().X, d2.mean().Y)\n",
        "            n = n - 1 \n",
        "        except Exception as e:\n",
        "            n = n - 1\n",
        "\n",
        "    if len(d2) == 1:\n",
        "        n = force_bin         \n",
        "        bins = algorithms.quantile(notmiss.X, np.linspace(0, 1, n))\n",
        "        if len(np.unique(bins)) == 2:\n",
        "            bins = np.insert(bins, 0, 1)\n",
        "            bins[1] = bins[1]-(bins[1]/2)\n",
        "        d1 = pd.DataFrame({\"X\": notmiss.X, \"Y\": notmiss.Y, \n",
        "                           \"Bucket\": pd.cut(notmiss.X, np.unique(bins), \n",
        "                                            include_lowest=True)}) \n",
        "        d2 = d1.groupby('Bucket', as_index=True)\n",
        "    \n",
        "    d3 = pd.DataFrame({}, index=[])\n",
        "    d3[\"MIN_VALUE\"] = d2.min().X\n",
        "    d3[\"MAX_VALUE\"] = d2.max().X\n",
        "    d3[\"COUNT\"] = d2.count().Y\n",
        "    d3[\"EVENT\"] = d2.sum().Y\n",
        "    d3[\"NONEVENT\"] = d2.count().Y - d2.sum().Y\n",
        "    d3=d3.reset_index(drop=True)\n",
        "    \n",
        "    if len(justmiss.index) > 0:\n",
        "        d4 = pd.DataFrame({'MIN_VALUE':np.nan}, index=[0])\n",
        "        d4[\"MAX_VALUE\"] = np.nan\n",
        "        d4[\"COUNT\"] = justmiss.count().Y\n",
        "        d4[\"EVENT\"] = justmiss.sum().Y\n",
        "        d4[\"NONEVENT\"] = justmiss.count().Y - justmiss.sum().Y\n",
        "        d3 = d3.append(d4, ignore_index=True)\n",
        "    \n",
        "    d3[\"EVENT_RATE\"] = d3.EVENT/d3.COUNT\n",
        "    d3[\"NON_EVENT_RATE\"] = d3.NONEVENT/d3.COUNT\n",
        "    d3[\"DIST_EVENT\"] = d3.EVENT/d3.sum().EVENT\n",
        "    d3[\"DIST_NON_EVENT\"] = d3.NONEVENT/d3.sum().NONEVENT\n",
        "    d3[\"WOE\"] = np.log(d3.DIST_EVENT/d3.DIST_NON_EVENT)\n",
        "    d3[\"IV\"] = (d3.DIST_EVENT-d3.DIST_NON_EVENT) * np.log(d3.DIST_EVENT/d3.DIST_NON_EVENT)\n",
        "    d3[\"VAR_NAME\"] = \"VAR\"\n",
        "    d3 = d3[['VAR_NAME', 'MIN_VALUE', 'MAX_VALUE', 'COUNT', 'EVENT', \n",
        "             'EVENT_RATE', 'NONEVENT', 'NON_EVENT_RATE', 'DIST_EVENT', \n",
        "             'DIST_NON_EVENT', 'WOE', 'IV']]       \n",
        "    d3 = d3.replace([np.inf, -np.inf], 0)\n",
        "    d3.IV = d3.IV.sum()\n",
        "    \n",
        "    return(d3)\n",
        "\n",
        "\n",
        "# De# define a monotocharacterical binning funclues\n",
        "def char_bin(Y, X):\n",
        "        \n",
        "    df1 = pd.DataFrame({\"X\": X, \"Y\": Y})\n",
        "    justmiss = df1[['X', 'Y']][df1.X.isnull()]\n",
        "    notmiss = df1[['X', 'Y']][df1.X.notnull()]    \n",
        "    df2 = notmiss.groupby('X', as_index=True)\n",
        "    \n",
        "    d3 = pd.DataFrame({}, index=[])\n",
        "    d3[\"COUNT\"] = df2.count().Y\n",
        "    d3[\"MIN_VALUE\"] = df2.sum().Y.index\n",
        "    d3[\"MAX_VALUE\"] = d3[\"MIN_VALUE\"]\n",
        "    d3[\"EVENT\"] = df2.sum().Y\n",
        "    d3[\"NONEVENT\"] = df2.count().Y - df2.sum().Y\n",
        "    \n",
        "    if len(justmiss.index) > 0:\n",
        "        d4 = pd.DataFrame({'MIN_VALUE':np.nan}, index=[0])\n",
        "        d4[\"MAX_VALUE\"] = np.nan\n",
        "        d4[\"COUNT\"] = justmiss.count().Y\n",
        "        d4[\"EVENT\"] = justmiss.sum().Y\n",
        "        d4[\"NONEVENT\"] = justmiss.count().Y - justmiss.sum().Y\n",
        "        d3 = d3.append(d4, ignore_index=True)\n",
        "    \n",
        "    d3[\"EVENT_RATE\"] = d3.EVENT/d3.COUNT\n",
        "    d3[\"NON_EVENT_RATE\"] = d3.NONEVENT/d3.COUNT\n",
        "    d3[\"DIST_EVENT\"] = d3.EVENT/d3.sum().EVENT\n",
        "    d3[\"DIST_NON_EVENT\"] = d3.NONEVENT/d3.sum().NONEVENT\n",
        "    d3[\"WOE\"] = np.log(d3.DIST_EVENT/d3.DIST_NON_EVENT)\n",
        "    d3[\"IV\"] = (d3.DIST_EVENT-d3.DIST_NON_EVENT)*np.log(d3.DIST_EVENT/d3.DIST_NON_EVENT)\n",
        "    d3[\"VAR_NAME\"] = \"VAR\"\n",
        "    d3 = d3[['VAR_NAME', 'MIN_VALUE', 'MAX_VALUE', 'COUNT', 'EVENT', 'EVENT_RATE', 'NONEVENT', 'NON_EVENT_RATE', 'DIST_EVENT', 'DIST_NON_EVENT', 'WOE', 'IV']]      \n",
        "    d3 = d3.replace([np.inf, -np.inf], 0)\n",
        "    d3.IV = d3.IV.sum()\n",
        "    d3 = d3.reset_index(drop=True)\n",
        "    \n",
        "    return(d3)\n",
        "\n",
        "\n",
        "def data_vars(df1, target):\n",
        "    stack = traceback.extract_stack()\n",
        "    filename, lineno, function_name, code = stack[-2]\n",
        "    vars_name = re.compile(r'\\((.*?)\\).*$').search(code).groups()[0]\n",
        "    final = (re.findall(r\"[\\w']+\", vars_name))[-1]\n",
        "    \n",
        "    x = df1.dtypes.index\n",
        "    count = -1\n",
        "    \n",
        "    for i in x:\n",
        "        if i.upper() not in (final.upper()):\n",
        "            if np.issubdtype(df1[i], np.number) and len(pd.Series.unique(df1[i])) > 2:\n",
        "                conv = mono_bin(target, df1[i])\n",
        "                conv[\"VAR_NAME\"] = i\n",
        "                count = count + 1\n",
        "            else:\n",
        "                conv = char_bin(target, df1[i])\n",
        "                conv[\"VAR_NAME\"] = i            \n",
        "                count = count + 1\n",
        "                \n",
        "            if count == 0:\n",
        "                iv_df = conv\n",
        "            else:\n",
        "                iv_df = iv_df.append(conv, ignore_index=True)\n",
        "    \n",
        "    iv = pd.DataFrame({'IV':iv_df.groupby('VAR_NAME').IV.max()})\n",
        "    iv = iv.reset_index()\n",
        "    return(iv_df,iv)\n",
        "    \n",
        "final_iv, IV = data_vars(data_sample[data_sample.columns.difference(['TARGET'])], data_sample.TARGET)\n",
        "IV = IV.rename(columns={'VAR_NAME':'index'})\n",
        "IV.sort_values(['IV'], ascending=0)\n",
        "\n",
        "hi_ivs = list(IV.loc[IV['IV'] >= 0.02].sort_values(['IV'],ascending=0)['index'])"
      ],
      "execution_count": 0,
      "outputs": []
    },
    {
      "cell_type": "markdown",
      "metadata": {
        "id": "jdgbt3sBgRMQ",
        "colab_type": "text"
      },
      "source": [
        "##Sec 5.  Modeling using Support Vector Machine "
      ]
    },
    {
      "cell_type": "code",
      "metadata": {
        "id": "bNMC8Z3d9NjZ",
        "colab_type": "code",
        "colab": {
          "base_uri": "https://localhost:8080/",
          "height": 34
        },
        "outputId": "484fb120-ebdd-4d39-99d4-575951c57061"
      },
      "source": [
        "# Split our data into training and test sets with the reduced feature set\n",
        "train_features, test_features, train_labels, test_labels = train_test_split(features[hi_ivs], labels, test_size = 0.4, random_state=rs)\n",
        "\n",
        "#Support Vector Machine Classsifier\n",
        "clf = SVC(gamma='scale', random_state=rs)\n",
        "clf.fit(train_features, train_labels)\n",
        "\n",
        "train_pred = clf.predict(train_features)\n",
        "test_pred = clf.predict(test_features)\n",
        "\n",
        "clf.score(test_features, test_labels)"
      ],
      "execution_count": 14,
      "outputs": [
        {
          "output_type": "execute_result",
          "data": {
            "text/plain": [
              "0.9142369378678288"
            ]
          },
          "metadata": {
            "tags": []
          },
          "execution_count": 14
        }
      ]
    },
    {
      "cell_type": "markdown",
      "metadata": {
        "id": "NIfQdbAgyM-x",
        "colab_type": "text"
      },
      "source": [
        "That accuracy looks really impressive ... until you look at how many times each label value was predicted by the model."
      ]
    },
    {
      "cell_type": "code",
      "metadata": {
        "id": "JyzpdF54UPbx",
        "colab_type": "code",
        "outputId": "9ca4310c-1398-4298-ad12-63a013da24cd",
        "colab": {
          "base_uri": "https://localhost:8080/",
          "height": 153
        }
      },
      "source": [
        "print(f\"True label counts:\\n{test_labels.value_counts()}\\n\\nPredicted label counts:\\n{pd.Series(test_pred).value_counts()}\")"
      ],
      "execution_count": 15,
      "outputs": [
        {
          "output_type": "stream",
          "text": [
            "True label counts:\n",
            "0    20350\n",
            "1     1909\n",
            "Name: TARGET, dtype: int64\n",
            "\n",
            "Predicted label counts:\n",
            "0    22259\n",
            "dtype: int64\n"
          ],
          "name": "stdout"
        }
      ]
    },
    {
      "cell_type": "markdown",
      "metadata": {
        "id": "Tza9RNOgyqCx",
        "colab_type": "text"
      },
      "source": [
        "All the values predicted by our model are zero. Prediction accuracy can't give us a good sense of how well the model has worked because almost all of the data we used for training was negative. We need to dig deeper into our results by looking at some metrics related to how well each of the labels are picked relative to their true labels."
      ]
    },
    {
      "cell_type": "markdown",
      "metadata": {
        "id": "OfGgI92JuGOy",
        "colab_type": "text"
      },
      "source": [
        "A **confusion matrix** shows counts of true negatives, true positives, false negatives and false positives.\n",
        "\n",
        "![confusion template](http://drive.google.com/uc?export=view&id=11MS9Xw6kQA7jda9hwc2P3Upr7AfvXvV9)\n"
      ]
    },
    {
      "cell_type": "code",
      "metadata": {
        "id": "vHmoadaixTkY",
        "colab_type": "code",
        "colab": {}
      },
      "source": [
        "def print_confusion_matrix(act_labels, pred_labels):\n",
        "  cm = confusion_matrix(act_labels, pred_labels)\n",
        "  sns.heatmap(cm, annot=True, fmt='d', annot_kws={\"size\": 18}, cmap=sns.color_palette(\"Blues\", 100), cbar=None)\n",
        "  plt.ylabel('True', fontsize=24)\n",
        "  plt.xlabel('Predicted', fontsize=24)\n",
        "  plt.tick_params(axis=\"x\", labelsize=18)\n",
        "  plt.tick_params(axis=\"y\", labelsize=18)\n",
        "  plt.plot()"
      ],
      "execution_count": 0,
      "outputs": []
    },
    {
      "cell_type": "code",
      "metadata": {
        "id": "f66K2My1VXKV",
        "colab_type": "code",
        "outputId": "7dd79a74-9b19-4b74-c178-8b8720e9669a",
        "colab": {
          "base_uri": "https://localhost:8080/",
          "height": 305
        }
      },
      "source": [
        "print_confusion_matrix(test_labels, test_pred)"
      ],
      "execution_count": 17,
      "outputs": [
        {
          "output_type": "display_data",
          "data": {
            "image/png": "[encoded data removed]",
            "text/plain": [
              "<Figure size 432x288 with 1 Axes>"
            ]
          },
          "metadata": {
            "tags": []
          }
        }
      ]
    },
    {
      "cell_type": "markdown",
      "metadata": {
        "id": "btQ3E-VNyFRc",
        "colab_type": "text"
      },
      "source": [
        "\n",
        "The *classification report* in scikit learn gives us:\n",
        "\n",
        "**Precision** talks about how precise/accurate your model is out of those predicted positive. It represents the proportion of *positive results* that are correctly labeled as positive.\n",
        "\n",
        "$$Precision = \\frac{True\\ Positives}{True\\ Positives + False\\ Positives}$$\n",
        "\n",
        "**Recall** measures the proportion of *actual positives* that are correctly identified as such (e.g., the percentage of sick people who are correctly identified as having the condition).\n",
        "\n",
        "$$Recall = \\frac{True\\ Positives}{True\\ Positives + False\\ Negatives}$$\n",
        "\n",
        "**F1 Score** is a measure of accuracy using precision and recall. It takes the occurence of both false positives and false negatives into account.\n",
        "\n",
        "$$F_1\\ Score = 2 \\times \\frac{Precision \\times Recall}{Precision + Recall}$$"
      ]
    },
    {
      "cell_type": "code",
      "metadata": {
        "id": "1_5utArxwm6u",
        "colab_type": "code",
        "outputId": "5334e13e-69d6-4459-d2f5-7476bf85fe1f",
        "colab": {
          "base_uri": "https://localhost:8080/",
          "height": 224
        }
      },
      "source": [
        "print(classification_report(test_labels, test_pred))"
      ],
      "execution_count": 18,
      "outputs": [
        {
          "output_type": "stream",
          "text": [
            "              precision    recall  f1-score   support\n",
            "\n",
            "           0       0.91      1.00      0.96     20350\n",
            "           1       0.00      0.00      0.00      1909\n",
            "\n",
            "    accuracy                           0.91     22259\n",
            "   macro avg       0.46      0.50      0.48     22259\n",
            "weighted avg       0.84      0.91      0.87     22259\n",
            "\n"
          ],
          "name": "stdout"
        },
        {
          "output_type": "stream",
          "text": [
            "/usr/local/lib/python3.6/dist-packages/sklearn/metrics/classification.py:1437: UndefinedMetricWarning: Precision and F-score are ill-defined and being set to 0.0 in labels with no predicted samples.\n",
            "  'precision', 'predicted', average, warn_for)\n"
          ],
          "name": "stderr"
        }
      ]
    },
    {
      "cell_type": "markdown",
      "metadata": {
        "id": "fSRfUBe1fSvh",
        "colab_type": "text"
      },
      "source": [
        "##Sec 6. Modeling using RandomForest"
      ]
    },
    {
      "cell_type": "markdown",
      "metadata": {
        "id": "273aunLCooun",
        "colab_type": "text"
      },
      "source": [
        "The ramdom forest classifier can identify which features are more important for accurate classification. This can be used for feature selection."
      ]
    },
    {
      "cell_type": "code",
      "metadata": {
        "id": "A6SfCCZEqDl5",
        "colab_type": "code",
        "outputId": "115c3527-ba60-4bba-a98e-07be08371232",
        "colab": {
          "base_uri": "https://localhost:8080/",
          "height": 357
        }
      },
      "source": [
        "# Variable Importance\n",
        "clf = RandomForestClassifier(random_state=rs)\n",
        "\n",
        "clf.fit(features, labels)\n",
        "\n",
        "preds = clf.predict(features)\n",
        "\n",
        "VI = pd.DataFrame(clf.feature_importances_, columns = [\"RF\"], index=features.columns)\n",
        "\n",
        "VI = VI.reset_index()\n",
        "\n",
        "print(f\" Feature importance from random forest:\\n{VI.sort_values(['RF'], ascending=0)}\")\n",
        "\n",
        "hi_vis = list(VI.loc[VI['RF'] >= 0.02].sort_values(['RF'],ascending=0)['index'])"
      ],
      "execution_count": 19,
      "outputs": [
        {
          "output_type": "stream",
          "text": [
            "/usr/local/lib/python3.6/dist-packages/sklearn/ensemble/forest.py:245: FutureWarning: The default value of n_estimators will change from 10 in version 0.20 to 100 in 0.22.\n",
            "  \"10 in version 0.20 to 100 in 0.22.\", FutureWarning)\n"
          ],
          "name": "stderr"
        },
        {
          "output_type": "stream",
          "text": [
            " Feature importance from random forest:\n",
            "                     index        RF\n",
            "1               DAYS_BIRTH  0.162431\n",
            "3          DAYS_ID_PUBLISH  0.155856\n",
            "5        DAYS_REGISTRATION  0.154515\n",
            "4   DAYS_LAST_PHONE_CHANGE  0.135749\n",
            "2            DAYS_EMPLOYED  0.132665\n",
            "13       ORGANIZATION_TYPE  0.068926\n",
            "12         OCCUPATION_TYPE  0.057146\n",
            "10      NAME_FAMILY_STATUS  0.034265\n",
            "7               FLAG_PHONE  0.016602\n",
            "9      NAME_EDUCATION_TYPE  0.015661\n",
            "0              CODE_GENDER  0.014713\n",
            "8          FLAG_WORK_PHONE  0.014694\n",
            "11        NAME_INCOME_TYPE  0.014288\n",
            "15  REG_CITY_NOT_WORK_CITY  0.012741\n",
            "14  REG_CITY_NOT_LIVE_CITY  0.008769\n",
            "6           FLAG_EMP_PHONE  0.000980\n"
          ],
          "name": "stdout"
        }
      ]
    },
    {
      "cell_type": "code",
      "metadata": {
        "id": "ATd8xSwnpNMC",
        "colab_type": "code",
        "colab": {}
      },
      "source": [
        "# Split our data into training and test sets\n",
        "train_features, test_features, train_labels, test_labels = train_test_split(features[hi_vis], labels, test_size = 0.2, random_state=rs)\n",
        "\n",
        "# Refit the model with the reduced feature set\n",
        "clf.fit(train_features, train_labels)\n",
        "\n",
        "train_pred = clf.predict(train_features)\n",
        "test_pred = clf.predict(test_features)\n",
        "\n",
        "accuracy_train = accuracy_score(train_pred, train_labels)\n",
        "accuracy_test = accuracy_score(test_pred, test_labels)"
      ],
      "execution_count": 0,
      "outputs": []
    },
    {
      "cell_type": "markdown",
      "metadata": {
        "id": "x4Ls2xtTq1Ui",
        "colab_type": "text"
      },
      "source": [
        "Once again we'll see that accuracy does not necessarily reflect how well the model is performing.\n",
        "\n",
        "We'll look at the **area under the curve (AUC)** for the **receiver operating characteristic (ROC)** curve to get a better idea of true model performance."
      ]
    },
    {
      "cell_type": "code",
      "metadata": {
        "id": "6zMoRIofr1mU",
        "colab_type": "code",
        "colab": {}
      },
      "source": [
        "def plot_roc_curve(fpr, tpr):\n",
        "    # plt.rcParams[\"figure.figsize\"] = (10, 8)\n",
        "    plt.figure(figsize=(10,8))\n",
        "    plt.plot(fpr, tpr, color='orange', label='ROC')\n",
        "    plt.plot([0, 1], [0, 1], color='darkblue', linestyle='--')\n",
        "    plt.xlabel('False Positive Rate')\n",
        "    plt.ylabel('True Positive Rate')\n",
        "    plt.title('Receiver Operating Characteristic (ROC) Curve')\n",
        "    plt.legend()\n",
        "    plt.show()"
      ],
      "execution_count": 0,
      "outputs": []
    },
    {
      "cell_type": "code",
      "metadata": {
        "id": "UZPByjAiqsct",
        "colab_type": "code",
        "colab": {}
      },
      "source": [
        "fpr_train, tpr_train, _ = roc_curve(np.array(train_labels), clf.predict_proba(train_features)[:,1])\n",
        "auc_train = auc(fpr_train, tpr_train)\n",
        "fpr_test, tpr_test, _ = roc_curve(np.array(test_labels), clf.predict_proba(test_features)[:,1])\n",
        "auc_test = auc(fpr_test, tpr_test)"
      ],
      "execution_count": 0,
      "outputs": []
    },
    {
      "cell_type": "code",
      "metadata": {
        "id": "NZoaJS0-qz2p",
        "colab_type": "code",
        "outputId": "eda32174-50ef-4da0-9167-83eb703963bb",
        "colab": {
          "base_uri": "https://localhost:8080/",
          "height": 85
        }
      },
      "source": [
        "print(f\"Training accuracy = {accuracy_train}\\nTest accuracy = {accuracy_test}\")\n",
        "print(f\"Training AUC = {auc_train}\\nTest AUC = {auc_test}\")"
      ],
      "execution_count": 23,
      "outputs": [
        {
          "output_type": "stream",
          "text": [
            "Training accuracy = 0.9820289334171983\n",
            "Test accuracy = 0.9115902964959569\n",
            "Training AUC = 0.9996643803568557\n",
            "Test AUC = 0.5498794965471476\n"
          ],
          "name": "stdout"
        }
      ]
    },
    {
      "cell_type": "code",
      "metadata": {
        "id": "EUz52aQcsKBV",
        "colab_type": "code",
        "outputId": "f52a6a0c-2126-46de-bf87-caec45a0e260",
        "colab": {
          "base_uri": "https://localhost:8080/",
          "height": 513
        }
      },
      "source": [
        "plot_roc_curve(fpr_test, tpr_test)"
      ],
      "execution_count": 24,
      "outputs": [
        {
          "output_type": "display_data",
          "data": {
            "image/png": "[encoded data removed]",
            "text/plain": [
              "<Figure size 720x576 with 1 Axes>"
            ]
          },
          "metadata": {
            "tags": []
          }
        }
      ]
    },
    {
      "cell_type": "code",
      "metadata": {
        "id": "faJQlW0crRV8",
        "colab_type": "code",
        "outputId": "1c5095e9-3a5b-401a-b961-6125cdd90ab6",
        "colab": {
          "base_uri": "https://localhost:8080/",
          "height": 458
        }
      },
      "source": [
        "print_confusion_matrix(test_labels, test_pred)\n",
        "print(classification_report(test_labels, test_pred))"
      ],
      "execution_count": 25,
      "outputs": [
        {
          "output_type": "stream",
          "text": [
            "              precision    recall  f1-score   support\n",
            "\n",
            "           0       0.91      1.00      0.95     10158\n",
            "           1       0.12      0.00      0.00       972\n",
            "\n",
            "    accuracy                           0.91     11130\n",
            "   macro avg       0.52      0.50      0.48     11130\n",
            "weighted avg       0.84      0.91      0.87     11130\n",
            "\n"
          ],
          "name": "stdout"
        },
        {
          "output_type": "display_data",
          "data": {
            "image/png": "[encoded data removed]",
            "text/plain": [
              "<Figure size 432x288 with 1 Axes>"
            ]
          },
          "metadata": {
            "tags": []
          }
        }
      ]
    },
    {
      "cell_type": "markdown",
      "metadata": {
        "id": "f6dpXwiVfsEL",
        "colab_type": "text"
      },
      "source": [
        "##Sec 7. Modeling Using Gradient Boosting"
      ]
    },
    {
      "cell_type": "markdown",
      "metadata": {
        "id": "P39uHfivnDtd",
        "colab_type": "text"
      },
      "source": [
        "**Multicollinearity** refers to predictors that are correlated with other predictors.  Multicollinearity occurs when your model includes multiple factors that are correlated not just to your response variable, but also to each other. In other words, it results when you have factors that are a bit redundant.\n",
        "\n",
        "One way to measure multicollinearity is the **variance inflation factor (VIF)**, which assesses how much the variance of an estimated regression coefficient increases if your predictors are correlated.  If no factors are correlated, the VIFs will all be 1."
      ]
    },
    {
      "cell_type": "code",
      "metadata": {
        "id": "Ny4ofrjAoha0",
        "colab_type": "code",
        "outputId": "36635330-294f-4d39-b4f8-928574914935",
        "colab": {
          "base_uri": "https://localhost:8080/",
          "height": 561
        }
      },
      "source": [
        "# Multicollinearity\n",
        "def calculate_vif(features):\n",
        "    vif = pd.DataFrame()\n",
        "    vif[\"Features\"] = features.columns\n",
        "    vif[\"VIF\"] = [variance_inflation_factor(features.values, i) for i in range(features.shape[1])]    \n",
        "    return(vif)\n",
        "\n",
        "# Model   \n",
        "vif = calculate_vif(features)\n",
        "print(vif.sort_values('VIF'))\n",
        "\n",
        "print(\"\\nFeatures with low multicollinearity:\")\n",
        "low_mc = list(vif.loc[vif['VIF'] <= 10].sort_values(['VIF'], ascending=0)['Features'])\n",
        "pprint(low_mc)\n",
        "\n",
        "# Split our data into training and test sets\n",
        "train_features, test_features, train_labels, test_labels = train_test_split(features[low_mc], labels, test_size = 0.4, random_state=rs)\n",
        "train_labels = train_labels.reset_index(drop=True)\n",
        "test_labels = test_labels.reset_index(drop=True)"
      ],
      "execution_count": 26,
      "outputs": [
        {
          "output_type": "stream",
          "text": [
            "                  Features        VIF\n",
            "14  REG_CITY_NOT_LIVE_CITY   1.377137\n",
            "8          FLAG_WORK_PHONE   1.495648\n",
            "7               FLAG_PHONE   1.565310\n",
            "0              CODE_GENDER   1.614113\n",
            "15  REG_CITY_NOT_WORK_CITY   1.761182\n",
            "4   DAYS_LAST_PHONE_CHANGE   2.443368\n",
            "10      NAME_FAMILY_STATUS   2.996922\n",
            "11        NAME_INCOME_TYPE   3.347807\n",
            "5        DAYS_REGISTRATION   3.439765\n",
            "13       ORGANIZATION_TYPE   5.251824\n",
            "3          DAYS_ID_PUBLISH   5.584025\n",
            "12         OCCUPATION_TYPE   6.307613\n",
            "9      NAME_EDUCATION_TYPE   7.724784\n",
            "2            DAYS_EMPLOYED  15.217120\n",
            "1               DAYS_BIRTH  28.341692\n",
            "6           FLAG_EMP_PHONE  32.906376\n",
            "\n",
            "Features with low multicollinearity:\n",
            "['NAME_EDUCATION_TYPE',\n",
            " 'OCCUPATION_TYPE',\n",
            " 'DAYS_ID_PUBLISH',\n",
            " 'ORGANIZATION_TYPE',\n",
            " 'DAYS_REGISTRATION',\n",
            " 'NAME_INCOME_TYPE',\n",
            " 'NAME_FAMILY_STATUS',\n",
            " 'DAYS_LAST_PHONE_CHANGE',\n",
            " 'REG_CITY_NOT_WORK_CITY',\n",
            " 'CODE_GENDER',\n",
            " 'FLAG_PHONE',\n",
            " 'FLAG_WORK_PHONE',\n",
            " 'REG_CITY_NOT_LIVE_CITY']\n"
          ],
          "name": "stdout"
        }
      ]
    },
    {
      "cell_type": "code",
      "metadata": {
        "id": "A-KhzQJZq91Y",
        "colab_type": "code",
        "colab": {}
      },
      "source": [
        "#GradientBoosting\n",
        "# clf = GradientBoostingClassifier(learning_rate=.03, random_state=rs)\n",
        "clf = GradientBoostingClassifier(learning_rate=.09, random_state=rs)\n",
        "# clf = GradientBoostingClassifier(random_state=rs)\n",
        "\n",
        "clf.fit(train_features, train_labels)\n",
        "\n",
        "train_pred = clf.predict(train_features)\n",
        "test_pred = clf.predict(test_features)"
      ],
      "execution_count": 0,
      "outputs": []
    },
    {
      "cell_type": "code",
      "metadata": {
        "id": "xvAYL9RirCWH",
        "colab_type": "code",
        "colab": {}
      },
      "source": [
        "accuracy_train = accuracy_score(train_pred, train_labels)\n",
        "accuracy_test = accuracy_score(test_pred, test_labels)\n",
        "\n",
        "fpr_train, tpr_train, _ = roc_curve(np.array(train_labels), clf.predict_proba(train_features)[:, 1])\n",
        "auc_train = auc(fpr_train, tpr_train)\n",
        "\n",
        "fpr_test, tpr_test, _ = roc_curve(np.array(test_labels), clf.predict_proba(test_features)[:, 1])\n",
        "auc_test = auc(fpr_test, tpr_test)"
      ],
      "execution_count": 0,
      "outputs": []
    },
    {
      "cell_type": "code",
      "metadata": {
        "id": "zaeghSh1rF93",
        "colab_type": "code",
        "outputId": "b4b741a9-b150-450f-9cf6-40c7d31dbe37",
        "colab": {
          "base_uri": "https://localhost:8080/",
          "height": 85
        }
      },
      "source": [
        "print(f\"Training accuracy = {accuracy_train}\\nTest accuracy = {accuracy_test}\")\n",
        "print(f\"Training AUC = {auc_train}\\nTest AUC = {auc_test}\")"
      ],
      "execution_count": 29,
      "outputs": [
        {
          "output_type": "stream",
          "text": [
            "Training accuracy = 0.9136490250696379\n",
            "Test accuracy = 0.9141920122197763\n",
            "Training AUC = 0.6878262249655038\n",
            "Test AUC = 0.642715817870349\n"
          ],
          "name": "stdout"
        }
      ]
    },
    {
      "cell_type": "code",
      "metadata": {
        "colab_type": "code",
        "outputId": "08d795c4-90b0-4339-96b0-b86a71973f49",
        "id": "HiR9GFAAiDQi",
        "colab": {
          "base_uri": "https://localhost:8080/",
          "height": 513
        }
      },
      "source": [
        "plot_roc_curve(fpr_test, tpr_test)"
      ],
      "execution_count": 30,
      "outputs": [
        {
          "output_type": "display_data",
          "data": {
            "image/png": "[encoded data removed]",
            "text/plain": [
              "<Figure size 720x576 with 1 Axes>"
            ]
          },
          "metadata": {
            "tags": []
          }
        }
      ]
    },
    {
      "cell_type": "code",
      "metadata": {
        "id": "7rm6th-Cs0_f",
        "colab_type": "code",
        "outputId": "61ea8173-0c8d-44cb-fae1-013d6a821496",
        "colab": {
          "base_uri": "https://localhost:8080/",
          "height": 458
        }
      },
      "source": [
        "print_confusion_matrix(test_labels, test_pred)\n",
        "print(classification_report(test_labels, test_pred))"
      ],
      "execution_count": 31,
      "outputs": [
        {
          "output_type": "stream",
          "text": [
            "              precision    recall  f1-score   support\n",
            "\n",
            "           0       0.91      1.00      0.96     20350\n",
            "           1       0.00      0.00      0.00      1909\n",
            "\n",
            "    accuracy                           0.91     22259\n",
            "   macro avg       0.46      0.50      0.48     22259\n",
            "weighted avg       0.84      0.91      0.87     22259\n",
            "\n"
          ],
          "name": "stdout"
        },
        {
          "output_type": "display_data",
          "data": {
            "image/png": "[encoded data removed]",
            "text/plain": [
              "<Figure size 432x288 with 1 Axes>"
            ]
          },
          "metadata": {
            "tags": []
          }
        }
      ]
    },
    {
      "cell_type": "markdown",
      "metadata": {
        "id": "K_Uy6zfgf3Ga",
        "colab_type": "text"
      },
      "source": [
        "## Sec 8. Validation and Performance Measurement of Model"
      ]
    },
    {
      "cell_type": "code",
      "metadata": {
        "id": "JYuGUefrrJMH",
        "colab_type": "code",
        "colab": {}
      },
      "source": [
        "# Deciles and Kolmogarov Smirnoff Statistics\n",
        "\n",
        "def plot_pandas_style(styler):\n",
        "    html = '\\n'.join([line.lstrip() for line in styler.render().split('\\n')])\n",
        "    return HTML(html)\n",
        "\n",
        "def highlight_max(s, color='yellow'):\n",
        "    '''\n",
        "    highlight the maximum in a Series yellow.\n",
        "    '''\n",
        "    is_max = s == s.max()\n",
        "    return ['background-color: {}'.format(color) if v else '' for v in is_max]\n",
        "\n",
        "def decile_labels(agg1, label, color='skyblue'):\n",
        "    agg_dummy = pd.DataFrame(OrderedDict((('TOTAL', 0), ('TARGET', 0), ('NONTARGET', 0), ('PCT_TGT', 0), ('CUM_TGT', 0), ('CUM_NONTGT', 0), ('DIST_TGT', 0), ('DIST_NONTGT', 0), ('SPREAD', 0))), index=[0])\n",
        "    agg1 = agg1.append(agg_dummy).sort_index()\n",
        "    agg1.index.name = label\n",
        "    agg1 = agg1.style.apply(highlight_max, color = 'yellow', subset=['SPREAD'])\n",
        "    agg1.bar(subset=['TARGET'], color='{}'.format(color))\n",
        "    agg1.bar(subset=['TOTAL'], color='{}'.format(color))\n",
        "    agg1.bar(subset=['PCT_TGT'], color='{}'.format(color))\n",
        "    return(agg1)\n",
        "    \n",
        "def deciling(data, decile_by, target, nontarget):\n",
        "    inputs = list(decile_by)\n",
        "    inputs.extend((target, nontarget))\n",
        "    decile = data[inputs]\n",
        "    grouped = decile.groupby(decile_by)\n",
        "    agg1 = pd.DataFrame({}, index=[])\n",
        "    agg1['TOTAL'] = grouped.sum()[nontarget] + grouped.sum()[target]\n",
        "    agg1['TARGET'] = grouped.sum()[target]\n",
        "    agg1['NONTARGET'] = grouped.sum()[nontarget]\n",
        "    agg1['PCT_TGT'] = grouped.mean()[target] * 100\n",
        "    agg1['CUM_TGT'] = grouped.sum()[target].cumsum()\n",
        "    agg1['CUM_NONTGT'] = grouped.sum()[nontarget].cumsum()\n",
        "    agg1['DIST_TGT'] = agg1['CUM_TGT']/agg1['TARGET'].sum() * 100\n",
        "    agg1['DIST_NONTGT'] = agg1['CUM_NONTGT']/agg1['NONTARGET'].sum() * 100\n",
        "    agg1['SPREAD'] = (agg1['DIST_TGT'] - agg1['DIST_NONTGT'])\n",
        "    agg1 = decile_labels(agg1, 'DECILE', color='skyblue')\n",
        "    return(plot_pandas_style(agg1))\n",
        "    \n",
        "def scoring (features, clf, target): \n",
        "  score=pd.DataFrame(clf.predict_proba(features)[:, 1], columns = ['SCORE'])\n",
        "  score['DECILE'] = pd.qcut(score['SCORE'].rank(method = 'first'), 10, labels=range(10, 0, -1))\n",
        "  score['DECILE'] = score['DECILE'].astype(float)\n",
        "  score['TARGET'] = target\n",
        "  score['NONTARGET'] = 1 - target\n",
        "  return score"
      ],
      "execution_count": 0,
      "outputs": []
    },
    {
      "cell_type": "code",
      "metadata": {
        "id": "yf0xu_HbrOAv",
        "colab_type": "code",
        "colab": {}
      },
      "source": [
        "scores_train = scoring(train_features, clf, train_labels)\n",
        "scores_test = scoring(test_features, clf, test_labels)"
      ],
      "execution_count": 0,
      "outputs": []
    },
    {
      "cell_type": "code",
      "metadata": {
        "id": "zmGBoNjUjdoM",
        "colab_type": "code",
        "colab": {
          "base_uri": "https://localhost:8080/",
          "height": 292
        },
        "outputId": "6e8394df-9026-4240-d293-4426625929ea"
      },
      "source": [
        "deciling(scores_train, ['DECILE'], 'TARGET', 'NONTARGET')"
      ],
      "execution_count": 34,
      "outputs": [
        {
          "output_type": "execute_result",
          "data": {
            "text/html": [
              "<style  type=\"text/css\" >\n",
              "#T_6392cc04_e14e_11e9_a48a_0242ac1c0002row0_col0 {\n",
              "width:  10em;\n",
              "height:  80%;\n",
              "}    #T_6392cc04_e14e_11e9_a48a_0242ac1c0002row0_col1 {\n",
              "width:  10em;\n",
              "height:  80%;\n",
              "}    #T_6392cc04_e14e_11e9_a48a_0242ac1c0002row0_col3 {\n",
              "width:  10em;\n",
              "height:  80%;\n",
              "}    #T_6392cc04_e14e_11e9_a48a_0242ac1c0002row1_col0 {\n",
              "width:  10em;\n",
              "height:  80%;\n",
              "background:  linear-gradient(90deg,skyblue 100.0%, transparent 100.0%);\n",
              "}    #T_6392cc04_e14e_11e9_a48a_0242ac1c0002row1_col1 {\n",
              "width:  10em;\n",
              "height:  80%;\n",
              "background:  linear-gradient(90deg,skyblue 100.0%, transparent 100.0%);\n",
              "}    #T_6392cc04_e14e_11e9_a48a_0242ac1c0002row1_col3 {\n",
              "width:  10em;\n",
              "height:  80%;\n",
              "background:  linear-gradient(90deg,skyblue 100.0%, transparent 100.0%);\n",
              "}    #T_6392cc04_e14e_11e9_a48a_0242ac1c0002row2_col0 {\n",
              "width:  10em;\n",
              "height:  80%;\n",
              "background:  linear-gradient(90deg,skyblue 100.0%, transparent 100.0%);\n",
              "}    #T_6392cc04_e14e_11e9_a48a_0242ac1c0002row2_col1 {\n",
              "width:  10em;\n",
              "height:  80%;\n",
              "background:  linear-gradient(90deg,skyblue 66.8%, transparent 66.8%);\n",
              "}    #T_6392cc04_e14e_11e9_a48a_0242ac1c0002row2_col3 {\n",
              "width:  10em;\n",
              "height:  80%;\n",
              "background:  linear-gradient(90deg,skyblue 66.8%, transparent 66.8%);\n",
              "}    #T_6392cc04_e14e_11e9_a48a_0242ac1c0002row3_col0 {\n",
              "width:  10em;\n",
              "height:  80%;\n",
              "background:  linear-gradient(90deg,skyblue 100.0%, transparent 100.0%);\n",
              "}    #T_6392cc04_e14e_11e9_a48a_0242ac1c0002row3_col1 {\n",
              "width:  10em;\n",
              "height:  80%;\n",
              "background:  linear-gradient(90deg,skyblue 52.0%, transparent 52.0%);\n",
              "}    #T_6392cc04_e14e_11e9_a48a_0242ac1c0002row3_col3 {\n",
              "width:  10em;\n",
              "height:  80%;\n",
              "background:  linear-gradient(90deg,skyblue 52.0%, transparent 52.0%);\n",
              "}    #T_6392cc04_e14e_11e9_a48a_0242ac1c0002row4_col0 {\n",
              "width:  10em;\n",
              "height:  80%;\n",
              "background:  linear-gradient(90deg,skyblue 100.0%, transparent 100.0%);\n",
              "}    #T_6392cc04_e14e_11e9_a48a_0242ac1c0002row4_col1 {\n",
              "width:  10em;\n",
              "height:  80%;\n",
              "background:  linear-gradient(90deg,skyblue 44.7%, transparent 44.7%);\n",
              "}    #T_6392cc04_e14e_11e9_a48a_0242ac1c0002row4_col3 {\n",
              "width:  10em;\n",
              "height:  80%;\n",
              "background:  linear-gradient(90deg,skyblue 44.7%, transparent 44.7%);\n",
              "}    #T_6392cc04_e14e_11e9_a48a_0242ac1c0002row4_col8 {\n",
              "background-color:  yellow;\n",
              "}    #T_6392cc04_e14e_11e9_a48a_0242ac1c0002row5_col0 {\n",
              "width:  10em;\n",
              "height:  80%;\n",
              "background:  linear-gradient(90deg,skyblue 100.0%, transparent 100.0%);\n",
              "}    #T_6392cc04_e14e_11e9_a48a_0242ac1c0002row5_col1 {\n",
              "width:  10em;\n",
              "height:  80%;\n",
              "background:  linear-gradient(90deg,skyblue 33.9%, transparent 33.9%);\n",
              "}    #T_6392cc04_e14e_11e9_a48a_0242ac1c0002row5_col3 {\n",
              "width:  10em;\n",
              "height:  80%;\n",
              "background:  linear-gradient(90deg,skyblue 34.0%, transparent 34.0%);\n",
              "}    #T_6392cc04_e14e_11e9_a48a_0242ac1c0002row6_col0 {\n",
              "width:  10em;\n",
              "height:  80%;\n",
              "background:  linear-gradient(90deg,skyblue 100.0%, transparent 100.0%);\n",
              "}    #T_6392cc04_e14e_11e9_a48a_0242ac1c0002row6_col1 {\n",
              "width:  10em;\n",
              "height:  80%;\n",
              "background:  linear-gradient(90deg,skyblue 31.0%, transparent 31.0%);\n",
              "}    #T_6392cc04_e14e_11e9_a48a_0242ac1c0002row6_col3 {\n",
              "width:  10em;\n",
              "height:  80%;\n",
              "background:  linear-gradient(90deg,skyblue 31.0%, transparent 31.0%);\n",
              "}    #T_6392cc04_e14e_11e9_a48a_0242ac1c0002row7_col0 {\n",
              "width:  10em;\n",
              "height:  80%;\n",
              "background:  linear-gradient(90deg,skyblue 100.0%, transparent 100.0%);\n",
              "}    #T_6392cc04_e14e_11e9_a48a_0242ac1c0002row7_col1 {\n",
              "width:  10em;\n",
              "height:  80%;\n",
              "background:  linear-gradient(90deg,skyblue 26.9%, transparent 26.9%);\n",
              "}    #T_6392cc04_e14e_11e9_a48a_0242ac1c0002row7_col3 {\n",
              "width:  10em;\n",
              "height:  80%;\n",
              "background:  linear-gradient(90deg,skyblue 26.9%, transparent 26.9%);\n",
              "}    #T_6392cc04_e14e_11e9_a48a_0242ac1c0002row8_col0 {\n",
              "width:  10em;\n",
              "height:  80%;\n",
              "background:  linear-gradient(90deg,skyblue 100.0%, transparent 100.0%);\n",
              "}    #T_6392cc04_e14e_11e9_a48a_0242ac1c0002row8_col1 {\n",
              "width:  10em;\n",
              "height:  80%;\n",
              "background:  linear-gradient(90deg,skyblue 21.7%, transparent 21.7%);\n",
              "}    #T_6392cc04_e14e_11e9_a48a_0242ac1c0002row8_col3 {\n",
              "width:  10em;\n",
              "height:  80%;\n",
              "background:  linear-gradient(90deg,skyblue 21.7%, transparent 21.7%);\n",
              "}    #T_6392cc04_e14e_11e9_a48a_0242ac1c0002row9_col0 {\n",
              "width:  10em;\n",
              "height:  80%;\n",
              "background:  linear-gradient(90deg,skyblue 100.0%, transparent 100.0%);\n",
              "}    #T_6392cc04_e14e_11e9_a48a_0242ac1c0002row9_col1 {\n",
              "width:  10em;\n",
              "height:  80%;\n",
              "background:  linear-gradient(90deg,skyblue 17.4%, transparent 17.4%);\n",
              "}    #T_6392cc04_e14e_11e9_a48a_0242ac1c0002row9_col3 {\n",
              "width:  10em;\n",
              "height:  80%;\n",
              "background:  linear-gradient(90deg,skyblue 17.4%, transparent 17.4%);\n",
              "}    #T_6392cc04_e14e_11e9_a48a_0242ac1c0002row10_col0 {\n",
              "width:  10em;\n",
              "height:  80%;\n",
              "background:  linear-gradient(90deg,skyblue 100.0%, transparent 100.0%);\n",
              "}    #T_6392cc04_e14e_11e9_a48a_0242ac1c0002row10_col1 {\n",
              "width:  10em;\n",
              "height:  80%;\n",
              "background:  linear-gradient(90deg,skyblue 10.4%, transparent 10.4%);\n",
              "}    #T_6392cc04_e14e_11e9_a48a_0242ac1c0002row10_col3 {\n",
              "width:  10em;\n",
              "height:  80%;\n",
              "background:  linear-gradient(90deg,skyblue 10.4%, transparent 10.4%);\n",
              "}</style><table id=\"T_6392cc04_e14e_11e9_a48a_0242ac1c0002\" ><thead>    <tr>        <th class=\"blank level0\" ></th>        <th class=\"col_heading level0 col0\" >TOTAL</th>        <th class=\"col_heading level0 col1\" >TARGET</th>        <th class=\"col_heading level0 col2\" >NONTARGET</th>        <th class=\"col_heading level0 col3\" >PCT_TGT</th>        <th class=\"col_heading level0 col4\" >CUM_TGT</th>        <th class=\"col_heading level0 col5\" >CUM_NONTGT</th>        <th class=\"col_heading level0 col6\" >DIST_TGT</th>        <th class=\"col_heading level0 col7\" >DIST_NONTGT</th>        <th class=\"col_heading level0 col8\" >SPREAD</th>    </tr>    <tr>        <th class=\"index_name level0\" >DECILE</th>        <th class=\"blank\" ></th>        <th class=\"blank\" ></th>        <th class=\"blank\" ></th>        <th class=\"blank\" ></th>        <th class=\"blank\" ></th>        <th class=\"blank\" ></th>        <th class=\"blank\" ></th>        <th class=\"blank\" ></th>        <th class=\"blank\" ></th>    </tr></thead><tbody>\n",
              "<tr>\n",
              "<th id=\"T_6392cc04_e14e_11e9_a48a_0242ac1c0002level0_row0\" class=\"row_heading level0 row0\" >0.0</th>\n",
              "<td id=\"T_6392cc04_e14e_11e9_a48a_0242ac1c0002row0_col0\" class=\"data row0 col0\" >0</td>\n",
              "<td id=\"T_6392cc04_e14e_11e9_a48a_0242ac1c0002row0_col1\" class=\"data row0 col1\" >0</td>\n",
              "<td id=\"T_6392cc04_e14e_11e9_a48a_0242ac1c0002row0_col2\" class=\"data row0 col2\" >0</td>\n",
              "<td id=\"T_6392cc04_e14e_11e9_a48a_0242ac1c0002row0_col3\" class=\"data row0 col3\" >0</td>\n",
              "<td id=\"T_6392cc04_e14e_11e9_a48a_0242ac1c0002row0_col4\" class=\"data row0 col4\" >0</td>\n",
              "<td id=\"T_6392cc04_e14e_11e9_a48a_0242ac1c0002row0_col5\" class=\"data row0 col5\" >0</td>\n",
              "<td id=\"T_6392cc04_e14e_11e9_a48a_0242ac1c0002row0_col6\" class=\"data row0 col6\" >0</td>\n",
              "<td id=\"T_6392cc04_e14e_11e9_a48a_0242ac1c0002row0_col7\" class=\"data row0 col7\" >0</td>\n",
              "<td id=\"T_6392cc04_e14e_11e9_a48a_0242ac1c0002row0_col8\" class=\"data row0 col8\" >0</td>\n",
              "</tr>\n",
              "<tr>\n",
              "<th id=\"T_6392cc04_e14e_11e9_a48a_0242ac1c0002level0_row1\" class=\"row_heading level0 row1\" >1.0</th>\n",
              "<td id=\"T_6392cc04_e14e_11e9_a48a_0242ac1c0002row1_col0\" class=\"data row1 col0\" >3339</td>\n",
              "<td id=\"T_6392cc04_e14e_11e9_a48a_0242ac1c0002row1_col1\" class=\"data row1 col1\" >713</td>\n",
              "<td id=\"T_6392cc04_e14e_11e9_a48a_0242ac1c0002row1_col2\" class=\"data row1 col2\" >2626</td>\n",
              "<td id=\"T_6392cc04_e14e_11e9_a48a_0242ac1c0002row1_col3\" class=\"data row1 col3\" >21.3537</td>\n",
              "<td id=\"T_6392cc04_e14e_11e9_a48a_0242ac1c0002row1_col4\" class=\"data row1 col4\" >713</td>\n",
              "<td id=\"T_6392cc04_e14e_11e9_a48a_0242ac1c0002row1_col5\" class=\"data row1 col5\" >2626</td>\n",
              "<td id=\"T_6392cc04_e14e_11e9_a48a_0242ac1c0002row1_col6\" class=\"data row1 col6\" >24.6969</td>\n",
              "<td id=\"T_6392cc04_e14e_11e9_a48a_0242ac1c0002row1_col7\" class=\"data row1 col7\" >8.60984</td>\n",
              "<td id=\"T_6392cc04_e14e_11e9_a48a_0242ac1c0002row1_col8\" class=\"data row1 col8\" >16.0871</td>\n",
              "</tr>\n",
              "<tr>\n",
              "<th id=\"T_6392cc04_e14e_11e9_a48a_0242ac1c0002level0_row2\" class=\"row_heading level0 row2\" >2.0</th>\n",
              "<td id=\"T_6392cc04_e14e_11e9_a48a_0242ac1c0002row2_col0\" class=\"data row2 col0\" >3339</td>\n",
              "<td id=\"T_6392cc04_e14e_11e9_a48a_0242ac1c0002row2_col1\" class=\"data row2 col1\" >476</td>\n",
              "<td id=\"T_6392cc04_e14e_11e9_a48a_0242ac1c0002row2_col2\" class=\"data row2 col2\" >2863</td>\n",
              "<td id=\"T_6392cc04_e14e_11e9_a48a_0242ac1c0002row2_col3\" class=\"data row2 col3\" >14.2558</td>\n",
              "<td id=\"T_6392cc04_e14e_11e9_a48a_0242ac1c0002row2_col4\" class=\"data row2 col4\" >1189</td>\n",
              "<td id=\"T_6392cc04_e14e_11e9_a48a_0242ac1c0002row2_col5\" class=\"data row2 col5\" >5489</td>\n",
              "<td id=\"T_6392cc04_e14e_11e9_a48a_0242ac1c0002row2_col6\" class=\"data row2 col6\" >41.1846</td>\n",
              "<td id=\"T_6392cc04_e14e_11e9_a48a_0242ac1c0002row2_col7\" class=\"data row2 col7\" >17.9967</td>\n",
              "<td id=\"T_6392cc04_e14e_11e9_a48a_0242ac1c0002row2_col8\" class=\"data row2 col8\" >23.1879</td>\n",
              "</tr>\n",
              "<tr>\n",
              "<th id=\"T_6392cc04_e14e_11e9_a48a_0242ac1c0002level0_row3\" class=\"row_heading level0 row3\" >3.0</th>\n",
              "<td id=\"T_6392cc04_e14e_11e9_a48a_0242ac1c0002row3_col0\" class=\"data row3 col0\" >3338</td>\n",
              "<td id=\"T_6392cc04_e14e_11e9_a48a_0242ac1c0002row3_col1\" class=\"data row3 col1\" >371</td>\n",
              "<td id=\"T_6392cc04_e14e_11e9_a48a_0242ac1c0002row3_col2\" class=\"data row3 col2\" >2967</td>\n",
              "<td id=\"T_6392cc04_e14e_11e9_a48a_0242ac1c0002row3_col3\" class=\"data row3 col3\" >11.1144</td>\n",
              "<td id=\"T_6392cc04_e14e_11e9_a48a_0242ac1c0002row3_col4\" class=\"data row3 col4\" >1560</td>\n",
              "<td id=\"T_6392cc04_e14e_11e9_a48a_0242ac1c0002row3_col5\" class=\"data row3 col5\" >8456</td>\n",
              "<td id=\"T_6392cc04_e14e_11e9_a48a_0242ac1c0002row3_col6\" class=\"data row3 col6\" >54.0353</td>\n",
              "<td id=\"T_6392cc04_e14e_11e9_a48a_0242ac1c0002row3_col7\" class=\"data row3 col7\" >27.7246</td>\n",
              "<td id=\"T_6392cc04_e14e_11e9_a48a_0242ac1c0002row3_col8\" class=\"data row3 col8\" >26.3107</td>\n",
              "</tr>\n",
              "<tr>\n",
              "<th id=\"T_6392cc04_e14e_11e9_a48a_0242ac1c0002level0_row4\" class=\"row_heading level0 row4\" >4.0</th>\n",
              "<td id=\"T_6392cc04_e14e_11e9_a48a_0242ac1c0002row4_col0\" class=\"data row4 col0\" >3339</td>\n",
              "<td id=\"T_6392cc04_e14e_11e9_a48a_0242ac1c0002row4_col1\" class=\"data row4 col1\" >319</td>\n",
              "<td id=\"T_6392cc04_e14e_11e9_a48a_0242ac1c0002row4_col2\" class=\"data row4 col2\" >3020</td>\n",
              "<td id=\"T_6392cc04_e14e_11e9_a48a_0242ac1c0002row4_col3\" class=\"data row4 col3\" >9.55376</td>\n",
              "<td id=\"T_6392cc04_e14e_11e9_a48a_0242ac1c0002row4_col4\" class=\"data row4 col4\" >1879</td>\n",
              "<td id=\"T_6392cc04_e14e_11e9_a48a_0242ac1c0002row4_col5\" class=\"data row4 col5\" >11476</td>\n",
              "<td id=\"T_6392cc04_e14e_11e9_a48a_0242ac1c0002row4_col6\" class=\"data row4 col6\" >65.0849</td>\n",
              "<td id=\"T_6392cc04_e14e_11e9_a48a_0242ac1c0002row4_col7\" class=\"data row4 col7\" >37.6262</td>\n",
              "<td id=\"T_6392cc04_e14e_11e9_a48a_0242ac1c0002row4_col8\" class=\"data row4 col8\" >27.4586</td>\n",
              "</tr>\n",
              "<tr>\n",
              "<th id=\"T_6392cc04_e14e_11e9_a48a_0242ac1c0002level0_row5\" class=\"row_heading level0 row5\" >5.0</th>\n",
              "<td id=\"T_6392cc04_e14e_11e9_a48a_0242ac1c0002row5_col0\" class=\"data row5 col0\" >3338</td>\n",
              "<td id=\"T_6392cc04_e14e_11e9_a48a_0242ac1c0002row5_col1\" class=\"data row5 col1\" >242</td>\n",
              "<td id=\"T_6392cc04_e14e_11e9_a48a_0242ac1c0002row5_col2\" class=\"data row5 col2\" >3096</td>\n",
              "<td id=\"T_6392cc04_e14e_11e9_a48a_0242ac1c0002row5_col3\" class=\"data row5 col3\" >7.24985</td>\n",
              "<td id=\"T_6392cc04_e14e_11e9_a48a_0242ac1c0002row5_col4\" class=\"data row5 col4\" >2121</td>\n",
              "<td id=\"T_6392cc04_e14e_11e9_a48a_0242ac1c0002row5_col5\" class=\"data row5 col5\" >14572</td>\n",
              "<td id=\"T_6392cc04_e14e_11e9_a48a_0242ac1c0002row5_col6\" class=\"data row5 col6\" >73.4673</td>\n",
              "<td id=\"T_6392cc04_e14e_11e9_a48a_0242ac1c0002row5_col7\" class=\"data row5 col7\" >47.777</td>\n",
              "<td id=\"T_6392cc04_e14e_11e9_a48a_0242ac1c0002row5_col8\" class=\"data row5 col8\" >25.6902</td>\n",
              "</tr>\n",
              "<tr>\n",
              "<th id=\"T_6392cc04_e14e_11e9_a48a_0242ac1c0002level0_row6\" class=\"row_heading level0 row6\" >6.0</th>\n",
              "<td id=\"T_6392cc04_e14e_11e9_a48a_0242ac1c0002row6_col0\" class=\"data row6 col0\" >3339</td>\n",
              "<td id=\"T_6392cc04_e14e_11e9_a48a_0242ac1c0002row6_col1\" class=\"data row6 col1\" >221</td>\n",
              "<td id=\"T_6392cc04_e14e_11e9_a48a_0242ac1c0002row6_col2\" class=\"data row6 col2\" >3118</td>\n",
              "<td id=\"T_6392cc04_e14e_11e9_a48a_0242ac1c0002row6_col3\" class=\"data row6 col3\" >6.61875</td>\n",
              "<td id=\"T_6392cc04_e14e_11e9_a48a_0242ac1c0002row6_col4\" class=\"data row6 col4\" >2342</td>\n",
              "<td id=\"T_6392cc04_e14e_11e9_a48a_0242ac1c0002row6_col5\" class=\"data row6 col5\" >17690</td>\n",
              "<td id=\"T_6392cc04_e14e_11e9_a48a_0242ac1c0002row6_col6\" class=\"data row6 col6\" >81.1223</td>\n",
              "<td id=\"T_6392cc04_e14e_11e9_a48a_0242ac1c0002row6_col7\" class=\"data row6 col7\" >58</td>\n",
              "<td id=\"T_6392cc04_e14e_11e9_a48a_0242ac1c0002row6_col8\" class=\"data row6 col8\" >23.1223</td>\n",
              "</tr>\n",
              "<tr>\n",
              "<th id=\"T_6392cc04_e14e_11e9_a48a_0242ac1c0002level0_row7\" class=\"row_heading level0 row7\" >7.0</th>\n",
              "<td id=\"T_6392cc04_e14e_11e9_a48a_0242ac1c0002row7_col0\" class=\"data row7 col0\" >3339</td>\n",
              "<td id=\"T_6392cc04_e14e_11e9_a48a_0242ac1c0002row7_col1\" class=\"data row7 col1\" >192</td>\n",
              "<td id=\"T_6392cc04_e14e_11e9_a48a_0242ac1c0002row7_col2\" class=\"data row7 col2\" >3147</td>\n",
              "<td id=\"T_6392cc04_e14e_11e9_a48a_0242ac1c0002row7_col3\" class=\"data row7 col3\" >5.75022</td>\n",
              "<td id=\"T_6392cc04_e14e_11e9_a48a_0242ac1c0002row7_col4\" class=\"data row7 col4\" >2534</td>\n",
              "<td id=\"T_6392cc04_e14e_11e9_a48a_0242ac1c0002row7_col5\" class=\"data row7 col5\" >20837</td>\n",
              "<td id=\"T_6392cc04_e14e_11e9_a48a_0242ac1c0002row7_col6\" class=\"data row7 col6\" >87.7728</td>\n",
              "<td id=\"T_6392cc04_e14e_11e9_a48a_0242ac1c0002row7_col7\" class=\"data row7 col7\" >68.318</td>\n",
              "<td id=\"T_6392cc04_e14e_11e9_a48a_0242ac1c0002row7_col8\" class=\"data row7 col8\" >19.4547</td>\n",
              "</tr>\n",
              "<tr>\n",
              "<th id=\"T_6392cc04_e14e_11e9_a48a_0242ac1c0002level0_row8\" class=\"row_heading level0 row8\" >8.0</th>\n",
              "<td id=\"T_6392cc04_e14e_11e9_a48a_0242ac1c0002row8_col0\" class=\"data row8 col0\" >3338</td>\n",
              "<td id=\"T_6392cc04_e14e_11e9_a48a_0242ac1c0002row8_col1\" class=\"data row8 col1\" >155</td>\n",
              "<td id=\"T_6392cc04_e14e_11e9_a48a_0242ac1c0002row8_col2\" class=\"data row8 col2\" >3183</td>\n",
              "<td id=\"T_6392cc04_e14e_11e9_a48a_0242ac1c0002row8_col3\" class=\"data row8 col3\" >4.6435</td>\n",
              "<td id=\"T_6392cc04_e14e_11e9_a48a_0242ac1c0002row8_col4\" class=\"data row8 col4\" >2689</td>\n",
              "<td id=\"T_6392cc04_e14e_11e9_a48a_0242ac1c0002row8_col5\" class=\"data row8 col5\" >24020</td>\n",
              "<td id=\"T_6392cc04_e14e_11e9_a48a_0242ac1c0002row8_col6\" class=\"data row8 col6\" >93.1417</td>\n",
              "<td id=\"T_6392cc04_e14e_11e9_a48a_0242ac1c0002row8_col7\" class=\"data row8 col7\" >78.7541</td>\n",
              "<td id=\"T_6392cc04_e14e_11e9_a48a_0242ac1c0002row8_col8\" class=\"data row8 col8\" >14.3876</td>\n",
              "</tr>\n",
              "<tr>\n",
              "<th id=\"T_6392cc04_e14e_11e9_a48a_0242ac1c0002level0_row9\" class=\"row_heading level0 row9\" >9.0</th>\n",
              "<td id=\"T_6392cc04_e14e_11e9_a48a_0242ac1c0002row9_col0\" class=\"data row9 col0\" >3339</td>\n",
              "<td id=\"T_6392cc04_e14e_11e9_a48a_0242ac1c0002row9_col1\" class=\"data row9 col1\" >124</td>\n",
              "<td id=\"T_6392cc04_e14e_11e9_a48a_0242ac1c0002row9_col2\" class=\"data row9 col2\" >3215</td>\n",
              "<td id=\"T_6392cc04_e14e_11e9_a48a_0242ac1c0002row9_col3\" class=\"data row9 col3\" >3.71369</td>\n",
              "<td id=\"T_6392cc04_e14e_11e9_a48a_0242ac1c0002row9_col4\" class=\"data row9 col4\" >2813</td>\n",
              "<td id=\"T_6392cc04_e14e_11e9_a48a_0242ac1c0002row9_col5\" class=\"data row9 col5\" >27235</td>\n",
              "<td id=\"T_6392cc04_e14e_11e9_a48a_0242ac1c0002row9_col6\" class=\"data row9 col6\" >97.4368</td>\n",
              "<td id=\"T_6392cc04_e14e_11e9_a48a_0242ac1c0002row9_col7\" class=\"data row9 col7\" >89.2951</td>\n",
              "<td id=\"T_6392cc04_e14e_11e9_a48a_0242ac1c0002row9_col8\" class=\"data row9 col8\" >8.1417</td>\n",
              "</tr>\n",
              "<tr>\n",
              "<th id=\"T_6392cc04_e14e_11e9_a48a_0242ac1c0002level0_row10\" class=\"row_heading level0 row10\" >10.0</th>\n",
              "<td id=\"T_6392cc04_e14e_11e9_a48a_0242ac1c0002row10_col0\" class=\"data row10 col0\" >3339</td>\n",
              "<td id=\"T_6392cc04_e14e_11e9_a48a_0242ac1c0002row10_col1\" class=\"data row10 col1\" >74</td>\n",
              "<td id=\"T_6392cc04_e14e_11e9_a48a_0242ac1c0002row10_col2\" class=\"data row10 col2\" >3265</td>\n",
              "<td id=\"T_6392cc04_e14e_11e9_a48a_0242ac1c0002row10_col3\" class=\"data row10 col3\" >2.21623</td>\n",
              "<td id=\"T_6392cc04_e14e_11e9_a48a_0242ac1c0002row10_col4\" class=\"data row10 col4\" >2887</td>\n",
              "<td id=\"T_6392cc04_e14e_11e9_a48a_0242ac1c0002row10_col5\" class=\"data row10 col5\" >30500</td>\n",
              "<td id=\"T_6392cc04_e14e_11e9_a48a_0242ac1c0002row10_col6\" class=\"data row10 col6\" >100</td>\n",
              "<td id=\"T_6392cc04_e14e_11e9_a48a_0242ac1c0002row10_col7\" class=\"data row10 col7\" >100</td>\n",
              "<td id=\"T_6392cc04_e14e_11e9_a48a_0242ac1c0002row10_col8\" class=\"data row10 col8\" >0</td>\n",
              "</tr>\n",
              "</tbody></table>"
            ],
            "text/plain": [
              "<IPython.core.display.HTML object>"
            ]
          },
          "metadata": {
            "tags": []
          },
          "execution_count": 34
        }
      ]
    },
    {
      "cell_type": "code",
      "metadata": {
        "id": "5GD6h1HjiYXU",
        "colab_type": "code",
        "colab": {
          "base_uri": "https://localhost:8080/",
          "height": 292
        },
        "outputId": "a21c5568-98ca-403e-e1a7-f2b85efdd189"
      },
      "source": [
        "deciling(scores_test, ['DECILE'], 'TARGET', 'NONTARGET')"
      ],
      "execution_count": 35,
      "outputs": [
        {
          "output_type": "execute_result",
          "data": {
            "text/html": [
              "<style  type=\"text/css\" >\n",
              "#T_63a07192_e14e_11e9_a48a_0242ac1c0002row0_col0 {\n",
              "width:  10em;\n",
              "height:  80%;\n",
              "}    #T_63a07192_e14e_11e9_a48a_0242ac1c0002row0_col1 {\n",
              "width:  10em;\n",
              "height:  80%;\n",
              "}    #T_63a07192_e14e_11e9_a48a_0242ac1c0002row0_col3 {\n",
              "width:  10em;\n",
              "height:  80%;\n",
              "}    #T_63a07192_e14e_11e9_a48a_0242ac1c0002row1_col0 {\n",
              "width:  10em;\n",
              "height:  80%;\n",
              "background:  linear-gradient(90deg,skyblue 100.0%, transparent 100.0%);\n",
              "}    #T_63a07192_e14e_11e9_a48a_0242ac1c0002row1_col1 {\n",
              "width:  10em;\n",
              "height:  80%;\n",
              "background:  linear-gradient(90deg,skyblue 100.0%, transparent 100.0%);\n",
              "}    #T_63a07192_e14e_11e9_a48a_0242ac1c0002row1_col3 {\n",
              "width:  10em;\n",
              "height:  80%;\n",
              "background:  linear-gradient(90deg,skyblue 100.0%, transparent 100.0%);\n",
              "}    #T_63a07192_e14e_11e9_a48a_0242ac1c0002row2_col0 {\n",
              "width:  10em;\n",
              "height:  80%;\n",
              "background:  linear-gradient(90deg,skyblue 100.0%, transparent 100.0%);\n",
              "}    #T_63a07192_e14e_11e9_a48a_0242ac1c0002row2_col1 {\n",
              "width:  10em;\n",
              "height:  80%;\n",
              "background:  linear-gradient(90deg,skyblue 93.0%, transparent 93.0%);\n",
              "}    #T_63a07192_e14e_11e9_a48a_0242ac1c0002row2_col3 {\n",
              "width:  10em;\n",
              "height:  80%;\n",
              "background:  linear-gradient(90deg,skyblue 93.0%, transparent 93.0%);\n",
              "}    #T_63a07192_e14e_11e9_a48a_0242ac1c0002row3_col0 {\n",
              "width:  10em;\n",
              "height:  80%;\n",
              "background:  linear-gradient(90deg,skyblue 100.0%, transparent 100.0%);\n",
              "}    #T_63a07192_e14e_11e9_a48a_0242ac1c0002row3_col1 {\n",
              "width:  10em;\n",
              "height:  80%;\n",
              "background:  linear-gradient(90deg,skyblue 67.7%, transparent 67.7%);\n",
              "}    #T_63a07192_e14e_11e9_a48a_0242ac1c0002row3_col3 {\n",
              "width:  10em;\n",
              "height:  80%;\n",
              "background:  linear-gradient(90deg,skyblue 67.7%, transparent 67.7%);\n",
              "}    #T_63a07192_e14e_11e9_a48a_0242ac1c0002row4_col0 {\n",
              "width:  10em;\n",
              "height:  80%;\n",
              "background:  linear-gradient(90deg,skyblue 100.0%, transparent 100.0%);\n",
              "}    #T_63a07192_e14e_11e9_a48a_0242ac1c0002row4_col1 {\n",
              "width:  10em;\n",
              "height:  80%;\n",
              "background:  linear-gradient(90deg,skyblue 56.5%, transparent 56.5%);\n",
              "}    #T_63a07192_e14e_11e9_a48a_0242ac1c0002row4_col3 {\n",
              "width:  10em;\n",
              "height:  80%;\n",
              "background:  linear-gradient(90deg,skyblue 56.5%, transparent 56.5%);\n",
              "}    #T_63a07192_e14e_11e9_a48a_0242ac1c0002row4_col8 {\n",
              "background-color:  yellow;\n",
              "}    #T_63a07192_e14e_11e9_a48a_0242ac1c0002row5_col0 {\n",
              "width:  10em;\n",
              "height:  80%;\n",
              "background:  linear-gradient(90deg,skyblue 100.0%, transparent 100.0%);\n",
              "}    #T_63a07192_e14e_11e9_a48a_0242ac1c0002row5_col1 {\n",
              "width:  10em;\n",
              "height:  80%;\n",
              "background:  linear-gradient(90deg,skyblue 52.8%, transparent 52.8%);\n",
              "}    #T_63a07192_e14e_11e9_a48a_0242ac1c0002row5_col3 {\n",
              "width:  10em;\n",
              "height:  80%;\n",
              "background:  linear-gradient(90deg,skyblue 52.8%, transparent 52.8%);\n",
              "}    #T_63a07192_e14e_11e9_a48a_0242ac1c0002row6_col0 {\n",
              "width:  10em;\n",
              "height:  80%;\n",
              "background:  linear-gradient(90deg,skyblue 100.0%, transparent 100.0%);\n",
              "}    #T_63a07192_e14e_11e9_a48a_0242ac1c0002row6_col1 {\n",
              "width:  10em;\n",
              "height:  80%;\n",
              "background:  linear-gradient(90deg,skyblue 45.5%, transparent 45.5%);\n",
              "}    #T_63a07192_e14e_11e9_a48a_0242ac1c0002row6_col3 {\n",
              "width:  10em;\n",
              "height:  80%;\n",
              "background:  linear-gradient(90deg,skyblue 45.5%, transparent 45.5%);\n",
              "}    #T_63a07192_e14e_11e9_a48a_0242ac1c0002row7_col0 {\n",
              "width:  10em;\n",
              "height:  80%;\n",
              "background:  linear-gradient(90deg,skyblue 100.0%, transparent 100.0%);\n",
              "}    #T_63a07192_e14e_11e9_a48a_0242ac1c0002row7_col1 {\n",
              "width:  10em;\n",
              "height:  80%;\n",
              "background:  linear-gradient(90deg,skyblue 37.9%, transparent 37.9%);\n",
              "}    #T_63a07192_e14e_11e9_a48a_0242ac1c0002row7_col3 {\n",
              "width:  10em;\n",
              "height:  80%;\n",
              "background:  linear-gradient(90deg,skyblue 37.9%, transparent 37.9%);\n",
              "}    #T_63a07192_e14e_11e9_a48a_0242ac1c0002row8_col0 {\n",
              "width:  10em;\n",
              "height:  80%;\n",
              "background:  linear-gradient(90deg,skyblue 100.0%, transparent 100.0%);\n",
              "}    #T_63a07192_e14e_11e9_a48a_0242ac1c0002row8_col1 {\n",
              "width:  10em;\n",
              "height:  80%;\n",
              "background:  linear-gradient(90deg,skyblue 29.8%, transparent 29.8%);\n",
              "}    #T_63a07192_e14e_11e9_a48a_0242ac1c0002row8_col3 {\n",
              "width:  10em;\n",
              "height:  80%;\n",
              "background:  linear-gradient(90deg,skyblue 29.8%, transparent 29.8%);\n",
              "}    #T_63a07192_e14e_11e9_a48a_0242ac1c0002row9_col0 {\n",
              "width:  10em;\n",
              "height:  80%;\n",
              "background:  linear-gradient(90deg,skyblue 100.0%, transparent 100.0%);\n",
              "}    #T_63a07192_e14e_11e9_a48a_0242ac1c0002row9_col1 {\n",
              "width:  10em;\n",
              "height:  80%;\n",
              "background:  linear-gradient(90deg,skyblue 28.7%, transparent 28.7%);\n",
              "}    #T_63a07192_e14e_11e9_a48a_0242ac1c0002row9_col3 {\n",
              "width:  10em;\n",
              "height:  80%;\n",
              "background:  linear-gradient(90deg,skyblue 28.7%, transparent 28.7%);\n",
              "}    #T_63a07192_e14e_11e9_a48a_0242ac1c0002row10_col0 {\n",
              "width:  10em;\n",
              "height:  80%;\n",
              "background:  linear-gradient(90deg,skyblue 100.0%, transparent 100.0%);\n",
              "}    #T_63a07192_e14e_11e9_a48a_0242ac1c0002row10_col1 {\n",
              "width:  10em;\n",
              "height:  80%;\n",
              "background:  linear-gradient(90deg,skyblue 24.4%, transparent 24.4%);\n",
              "}    #T_63a07192_e14e_11e9_a48a_0242ac1c0002row10_col3 {\n",
              "width:  10em;\n",
              "height:  80%;\n",
              "background:  linear-gradient(90deg,skyblue 24.4%, transparent 24.4%);\n",
              "}</style><table id=\"T_63a07192_e14e_11e9_a48a_0242ac1c0002\" ><thead>    <tr>        <th class=\"blank level0\" ></th>        <th class=\"col_heading level0 col0\" >TOTAL</th>        <th class=\"col_heading level0 col1\" >TARGET</th>        <th class=\"col_heading level0 col2\" >NONTARGET</th>        <th class=\"col_heading level0 col3\" >PCT_TGT</th>        <th class=\"col_heading level0 col4\" >CUM_TGT</th>        <th class=\"col_heading level0 col5\" >CUM_NONTGT</th>        <th class=\"col_heading level0 col6\" >DIST_TGT</th>        <th class=\"col_heading level0 col7\" >DIST_NONTGT</th>        <th class=\"col_heading level0 col8\" >SPREAD</th>    </tr>    <tr>        <th class=\"index_name level0\" >DECILE</th>        <th class=\"blank\" ></th>        <th class=\"blank\" ></th>        <th class=\"blank\" ></th>        <th class=\"blank\" ></th>        <th class=\"blank\" ></th>        <th class=\"blank\" ></th>        <th class=\"blank\" ></th>        <th class=\"blank\" ></th>        <th class=\"blank\" ></th>    </tr></thead><tbody>\n",
              "<tr>\n",
              "<th id=\"T_63a07192_e14e_11e9_a48a_0242ac1c0002level0_row0\" class=\"row_heading level0 row0\" >0.0</th>\n",
              "<td id=\"T_63a07192_e14e_11e9_a48a_0242ac1c0002row0_col0\" class=\"data row0 col0\" >0</td>\n",
              "<td id=\"T_63a07192_e14e_11e9_a48a_0242ac1c0002row0_col1\" class=\"data row0 col1\" >0</td>\n",
              "<td id=\"T_63a07192_e14e_11e9_a48a_0242ac1c0002row0_col2\" class=\"data row0 col2\" >0</td>\n",
              "<td id=\"T_63a07192_e14e_11e9_a48a_0242ac1c0002row0_col3\" class=\"data row0 col3\" >0</td>\n",
              "<td id=\"T_63a07192_e14e_11e9_a48a_0242ac1c0002row0_col4\" class=\"data row0 col4\" >0</td>\n",
              "<td id=\"T_63a07192_e14e_11e9_a48a_0242ac1c0002row0_col5\" class=\"data row0 col5\" >0</td>\n",
              "<td id=\"T_63a07192_e14e_11e9_a48a_0242ac1c0002row0_col6\" class=\"data row0 col6\" >0</td>\n",
              "<td id=\"T_63a07192_e14e_11e9_a48a_0242ac1c0002row0_col7\" class=\"data row0 col7\" >0</td>\n",
              "<td id=\"T_63a07192_e14e_11e9_a48a_0242ac1c0002row0_col8\" class=\"data row0 col8\" >0</td>\n",
              "</tr>\n",
              "<tr>\n",
              "<th id=\"T_63a07192_e14e_11e9_a48a_0242ac1c0002level0_row1\" class=\"row_heading level0 row1\" >1.0</th>\n",
              "<td id=\"T_63a07192_e14e_11e9_a48a_0242ac1c0002row1_col0\" class=\"data row1 col0\" >2226</td>\n",
              "<td id=\"T_63a07192_e14e_11e9_a48a_0242ac1c0002row1_col1\" class=\"data row1 col1\" >356</td>\n",
              "<td id=\"T_63a07192_e14e_11e9_a48a_0242ac1c0002row1_col2\" class=\"data row1 col2\" >1870</td>\n",
              "<td id=\"T_63a07192_e14e_11e9_a48a_0242ac1c0002row1_col3\" class=\"data row1 col3\" >15.9928</td>\n",
              "<td id=\"T_63a07192_e14e_11e9_a48a_0242ac1c0002row1_col4\" class=\"data row1 col4\" >356</td>\n",
              "<td id=\"T_63a07192_e14e_11e9_a48a_0242ac1c0002row1_col5\" class=\"data row1 col5\" >1870</td>\n",
              "<td id=\"T_63a07192_e14e_11e9_a48a_0242ac1c0002row1_col6\" class=\"data row1 col6\" >18.6485</td>\n",
              "<td id=\"T_63a07192_e14e_11e9_a48a_0242ac1c0002row1_col7\" class=\"data row1 col7\" >9.18919</td>\n",
              "<td id=\"T_63a07192_e14e_11e9_a48a_0242ac1c0002row1_col8\" class=\"data row1 col8\" >9.45932</td>\n",
              "</tr>\n",
              "<tr>\n",
              "<th id=\"T_63a07192_e14e_11e9_a48a_0242ac1c0002level0_row2\" class=\"row_heading level0 row2\" >2.0</th>\n",
              "<td id=\"T_63a07192_e14e_11e9_a48a_0242ac1c0002row2_col0\" class=\"data row2 col0\" >2226</td>\n",
              "<td id=\"T_63a07192_e14e_11e9_a48a_0242ac1c0002row2_col1\" class=\"data row2 col1\" >331</td>\n",
              "<td id=\"T_63a07192_e14e_11e9_a48a_0242ac1c0002row2_col2\" class=\"data row2 col2\" >1895</td>\n",
              "<td id=\"T_63a07192_e14e_11e9_a48a_0242ac1c0002row2_col3\" class=\"data row2 col3\" >14.8697</td>\n",
              "<td id=\"T_63a07192_e14e_11e9_a48a_0242ac1c0002row2_col4\" class=\"data row2 col4\" >687</td>\n",
              "<td id=\"T_63a07192_e14e_11e9_a48a_0242ac1c0002row2_col5\" class=\"data row2 col5\" >3765</td>\n",
              "<td id=\"T_63a07192_e14e_11e9_a48a_0242ac1c0002row2_col6\" class=\"data row2 col6\" >35.9874</td>\n",
              "<td id=\"T_63a07192_e14e_11e9_a48a_0242ac1c0002row2_col7\" class=\"data row2 col7\" >18.5012</td>\n",
              "<td id=\"T_63a07192_e14e_11e9_a48a_0242ac1c0002row2_col8\" class=\"data row2 col8\" >17.4862</td>\n",
              "</tr>\n",
              "<tr>\n",
              "<th id=\"T_63a07192_e14e_11e9_a48a_0242ac1c0002level0_row3\" class=\"row_heading level0 row3\" >3.0</th>\n",
              "<td id=\"T_63a07192_e14e_11e9_a48a_0242ac1c0002row3_col0\" class=\"data row3 col0\" >2226</td>\n",
              "<td id=\"T_63a07192_e14e_11e9_a48a_0242ac1c0002row3_col1\" class=\"data row3 col1\" >241</td>\n",
              "<td id=\"T_63a07192_e14e_11e9_a48a_0242ac1c0002row3_col2\" class=\"data row3 col2\" >1985</td>\n",
              "<td id=\"T_63a07192_e14e_11e9_a48a_0242ac1c0002row3_col3\" class=\"data row3 col3\" >10.8266</td>\n",
              "<td id=\"T_63a07192_e14e_11e9_a48a_0242ac1c0002row3_col4\" class=\"data row3 col4\" >928</td>\n",
              "<td id=\"T_63a07192_e14e_11e9_a48a_0242ac1c0002row3_col5\" class=\"data row3 col5\" >5750</td>\n",
              "<td id=\"T_63a07192_e14e_11e9_a48a_0242ac1c0002row3_col6\" class=\"data row3 col6\" >48.6118</td>\n",
              "<td id=\"T_63a07192_e14e_11e9_a48a_0242ac1c0002row3_col7\" class=\"data row3 col7\" >28.2555</td>\n",
              "<td id=\"T_63a07192_e14e_11e9_a48a_0242ac1c0002row3_col8\" class=\"data row3 col8\" >20.3563</td>\n",
              "</tr>\n",
              "<tr>\n",
              "<th id=\"T_63a07192_e14e_11e9_a48a_0242ac1c0002level0_row4\" class=\"row_heading level0 row4\" >4.0</th>\n",
              "<td id=\"T_63a07192_e14e_11e9_a48a_0242ac1c0002row4_col0\" class=\"data row4 col0\" >2226</td>\n",
              "<td id=\"T_63a07192_e14e_11e9_a48a_0242ac1c0002row4_col1\" class=\"data row4 col1\" >201</td>\n",
              "<td id=\"T_63a07192_e14e_11e9_a48a_0242ac1c0002row4_col2\" class=\"data row4 col2\" >2025</td>\n",
              "<td id=\"T_63a07192_e14e_11e9_a48a_0242ac1c0002row4_col3\" class=\"data row4 col3\" >9.02965</td>\n",
              "<td id=\"T_63a07192_e14e_11e9_a48a_0242ac1c0002row4_col4\" class=\"data row4 col4\" >1129</td>\n",
              "<td id=\"T_63a07192_e14e_11e9_a48a_0242ac1c0002row4_col5\" class=\"data row4 col5\" >7775</td>\n",
              "<td id=\"T_63a07192_e14e_11e9_a48a_0242ac1c0002row4_col6\" class=\"data row4 col6\" >59.1409</td>\n",
              "<td id=\"T_63a07192_e14e_11e9_a48a_0242ac1c0002row4_col7\" class=\"data row4 col7\" >38.2064</td>\n",
              "<td id=\"T_63a07192_e14e_11e9_a48a_0242ac1c0002row4_col8\" class=\"data row4 col8\" >20.9345</td>\n",
              "</tr>\n",
              "<tr>\n",
              "<th id=\"T_63a07192_e14e_11e9_a48a_0242ac1c0002level0_row5\" class=\"row_heading level0 row5\" >5.0</th>\n",
              "<td id=\"T_63a07192_e14e_11e9_a48a_0242ac1c0002row5_col0\" class=\"data row5 col0\" >2225</td>\n",
              "<td id=\"T_63a07192_e14e_11e9_a48a_0242ac1c0002row5_col1\" class=\"data row5 col1\" >188</td>\n",
              "<td id=\"T_63a07192_e14e_11e9_a48a_0242ac1c0002row5_col2\" class=\"data row5 col2\" >2037</td>\n",
              "<td id=\"T_63a07192_e14e_11e9_a48a_0242ac1c0002row5_col3\" class=\"data row5 col3\" >8.44944</td>\n",
              "<td id=\"T_63a07192_e14e_11e9_a48a_0242ac1c0002row5_col4\" class=\"data row5 col4\" >1317</td>\n",
              "<td id=\"T_63a07192_e14e_11e9_a48a_0242ac1c0002row5_col5\" class=\"data row5 col5\" >9812</td>\n",
              "<td id=\"T_63a07192_e14e_11e9_a48a_0242ac1c0002row5_col6\" class=\"data row5 col6\" >68.989</td>\n",
              "<td id=\"T_63a07192_e14e_11e9_a48a_0242ac1c0002row5_col7\" class=\"data row5 col7\" >48.2162</td>\n",
              "<td id=\"T_63a07192_e14e_11e9_a48a_0242ac1c0002row5_col8\" class=\"data row5 col8\" >20.7728</td>\n",
              "</tr>\n",
              "<tr>\n",
              "<th id=\"T_63a07192_e14e_11e9_a48a_0242ac1c0002level0_row6\" class=\"row_heading level0 row6\" >6.0</th>\n",
              "<td id=\"T_63a07192_e14e_11e9_a48a_0242ac1c0002row6_col0\" class=\"data row6 col0\" >2226</td>\n",
              "<td id=\"T_63a07192_e14e_11e9_a48a_0242ac1c0002row6_col1\" class=\"data row6 col1\" >162</td>\n",
              "<td id=\"T_63a07192_e14e_11e9_a48a_0242ac1c0002row6_col2\" class=\"data row6 col2\" >2064</td>\n",
              "<td id=\"T_63a07192_e14e_11e9_a48a_0242ac1c0002row6_col3\" class=\"data row6 col3\" >7.27763</td>\n",
              "<td id=\"T_63a07192_e14e_11e9_a48a_0242ac1c0002row6_col4\" class=\"data row6 col4\" >1479</td>\n",
              "<td id=\"T_63a07192_e14e_11e9_a48a_0242ac1c0002row6_col5\" class=\"data row6 col5\" >11876</td>\n",
              "<td id=\"T_63a07192_e14e_11e9_a48a_0242ac1c0002row6_col6\" class=\"data row6 col6\" >77.4751</td>\n",
              "<td id=\"T_63a07192_e14e_11e9_a48a_0242ac1c0002row6_col7\" class=\"data row6 col7\" >58.3587</td>\n",
              "<td id=\"T_63a07192_e14e_11e9_a48a_0242ac1c0002row6_col8\" class=\"data row6 col8\" >19.1164</td>\n",
              "</tr>\n",
              "<tr>\n",
              "<th id=\"T_63a07192_e14e_11e9_a48a_0242ac1c0002level0_row7\" class=\"row_heading level0 row7\" >7.0</th>\n",
              "<td id=\"T_63a07192_e14e_11e9_a48a_0242ac1c0002row7_col0\" class=\"data row7 col0\" >2226</td>\n",
              "<td id=\"T_63a07192_e14e_11e9_a48a_0242ac1c0002row7_col1\" class=\"data row7 col1\" >135</td>\n",
              "<td id=\"T_63a07192_e14e_11e9_a48a_0242ac1c0002row7_col2\" class=\"data row7 col2\" >2091</td>\n",
              "<td id=\"T_63a07192_e14e_11e9_a48a_0242ac1c0002row7_col3\" class=\"data row7 col3\" >6.06469</td>\n",
              "<td id=\"T_63a07192_e14e_11e9_a48a_0242ac1c0002row7_col4\" class=\"data row7 col4\" >1614</td>\n",
              "<td id=\"T_63a07192_e14e_11e9_a48a_0242ac1c0002row7_col5\" class=\"data row7 col5\" >13967</td>\n",
              "<td id=\"T_63a07192_e14e_11e9_a48a_0242ac1c0002row7_col6\" class=\"data row7 col6\" >84.5469</td>\n",
              "<td id=\"T_63a07192_e14e_11e9_a48a_0242ac1c0002row7_col7\" class=\"data row7 col7\" >68.6339</td>\n",
              "<td id=\"T_63a07192_e14e_11e9_a48a_0242ac1c0002row7_col8\" class=\"data row7 col8\" >15.913</td>\n",
              "</tr>\n",
              "<tr>\n",
              "<th id=\"T_63a07192_e14e_11e9_a48a_0242ac1c0002level0_row8\" class=\"row_heading level0 row8\" >8.0</th>\n",
              "<td id=\"T_63a07192_e14e_11e9_a48a_0242ac1c0002row8_col0\" class=\"data row8 col0\" >2226</td>\n",
              "<td id=\"T_63a07192_e14e_11e9_a48a_0242ac1c0002row8_col1\" class=\"data row8 col1\" >106</td>\n",
              "<td id=\"T_63a07192_e14e_11e9_a48a_0242ac1c0002row8_col2\" class=\"data row8 col2\" >2120</td>\n",
              "<td id=\"T_63a07192_e14e_11e9_a48a_0242ac1c0002row8_col3\" class=\"data row8 col3\" >4.7619</td>\n",
              "<td id=\"T_63a07192_e14e_11e9_a48a_0242ac1c0002row8_col4\" class=\"data row8 col4\" >1720</td>\n",
              "<td id=\"T_63a07192_e14e_11e9_a48a_0242ac1c0002row8_col5\" class=\"data row8 col5\" >16087</td>\n",
              "<td id=\"T_63a07192_e14e_11e9_a48a_0242ac1c0002row8_col6\" class=\"data row8 col6\" >90.0995</td>\n",
              "<td id=\"T_63a07192_e14e_11e9_a48a_0242ac1c0002row8_col7\" class=\"data row8 col7\" >79.0516</td>\n",
              "<td id=\"T_63a07192_e14e_11e9_a48a_0242ac1c0002row8_col8\" class=\"data row8 col8\" >11.0479</td>\n",
              "</tr>\n",
              "<tr>\n",
              "<th id=\"T_63a07192_e14e_11e9_a48a_0242ac1c0002level0_row9\" class=\"row_heading level0 row9\" >9.0</th>\n",
              "<td id=\"T_63a07192_e14e_11e9_a48a_0242ac1c0002row9_col0\" class=\"data row9 col0\" >2226</td>\n",
              "<td id=\"T_63a07192_e14e_11e9_a48a_0242ac1c0002row9_col1\" class=\"data row9 col1\" >102</td>\n",
              "<td id=\"T_63a07192_e14e_11e9_a48a_0242ac1c0002row9_col2\" class=\"data row9 col2\" >2124</td>\n",
              "<td id=\"T_63a07192_e14e_11e9_a48a_0242ac1c0002row9_col3\" class=\"data row9 col3\" >4.58221</td>\n",
              "<td id=\"T_63a07192_e14e_11e9_a48a_0242ac1c0002row9_col4\" class=\"data row9 col4\" >1822</td>\n",
              "<td id=\"T_63a07192_e14e_11e9_a48a_0242ac1c0002row9_col5\" class=\"data row9 col5\" >18211</td>\n",
              "<td id=\"T_63a07192_e14e_11e9_a48a_0242ac1c0002row9_col6\" class=\"data row9 col6\" >95.4426</td>\n",
              "<td id=\"T_63a07192_e14e_11e9_a48a_0242ac1c0002row9_col7\" class=\"data row9 col7\" >89.4889</td>\n",
              "<td id=\"T_63a07192_e14e_11e9_a48a_0242ac1c0002row9_col8\" class=\"data row9 col8\" >5.9537</td>\n",
              "</tr>\n",
              "<tr>\n",
              "<th id=\"T_63a07192_e14e_11e9_a48a_0242ac1c0002level0_row10\" class=\"row_heading level0 row10\" >10.0</th>\n",
              "<td id=\"T_63a07192_e14e_11e9_a48a_0242ac1c0002row10_col0\" class=\"data row10 col0\" >2226</td>\n",
              "<td id=\"T_63a07192_e14e_11e9_a48a_0242ac1c0002row10_col1\" class=\"data row10 col1\" >87</td>\n",
              "<td id=\"T_63a07192_e14e_11e9_a48a_0242ac1c0002row10_col2\" class=\"data row10 col2\" >2139</td>\n",
              "<td id=\"T_63a07192_e14e_11e9_a48a_0242ac1c0002row10_col3\" class=\"data row10 col3\" >3.90836</td>\n",
              "<td id=\"T_63a07192_e14e_11e9_a48a_0242ac1c0002row10_col4\" class=\"data row10 col4\" >1909</td>\n",
              "<td id=\"T_63a07192_e14e_11e9_a48a_0242ac1c0002row10_col5\" class=\"data row10 col5\" >20350</td>\n",
              "<td id=\"T_63a07192_e14e_11e9_a48a_0242ac1c0002row10_col6\" class=\"data row10 col6\" >100</td>\n",
              "<td id=\"T_63a07192_e14e_11e9_a48a_0242ac1c0002row10_col7\" class=\"data row10 col7\" >100</td>\n",
              "<td id=\"T_63a07192_e14e_11e9_a48a_0242ac1c0002row10_col8\" class=\"data row10 col8\" >0</td>\n",
              "</tr>\n",
              "</tbody></table>"
            ],
            "text/plain": [
              "<IPython.core.display.HTML object>"
            ]
          },
          "metadata": {
            "tags": []
          },
          "execution_count": 35
        }
      ]
    },
    {
      "cell_type": "code",
      "metadata": {
        "id": "OkLFpPYurkuu",
        "colab_type": "code",
        "colab": {}
      },
      "source": [
        " #Gains Chart2\n",
        "    \n",
        "def plots(agg1, target, type):\n",
        "  plt.figure(1, figsize=(20, 5))\n",
        "  plt.subplot(131)\n",
        "  plt.plot(agg1['DECILE'], agg1['ACTUAL'], label='Actual')\n",
        "  plt.plot(agg1['DECILE'], agg1['PRED'], label='Pred')\n",
        "  plt.xticks(range(10, 110, 10))\n",
        "  plt.legend(fontsize=15)\n",
        "  plt.grid(True)\n",
        "  plt.title('Actual vs Predicted', fontsize=20)\n",
        "  plt.xlabel(\"Population %\", fontsize=15)\n",
        "  plt.ylabel(str(target) + \" \" + str(type) + \" %\", fontsize=15)\n",
        "\n",
        "  plt.subplot(132)\n",
        "  X = agg1['DECILE'].tolist()\n",
        "  X.append(0)\n",
        "  Y = agg1['DIST_TGT'].tolist()\n",
        "  Y.append(0)\n",
        "  plt.plot(sorted(X), sorted(Y))\n",
        "  plt.plot([0, 100], [0, 100], 'r--')\n",
        "  plt.xticks(range(0, 110, 10))\n",
        "  plt.yticks(range(0, 110, 10))\n",
        "  plt.grid(True)\n",
        "  plt.title('Cumulative Gains Chart', fontsize=20)\n",
        "  plt.xlabel(\"Population %\", fontsize=15)\n",
        "  plt.ylabel(str(target) + str(\" DISTRIBUTION\") + \" %\", fontsize=15)\n",
        "  plt.annotate(round(agg1[agg1['DECILE'] == 30].DIST_TGT.item(), 2), xy=[30, 30], \n",
        "          xytext=(25, agg1[agg1['DECILE'] == 30].DIST_TGT.item() + 5), fontsize = 13)\n",
        "  plt.annotate(round(agg1[agg1['DECILE'] == 50].DIST_TGT.item(), 2), xy=[50, 50], \n",
        "          xytext=(45, agg1[agg1['DECILE'] == 50].DIST_TGT.item() + 5), fontsize = 13)\n",
        "\n",
        "  plt.subplot(133)\n",
        "  plt.plot(agg1['DECILE'], agg1['LIFT'])\n",
        "  plt.axhline(y=1, C='r', ls='--')\n",
        "  plt.xticks(range(10, 110, 10))\n",
        "  plt.grid(True)\n",
        "  plt.title('Lift Chart', fontsize=20)\n",
        "  plt.xlabel(\"Population %\", fontsize=15)\n",
        "  plt.ylabel(\"Lift\", fontsize=15)\n",
        "\n",
        "  plt.tight_layout()\n",
        "\n",
        "def gains(data, decile_by, target, score):\n",
        "  inputs = list(decile_by)\n",
        "  inputs.extend((target, score))\n",
        "  decile = data[inputs]\n",
        "  grouped = decile.groupby(decile_by)\n",
        "  agg1 = pd.DataFrame({}, index=[])\n",
        "  agg1['ACTUAL'] = grouped.mean()[target]*100\n",
        "  agg1['PRED'] = grouped.mean()[score]*100\n",
        "  agg1['DIST_TGT'] = grouped.sum()[target].cumsum()/grouped.sum()[target].sum()*100\n",
        "  agg1.index.name = 'DECILE'\n",
        "  agg1 = agg1.reset_index()\n",
        "  agg1['DECILE'] = agg1['DECILE']*10\n",
        "  agg1['LIFT'] = agg1['DIST_TGT']/agg1['DECILE']\n",
        "  plots(agg1, target, 'Distribution')\n"
      ],
      "execution_count": 0,
      "outputs": []
    },
    {
      "cell_type": "code",
      "metadata": {
        "id": "ffHAFXboFX2N",
        "colab_type": "code",
        "colab": {
          "base_uri": "https://localhost:8080/",
          "height": 369
        },
        "outputId": "0ad8e7a1-9dbe-42f5-b971-5792a9c75885"
      },
      "source": [
        "lift_train = pd.concat([train_features, scores_train], axis=1)\n",
        "lift_test = pd.concat([test_features, scores_test], axis=1)\n",
        "\n",
        "gains(lift_train, ['DECILE'], 'TARGET', 'SCORE')"
      ],
      "execution_count": 37,
      "outputs": [
        {
          "output_type": "display_data",
          "data": {
            "image/png": "[encoded data removed]",
            "text/plain": [
              "<Figure size 1440x360 with 3 Axes>"
            ]
          },
          "metadata": {
            "tags": []
          }
        }
      ]
    },
    {
      "cell_type": "code",
      "metadata": {
        "id": "17R69uLTib9u",
        "colab_type": "code",
        "colab": {
          "base_uri": "https://localhost:8080/",
          "height": 369
        },
        "outputId": "dc32259a-d2c7-4434-b134-82bf6b55b123"
      },
      "source": [
        "gains(lift_test, ['DECILE'], 'TARGET', 'SCORE')"
      ],
      "execution_count": 38,
      "outputs": [
        {
          "output_type": "display_data",
          "data": {
            "image/png": "[encoded data removed]",
            "text/plain": [
              "<Figure size 1440x360 with 3 Axes>"
            ]
          },
          "metadata": {
            "tags": []
          }
        }
      ]
    }
  ]
}