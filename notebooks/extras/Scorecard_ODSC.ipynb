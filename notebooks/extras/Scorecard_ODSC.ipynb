{
  "nbformat": 4,
  "nbformat_minor": 0,
  "metadata": {
    "colab": {
      "name": "Scorecard_ODSC.ipynb",
      "provenance": [],
      "collapsed_sections": [],
      "toc_visible": true,
      "include_colab_link": true
    },
    "kernelspec": {
      "name": "python3",
      "display_name": "Python 3"
    }
  },
  "cells": [
    {
      "cell_type": "markdown",
      "metadata": {
        "id": "view-in-github",
        "colab_type": "text"
      },
      "source": [
        "<a href=\"https://colab.research.google.com/github/paulc00/ML-Intro/blob/master/notebooks/extras/Scorecard_ODSC.ipynb\" target=\"_parent\"><img src=\"https://colab.research.google.com/assets/colab-badge.svg\" alt=\"Open In Colab\"/></a>"
      ]
    },
    {
      "cell_type": "markdown",
      "metadata": {
        "id": "bIu_3FE4hdfY",
        "colab_type": "text"
      },
      "source": [
        "ScorecardODSC_7Aug\n",
        "Created on Mon Aug  5 09:43:55 2019\n",
        "@author: KAVITA DWIVEDI\n",
        "\"\"\"\n",
        "\n",
        "Edited: Paul Conway, Sep 2019\n",
        "\n",
        "This shows the full machine learning pipeline for a realistic problem: financial credit scoring.\n",
        "\n",
        "*See the acompanying slides for further explanation*"
      ]
    },
    {
      "cell_type": "markdown",
      "metadata": {
        "id": "uvEtulnyeJ4d",
        "colab_type": "text"
      },
      "source": [
        "## Sec 1. Importing libraries"
      ]
    },
    {
      "cell_type": "markdown",
      "metadata": {
        "id": "uxG87n9-0KiB",
        "colab_type": "text"
      },
      "source": [
        "Here we import the necessary python packages"
      ]
    },
    {
      "cell_type": "code",
      "metadata": {
        "id": "07yORTRSheuo",
        "colab_type": "code",
        "colab": {}
      },
      "source": [
        "#Importing the Libraries\n",
        "\n",
        "# Pandas for data manipulation\n",
        "import pandas as pd\n",
        "from pandas.core import algorithms\n",
        "\n",
        "# Numpy for vectors, matrices and linear algebra\n",
        "import numpy as np\n",
        "\n",
        "# matplotlib and Seaborn for graphing\n",
        "import matplotlib.pyplot as plt\n",
        "%matplotlib inline\n",
        "import seaborn as sns\n",
        "\n",
        "# scikit utilities for preprocessing, model selection and measuring performance\n",
        "from sklearn.preprocessing import LabelEncoder\n",
        "from sklearn.model_selection import train_test_split\n",
        "from sklearn.metrics import (classification_report, \n",
        "                             confusion_matrix, \n",
        "                             accuracy_score, \n",
        "                             roc_curve, \n",
        "                             auc)\n",
        "\n",
        "# ML models\n",
        "from sklearn.svm import SVC\n",
        "from sklearn.ensemble import RandomForestClassifier, GradientBoostingClassifier\n",
        "\n",
        "# We'll use variane inflation factor to do some feature selection\n",
        "from statsmodels.stats.outliers_influence import variance_inflation_factor\n",
        "\n",
        "# Some special dictionary types \n",
        "from collections import defaultdict, OrderedDict\n",
        "\n",
        "from pathlib import Path  # for chekcing if we cloned the repository already\n",
        "\n",
        "from scipy.stats import spearmanr\n",
        "import re\n",
        "import traceback\n",
        "import string\n",
        "\n",
        "from IPython.core.display import HTML\n",
        "\n",
        "from pprint import pprint"
      ],
      "execution_count": 0,
      "outputs": []
    },
    {
      "cell_type": "code",
      "metadata": {
        "id": "oqA1o1TGmH40",
        "colab_type": "code",
        "colab": {}
      },
      "source": [
        "# set random_state, to ensure results look the same every time\n",
        "rs = 4"
      ],
      "execution_count": 0,
      "outputs": []
    },
    {
      "cell_type": "markdown",
      "metadata": {
        "id": "_ADUoWEjecOl",
        "colab_type": "text"
      },
      "source": [
        "## Sec 2. Cloning The Github"
      ]
    },
    {
      "cell_type": "code",
      "metadata": {
        "id": "Ahr7w8BJhjIY",
        "colab_type": "code",
        "colab": {}
      },
      "source": [
        "if not Path(\"ScorecardODSC\").is_dir():\n",
        "  !git clone https://github.com/kavitablockyto/ScorecardODSC.git "
      ],
      "execution_count": 0,
      "outputs": []
    },
    {
      "cell_type": "markdown",
      "metadata": {
        "id": "w8utPT_kerkr",
        "colab_type": "text"
      },
      "source": [
        "##Section 3. Importing the Dataset and Sampling"
      ]
    },
    {
      "cell_type": "code",
      "metadata": {
        "id": "BClVz4m1iBrn",
        "colab_type": "code",
        "outputId": "13ce72b3-e349-421e-d19d-aa0e9d6d5ce1",
        "colab": {
          "base_uri": "https://localhost:8080/",
          "height": 309
        }
      },
      "source": [
        "# defining path of Collection_Home3.xlsx\n",
        "path=(\"/content/ScorecardODSC/Collection_Home3.xlsx\")\n",
        "\n",
        "#Reading the Dataset\n",
        "\n",
        "df = pd.read_excel(path)"
      ],
      "execution_count": 4,
      "outputs": [
        {
          "output_type": "execute_result",
          "data": {
            "text/html": [
              "<div>\n",
              "<style scoped>\n",
              "    .dataframe tbody tr th:only-of-type {\n",
              "        vertical-align: middle;\n",
              "    }\n",
              "\n",
              "    .dataframe tbody tr th {\n",
              "        vertical-align: top;\n",
              "    }\n",
              "\n",
              "    .dataframe thead th {\n",
              "        text-align: right;\n",
              "    }\n",
              "</style>\n",
              "<table border=\"1\" class=\"dataframe\">\n",
              "  <thead>\n",
              "    <tr style=\"text-align: right;\">\n",
              "      <th></th>\n",
              "      <th>CODE_GENDER</th>\n",
              "      <th>NAME_INCOME_TYPE</th>\n",
              "      <th>NAME_EDUCATION_TYPE</th>\n",
              "      <th>NAME_FAMILY_STATUS</th>\n",
              "      <th>DAYS_BIRTH</th>\n",
              "      <th>DAYS_EMPLOYED</th>\n",
              "      <th>DAYS_REGISTRATION</th>\n",
              "      <th>DAYS_ID_PUBLISH</th>\n",
              "      <th>FLAG_EMP_PHONE</th>\n",
              "      <th>FLAG_WORK_PHONE</th>\n",
              "      <th>FLAG_PHONE</th>\n",
              "      <th>OCCUPATION_TYPE</th>\n",
              "      <th>REG_CITY_NOT_LIVE_CITY</th>\n",
              "      <th>REG_CITY_NOT_WORK_CITY</th>\n",
              "      <th>ORGANIZATION_TYPE</th>\n",
              "      <th>DAYS_LAST_PHONE_CHANGE</th>\n",
              "      <th>TARGET</th>\n",
              "    </tr>\n",
              "  </thead>\n",
              "  <tbody>\n",
              "    <tr>\n",
              "      <th>177958</th>\n",
              "      <td>F</td>\n",
              "      <td>Working</td>\n",
              "      <td>Higher education</td>\n",
              "      <td>Married</td>\n",
              "      <td>10512</td>\n",
              "      <td>2147</td>\n",
              "      <td>4746.0</td>\n",
              "      <td>438</td>\n",
              "      <td>1</td>\n",
              "      <td>1</td>\n",
              "      <td>0</td>\n",
              "      <td>Managers</td>\n",
              "      <td>0</td>\n",
              "      <td>1</td>\n",
              "      <td>Business Entity Type 3</td>\n",
              "      <td>105</td>\n",
              "      <td>0</td>\n",
              "    </tr>\n",
              "    <tr>\n",
              "      <th>128842</th>\n",
              "      <td>F</td>\n",
              "      <td>Pensioner</td>\n",
              "      <td>Secondary / secondary special</td>\n",
              "      <td>Widow</td>\n",
              "      <td>21497</td>\n",
              "      <td>365243</td>\n",
              "      <td>8186.0</td>\n",
              "      <td>4042</td>\n",
              "      <td>0</td>\n",
              "      <td>0</td>\n",
              "      <td>0</td>\n",
              "      <td>NaN</td>\n",
              "      <td>0</td>\n",
              "      <td>0</td>\n",
              "      <td>XNA</td>\n",
              "      <td>2300</td>\n",
              "      <td>0</td>\n",
              "    </tr>\n",
              "    <tr>\n",
              "      <th>146276</th>\n",
              "      <td>F</td>\n",
              "      <td>Commercial associate</td>\n",
              "      <td>Higher education</td>\n",
              "      <td>Single / not married</td>\n",
              "      <td>20031</td>\n",
              "      <td>6874</td>\n",
              "      <td>4092.0</td>\n",
              "      <td>3589</td>\n",
              "      <td>1</td>\n",
              "      <td>0</td>\n",
              "      <td>1</td>\n",
              "      <td>Managers</td>\n",
              "      <td>0</td>\n",
              "      <td>0</td>\n",
              "      <td>Other</td>\n",
              "      <td>545</td>\n",
              "      <td>0</td>\n",
              "    </tr>\n",
              "    <tr>\n",
              "      <th>259956</th>\n",
              "      <td>M</td>\n",
              "      <td>Commercial associate</td>\n",
              "      <td>Secondary / secondary special</td>\n",
              "      <td>Married</td>\n",
              "      <td>11835</td>\n",
              "      <td>5047</td>\n",
              "      <td>28.0</td>\n",
              "      <td>4235</td>\n",
              "      <td>1</td>\n",
              "      <td>0</td>\n",
              "      <td>0</td>\n",
              "      <td>Drivers</td>\n",
              "      <td>0</td>\n",
              "      <td>0</td>\n",
              "      <td>Business Entity Type 3</td>\n",
              "      <td>768</td>\n",
              "      <td>0</td>\n",
              "    </tr>\n",
              "    <tr>\n",
              "      <th>42348</th>\n",
              "      <td>F</td>\n",
              "      <td>Pensioner</td>\n",
              "      <td>Secondary / secondary special</td>\n",
              "      <td>Married</td>\n",
              "      <td>23096</td>\n",
              "      <td>365243</td>\n",
              "      <td>9705.0</td>\n",
              "      <td>4078</td>\n",
              "      <td>0</td>\n",
              "      <td>0</td>\n",
              "      <td>1</td>\n",
              "      <td>NaN</td>\n",
              "      <td>0</td>\n",
              "      <td>0</td>\n",
              "      <td>XNA</td>\n",
              "      <td>582</td>\n",
              "      <td>0</td>\n",
              "    </tr>\n",
              "  </tbody>\n",
              "</table>\n",
              "</div>"
            ],
            "text/plain": [
              "       CODE_GENDER      NAME_INCOME_TYPE  ... DAYS_LAST_PHONE_CHANGE TARGET\n",
              "177958           F               Working  ...                    105      0\n",
              "128842           F             Pensioner  ...                   2300      0\n",
              "146276           F  Commercial associate  ...                    545      0\n",
              "259956           M  Commercial associate  ...                    768      0\n",
              "42348            F             Pensioner  ...                    582      0\n",
              "\n",
              "[5 rows x 17 columns]"
            ]
          },
          "metadata": {
            "tags": []
          },
          "execution_count": 4
        }
      ]
    },
    {
      "cell_type": "code",
      "metadata": {
        "id": "9I_Ew4Njni0c",
        "colab_type": "code",
        "colab": {
          "base_uri": "https://localhost:8080/",
          "height": 292
        },
        "outputId": "a8b3a835-2fe8-46f0-9e76-2c907af640da"
      },
      "source": [
        "data_sample = df.sample(frac=0.1, random_state=rs)\n",
        "data_sample.head()"
      ],
      "execution_count": 73,
      "outputs": [
        {
          "output_type": "execute_result",
          "data": {
            "text/html": [
              "<div>\n",
              "<style scoped>\n",
              "    .dataframe tbody tr th:only-of-type {\n",
              "        vertical-align: middle;\n",
              "    }\n",
              "\n",
              "    .dataframe tbody tr th {\n",
              "        vertical-align: top;\n",
              "    }\n",
              "\n",
              "    .dataframe thead th {\n",
              "        text-align: right;\n",
              "    }\n",
              "</style>\n",
              "<table border=\"1\" class=\"dataframe\">\n",
              "  <thead>\n",
              "    <tr style=\"text-align: right;\">\n",
              "      <th></th>\n",
              "      <th>CODE_GENDER</th>\n",
              "      <th>NAME_INCOME_TYPE</th>\n",
              "      <th>NAME_EDUCATION_TYPE</th>\n",
              "      <th>NAME_FAMILY_STATUS</th>\n",
              "      <th>DAYS_BIRTH</th>\n",
              "      <th>DAYS_EMPLOYED</th>\n",
              "      <th>DAYS_REGISTRATION</th>\n",
              "      <th>DAYS_ID_PUBLISH</th>\n",
              "      <th>FLAG_EMP_PHONE</th>\n",
              "      <th>FLAG_WORK_PHONE</th>\n",
              "      <th>FLAG_PHONE</th>\n",
              "      <th>OCCUPATION_TYPE</th>\n",
              "      <th>REG_CITY_NOT_LIVE_CITY</th>\n",
              "      <th>REG_CITY_NOT_WORK_CITY</th>\n",
              "      <th>ORGANIZATION_TYPE</th>\n",
              "      <th>DAYS_LAST_PHONE_CHANGE</th>\n",
              "      <th>TARGET</th>\n",
              "    </tr>\n",
              "  </thead>\n",
              "  <tbody>\n",
              "    <tr>\n",
              "      <th>206579</th>\n",
              "      <td>M</td>\n",
              "      <td>Working</td>\n",
              "      <td>Secondary / secondary special</td>\n",
              "      <td>Married</td>\n",
              "      <td>12658</td>\n",
              "      <td>181</td>\n",
              "      <td>3175.0</td>\n",
              "      <td>2907</td>\n",
              "      <td>1</td>\n",
              "      <td>0</td>\n",
              "      <td>0</td>\n",
              "      <td>NaN</td>\n",
              "      <td>0</td>\n",
              "      <td>1</td>\n",
              "      <td>Construction</td>\n",
              "      <td>325</td>\n",
              "      <td>0</td>\n",
              "    </tr>\n",
              "    <tr>\n",
              "      <th>242057</th>\n",
              "      <td>F</td>\n",
              "      <td>Working</td>\n",
              "      <td>Higher education</td>\n",
              "      <td>Single / not married</td>\n",
              "      <td>11058</td>\n",
              "      <td>1031</td>\n",
              "      <td>1984.0</td>\n",
              "      <td>3631</td>\n",
              "      <td>1</td>\n",
              "      <td>0</td>\n",
              "      <td>0</td>\n",
              "      <td>Laborers</td>\n",
              "      <td>0</td>\n",
              "      <td>0</td>\n",
              "      <td>Business Entity Type 3</td>\n",
              "      <td>311</td>\n",
              "      <td>1</td>\n",
              "    </tr>\n",
              "    <tr>\n",
              "      <th>104966</th>\n",
              "      <td>M</td>\n",
              "      <td>Commercial associate</td>\n",
              "      <td>Higher education</td>\n",
              "      <td>Separated</td>\n",
              "      <td>18949</td>\n",
              "      <td>4950</td>\n",
              "      <td>7568.0</td>\n",
              "      <td>2318</td>\n",
              "      <td>1</td>\n",
              "      <td>0</td>\n",
              "      <td>0</td>\n",
              "      <td>Managers</td>\n",
              "      <td>0</td>\n",
              "      <td>0</td>\n",
              "      <td>Business Entity Type 3</td>\n",
              "      <td>932</td>\n",
              "      <td>0</td>\n",
              "    </tr>\n",
              "    <tr>\n",
              "      <th>54429</th>\n",
              "      <td>M</td>\n",
              "      <td>Working</td>\n",
              "      <td>Secondary / secondary special</td>\n",
              "      <td>Married</td>\n",
              "      <td>9328</td>\n",
              "      <td>965</td>\n",
              "      <td>3802.0</td>\n",
              "      <td>2007</td>\n",
              "      <td>1</td>\n",
              "      <td>1</td>\n",
              "      <td>0</td>\n",
              "      <td>Laborers</td>\n",
              "      <td>0</td>\n",
              "      <td>1</td>\n",
              "      <td>Industry: type 3</td>\n",
              "      <td>495</td>\n",
              "      <td>0</td>\n",
              "    </tr>\n",
              "    <tr>\n",
              "      <th>19609</th>\n",
              "      <td>F</td>\n",
              "      <td>Working</td>\n",
              "      <td>Incomplete higher</td>\n",
              "      <td>Married</td>\n",
              "      <td>9963</td>\n",
              "      <td>1411</td>\n",
              "      <td>256.0</td>\n",
              "      <td>1790</td>\n",
              "      <td>1</td>\n",
              "      <td>0</td>\n",
              "      <td>0</td>\n",
              "      <td>Core staff</td>\n",
              "      <td>0</td>\n",
              "      <td>0</td>\n",
              "      <td>Trade: type 2</td>\n",
              "      <td>150</td>\n",
              "      <td>0</td>\n",
              "    </tr>\n",
              "  </tbody>\n",
              "</table>\n",
              "</div>"
            ],
            "text/plain": [
              "       CODE_GENDER      NAME_INCOME_TYPE  ... DAYS_LAST_PHONE_CHANGE TARGET\n",
              "206579           M               Working  ...                    325      0\n",
              "242057           F               Working  ...                    311      1\n",
              "104966           M  Commercial associate  ...                    932      0\n",
              "54429            M               Working  ...                    495      0\n",
              "19609            F               Working  ...                    150      0\n",
              "\n",
              "[5 rows x 17 columns]"
            ]
          },
          "metadata": {
            "tags": []
          },
          "execution_count": 73
        }
      ]
    },
    {
      "cell_type": "code",
      "metadata": {
        "id": "_aaMtEI4ie9P",
        "colab_type": "code",
        "outputId": "a1405432-f995-4598-9566-aeb1eb8824fa",
        "colab": {
          "base_uri": "https://localhost:8080/",
          "height": 68
        }
      },
      "source": [
        "# Counting Target Variable numbers\n",
        "df.TARGET.value_counts()"
      ],
      "execution_count": 74,
      "outputs": [
        {
          "output_type": "execute_result",
          "data": {
            "text/plain": [
              "0    255011\n",
              "1     23221\n",
              "Name: TARGET, dtype: int64"
            ]
          },
          "metadata": {
            "tags": []
          },
          "execution_count": 74
        }
      ]
    },
    {
      "cell_type": "code",
      "metadata": {
        "id": "YNJR770nuMJW",
        "colab_type": "code",
        "outputId": "71bb31c5-465c-44a3-de44-5d496d8deaf7",
        "colab": {
          "base_uri": "https://localhost:8080/",
          "height": 68
        }
      },
      "source": [
        "\n",
        "data_sample.TARGET.value_counts()"
      ],
      "execution_count": 75,
      "outputs": [
        {
          "output_type": "execute_result",
          "data": {
            "text/plain": [
              "0    25485\n",
              "1     2338\n",
              "Name: TARGET, dtype: int64"
            ]
          },
          "metadata": {
            "tags": []
          },
          "execution_count": 75
        }
      ]
    },
    {
      "cell_type": "code",
      "metadata": {
        "id": "ZJXRS0VKihRW",
        "colab_type": "code",
        "outputId": "a73bc04d-98a2-4483-8a65-35a806fc6f45",
        "colab": {
          "base_uri": "https://localhost:8080/",
          "height": 68
        }
      },
      "source": [
        "#Descriptive Stats\n",
        "#Target Variable Count in data and sample\n",
        "\n",
        "df.TARGET.value_counts()/len(df)\n",
        "data_sample.TARGET.value_counts()/len(data_sample)"
      ],
      "execution_count": 76,
      "outputs": [
        {
          "output_type": "execute_result",
          "data": {
            "text/plain": [
              "0    0.915969\n",
              "1    0.084031\n",
              "Name: TARGET, dtype: float64"
            ]
          },
          "metadata": {
            "tags": []
          },
          "execution_count": 76
        }
      ]
    },
    {
      "cell_type": "code",
      "metadata": {
        "id": "nAE3McK-ijPm",
        "colab_type": "code",
        "outputId": "8a34ff44-887d-4b89-fc56-3f17d2dba6b2",
        "colab": {
          "base_uri": "https://localhost:8080/",
          "height": 317
        }
      },
      "source": [
        "# Data Description\n",
        "data_sample.describe()"
      ],
      "execution_count": 77,
      "outputs": [
        {
          "output_type": "execute_result",
          "data": {
            "text/html": [
              "<div>\n",
              "<style scoped>\n",
              "    .dataframe tbody tr th:only-of-type {\n",
              "        vertical-align: middle;\n",
              "    }\n",
              "\n",
              "    .dataframe tbody tr th {\n",
              "        vertical-align: top;\n",
              "    }\n",
              "\n",
              "    .dataframe thead th {\n",
              "        text-align: right;\n",
              "    }\n",
              "</style>\n",
              "<table border=\"1\" class=\"dataframe\">\n",
              "  <thead>\n",
              "    <tr style=\"text-align: right;\">\n",
              "      <th></th>\n",
              "      <th>DAYS_BIRTH</th>\n",
              "      <th>DAYS_EMPLOYED</th>\n",
              "      <th>DAYS_REGISTRATION</th>\n",
              "      <th>DAYS_ID_PUBLISH</th>\n",
              "      <th>FLAG_EMP_PHONE</th>\n",
              "      <th>FLAG_WORK_PHONE</th>\n",
              "      <th>FLAG_PHONE</th>\n",
              "      <th>REG_CITY_NOT_LIVE_CITY</th>\n",
              "      <th>REG_CITY_NOT_WORK_CITY</th>\n",
              "      <th>DAYS_LAST_PHONE_CHANGE</th>\n",
              "      <th>TARGET</th>\n",
              "    </tr>\n",
              "  </thead>\n",
              "  <tbody>\n",
              "    <tr>\n",
              "      <th>count</th>\n",
              "      <td>27823.000000</td>\n",
              "      <td>27823.000000</td>\n",
              "      <td>27823.000000</td>\n",
              "      <td>27823.000000</td>\n",
              "      <td>27823.000000</td>\n",
              "      <td>27823.000000</td>\n",
              "      <td>27823.000000</td>\n",
              "      <td>27823.000000</td>\n",
              "      <td>27823.000000</td>\n",
              "      <td>27823.000000</td>\n",
              "      <td>27823.000000</td>\n",
              "    </tr>\n",
              "    <tr>\n",
              "      <th>mean</th>\n",
              "      <td>16136.991194</td>\n",
              "      <td>69087.469432</td>\n",
              "      <td>5019.013011</td>\n",
              "      <td>3023.974697</td>\n",
              "      <td>0.816159</td>\n",
              "      <td>0.208137</td>\n",
              "      <td>0.286813</td>\n",
              "      <td>0.080042</td>\n",
              "      <td>0.235237</td>\n",
              "      <td>973.556626</td>\n",
              "      <td>0.084031</td>\n",
              "    </tr>\n",
              "    <tr>\n",
              "      <th>std</th>\n",
              "      <td>4352.376845</td>\n",
              "      <td>140575.289015</td>\n",
              "      <td>3532.862111</td>\n",
              "      <td>1496.624652</td>\n",
              "      <td>0.387361</td>\n",
              "      <td>0.405983</td>\n",
              "      <td>0.452282</td>\n",
              "      <td>0.271363</td>\n",
              "      <td>0.424154</td>\n",
              "      <td>832.611501</td>\n",
              "      <td>0.277440</td>\n",
              "    </tr>\n",
              "    <tr>\n",
              "      <th>min</th>\n",
              "      <td>7680.000000</td>\n",
              "      <td>4.000000</td>\n",
              "      <td>0.000000</td>\n",
              "      <td>1.000000</td>\n",
              "      <td>0.000000</td>\n",
              "      <td>0.000000</td>\n",
              "      <td>0.000000</td>\n",
              "      <td>0.000000</td>\n",
              "      <td>0.000000</td>\n",
              "      <td>0.000000</td>\n",
              "      <td>0.000000</td>\n",
              "    </tr>\n",
              "    <tr>\n",
              "      <th>25%</th>\n",
              "      <td>12547.500000</td>\n",
              "      <td>953.000000</td>\n",
              "      <td>2062.000000</td>\n",
              "      <td>1770.000000</td>\n",
              "      <td>1.000000</td>\n",
              "      <td>0.000000</td>\n",
              "      <td>0.000000</td>\n",
              "      <td>0.000000</td>\n",
              "      <td>0.000000</td>\n",
              "      <td>271.000000</td>\n",
              "      <td>0.000000</td>\n",
              "    </tr>\n",
              "    <tr>\n",
              "      <th>50%</th>\n",
              "      <td>15812.000000</td>\n",
              "      <td>2251.000000</td>\n",
              "      <td>4535.000000</td>\n",
              "      <td>3290.000000</td>\n",
              "      <td>1.000000</td>\n",
              "      <td>0.000000</td>\n",
              "      <td>0.000000</td>\n",
              "      <td>0.000000</td>\n",
              "      <td>0.000000</td>\n",
              "      <td>776.000000</td>\n",
              "      <td>0.000000</td>\n",
              "    </tr>\n",
              "    <tr>\n",
              "      <th>75%</th>\n",
              "      <td>19781.000000</td>\n",
              "      <td>5752.000000</td>\n",
              "      <td>7511.500000</td>\n",
              "      <td>4312.000000</td>\n",
              "      <td>1.000000</td>\n",
              "      <td>0.000000</td>\n",
              "      <td>1.000000</td>\n",
              "      <td>0.000000</td>\n",
              "      <td>0.000000</td>\n",
              "      <td>1593.000000</td>\n",
              "      <td>0.000000</td>\n",
              "    </tr>\n",
              "    <tr>\n",
              "      <th>max</th>\n",
              "      <td>25196.000000</td>\n",
              "      <td>365243.000000</td>\n",
              "      <td>24672.000000</td>\n",
              "      <td>6337.000000</td>\n",
              "      <td>1.000000</td>\n",
              "      <td>1.000000</td>\n",
              "      <td>1.000000</td>\n",
              "      <td>1.000000</td>\n",
              "      <td>1.000000</td>\n",
              "      <td>4128.000000</td>\n",
              "      <td>1.000000</td>\n",
              "    </tr>\n",
              "  </tbody>\n",
              "</table>\n",
              "</div>"
            ],
            "text/plain": [
              "         DAYS_BIRTH  DAYS_EMPLOYED  ...  DAYS_LAST_PHONE_CHANGE        TARGET\n",
              "count  27823.000000   27823.000000  ...            27823.000000  27823.000000\n",
              "mean   16136.991194   69087.469432  ...              973.556626      0.084031\n",
              "std     4352.376845  140575.289015  ...              832.611501      0.277440\n",
              "min     7680.000000       4.000000  ...                0.000000      0.000000\n",
              "25%    12547.500000     953.000000  ...              271.000000      0.000000\n",
              "50%    15812.000000    2251.000000  ...              776.000000      0.000000\n",
              "75%    19781.000000    5752.000000  ...             1593.000000      0.000000\n",
              "max    25196.000000  365243.000000  ...             4128.000000      1.000000\n",
              "\n",
              "[8 rows x 11 columns]"
            ]
          },
          "metadata": {
            "tags": []
          },
          "execution_count": 77
        }
      ]
    },
    {
      "cell_type": "markdown",
      "metadata": {
        "id": "F6ZFDWAne-UA",
        "colab_type": "text"
      },
      "source": [
        "##Sec 4. Data Preparation "
      ]
    },
    {
      "cell_type": "code",
      "metadata": {
        "id": "LnfcVzbDoYLc",
        "colab_type": "code",
        "outputId": "c6ff52b7-bcab-4ac3-fdc6-b56b08963b50",
        "colab": {
          "base_uri": "https://localhost:8080/",
          "height": 420
        }
      },
      "source": [
        "#Correlation Plot\n",
        "corr = data_sample.corr()\n",
        "\n",
        "# Plot a heatmap fo the correlations using Seaborn\n",
        "sns.heatmap(corr, \n",
        "        xticklabels=corr.columns,\n",
        "        yticklabels=corr.columns)"
      ],
      "execution_count": 78,
      "outputs": [
        {
          "output_type": "execute_result",
          "data": {
            "text/plain": [
              "<matplotlib.axes._subplots.AxesSubplot at 0x7f26397645f8>"
            ]
          },
          "metadata": {
            "tags": []
          },
          "execution_count": 78
        },
        {
          "output_type": "display_data",
          "data": {
            "image/png": "[encoded data removed]",
            "text/plain": [
              "<Figure size 432x288 with 2 Axes>"
            ]
          },
          "metadata": {
            "tags": []
          }
        }
      ]
    },
    {
      "cell_type": "code",
      "metadata": {
        "id": "0fX8Py6pkv7e",
        "colab_type": "code",
        "outputId": "8d70ffb1-f02c-4299-b1db-e6266e3b1070",
        "colab": {
          "base_uri": "https://localhost:8080/",
          "height": 114
        }
      },
      "source": [
        "# Missing Data\n",
        "\n",
        "# Function to calculate missing values by column# Funct \n",
        "def missing_values_table(data_sample):\n",
        "        # Total missing values\n",
        "        mis_val = data_sample.isnull().sum()\n",
        "        \n",
        "        # Percentage of missing values\n",
        "        mis_val_percent = 100 * data_sample.isnull().sum() / len(data_sample)\n",
        "        \n",
        "        # Make a table with the results\n",
        "        mis_val_table = pd.concat([mis_val , mis_val_percent], axis=1)\n",
        "        \n",
        "        # Rename the columns\n",
        "        mis_val_table_ren_columns = mis_val_table.rename(\n",
        "        columns = {0 : 'Missing Values', 1 : '% of Total Values'})\n",
        "        \n",
        "        # Sort the table by percentage of missing descending\n",
        "        mis_val_table_ren_columns = mis_val_table_ren_columns[\n",
        "            mis_val_table_ren_columns.iloc[:, 1] != 0].sort_values(\n",
        "        '% of Total Values', ascending=False).round(1)\n",
        "        \n",
        "        # Print some summary information\n",
        "        print (\"Your selected dataframe has \" + str(data_sample.shape[1]) + \" columns.\\n\"      \n",
        "            \"There are \" + str(mis_val_table_ren_columns.shape[0]) +\n",
        "              \" columns that have missing values.\")\n",
        "        \n",
        "        # Return the dataframe with missing information\n",
        "        return mis_val_table_ren_columns\n",
        "\n",
        "# Missing values statistics\n",
        "missing_values = missing_values_table(data_sample)\n",
        "missing_values.head(20)"
      ],
      "execution_count": 79,
      "outputs": [
        {
          "output_type": "stream",
          "text": [
            "Your selected dataframe has 17 columns.\n",
            "There are 1 columns that have missing values.\n"
          ],
          "name": "stdout"
        },
        {
          "output_type": "execute_result",
          "data": {
            "text/html": [
              "<div>\n",
              "<style scoped>\n",
              "    .dataframe tbody tr th:only-of-type {\n",
              "        vertical-align: middle;\n",
              "    }\n",
              "\n",
              "    .dataframe tbody tr th {\n",
              "        vertical-align: top;\n",
              "    }\n",
              "\n",
              "    .dataframe thead th {\n",
              "        text-align: right;\n",
              "    }\n",
              "</style>\n",
              "<table border=\"1\" class=\"dataframe\">\n",
              "  <thead>\n",
              "    <tr style=\"text-align: right;\">\n",
              "      <th></th>\n",
              "      <th>Missing Values</th>\n",
              "      <th>% of Total Values</th>\n",
              "    </tr>\n",
              "  </thead>\n",
              "  <tbody>\n",
              "    <tr>\n",
              "      <th>OCCUPATION_TYPE</th>\n",
              "      <td>8788</td>\n",
              "      <td>31.6</td>\n",
              "    </tr>\n",
              "  </tbody>\n",
              "</table>\n",
              "</div>"
            ],
            "text/plain": [
              "                 Missing Values  % of Total Values\n",
              "OCCUPATION_TYPE            8788               31.6"
            ]
          },
          "metadata": {
            "tags": []
          },
          "execution_count": 79
        }
      ]
    },
    {
      "cell_type": "code",
      "metadata": {
        "id": "XjtD6CMFpasB",
        "colab_type": "code",
        "colab": {}
      },
      "source": [
        "def transform_data(data):\n",
        "  # Data transformation\n",
        "  # Convert categorical values to numeric using label encoder\n",
        "  # using defaultdict in this way allows us to fit_transform or inverse_transform\n",
        "  # a categorical variable \n",
        "  d = defaultdict(LabelEncoder)\n",
        "\n",
        "  # Encoding the categorical variable\n",
        "  fit = data.select_dtypes(include=['object']).fillna('NA').apply(lambda x: d[x.name].fit_transform(x))\n",
        "\n",
        "  # Convert the categorical columns based on encoding\n",
        "  for i in list(d.keys()):\n",
        "      data[i] = d[i].transform(data[i].fillna('NA'))\n",
        "      \n",
        "      features = data[data.columns.difference(['TARGET'])]\n",
        "  return features.fillna(0), data['TARGET']\n",
        "\n",
        "features, labels = transform_data(data_sample)"
      ],
      "execution_count": 0,
      "outputs": []
    },
    {
      "cell_type": "markdown",
      "metadata": {
        "id": "hdthwV2BeivP",
        "colab_type": "text"
      },
      "source": [
        "Weight of evidence (WOE) and Information value (IV) are widely used in credit scoring to measure the separation of good vs bad customers.\n",
        "$$\n",
        "\\begin{align}\n",
        "WOE & = \\ln \\left( \\frac{positive\\%}{negative\\%} \\right)\\\\\n",
        "IV & = \\sum (positive\\% - negative\\%) \\times WOE\n",
        "\\end{align}\n",
        "$$\n",
        "\n",
        "The IV value can be used to select variables quickly:\n",
        "\n",
        "| Information Value | Predictive Power |\n",
        "|---|---|\n",
        "| < 0.02 | Useless for prediction |\n",
        "| 0.02 - 0.1 | Weak predictor |\n",
        "| 0.1 - 0.3 | Medium predictor |\n",
        "| 0.3 - 0.5 | Strong predictor |\n",
        "| > 0.5 | Possibly too good to be true |\n",
        "\n",
        "From: \n",
        "[https://medium.com/@sundarstyles89/weight-of-evidence-and-information-value-using-python-6f05072e83eb](https://medium.com/@sundarstyles89/weight-of-evidence-and-information-value-using-python-6f05072e83eb)"
      ]
    },
    {
      "cell_type": "code",
      "metadata": {
        "id": "GKY2OAIEpjnA",
        "colab_type": "code",
        "colab": {}
      },
      "source": [
        "# Weight of evidence (WOE) and Information value (IV)\n",
        "# Ref: https://github.com/Sundar0989/WOE-and-IV\n",
        "\n",
        "# Maximum number of bins (categories) for numeric variable binning.\n",
        "max_bin = 20\n",
        "# Ensure binning produces at least 2 categories.\n",
        "force_bin = 3\n",
        "\n",
        "\n",
        "# define a monotonic numerical binning function for numeric values\n",
        "def mono_bin(Y, X, n = max_bin):\n",
        "    \n",
        "    df1 = pd.DataFrame({\"X\": X, \"Y\": Y})\n",
        "    justmiss = df1[['X', 'Y']][df1.X.isnull()]\n",
        "    notmiss = df1[['X', 'Y']][df1.X.notnull()]\n",
        "    r = 0\n",
        "    while np.abs(r) < 1:\n",
        "        try:\n",
        "            d1 = pd.DataFrame({\"X\": notmiss.X, \"Y\": notmiss.Y, \n",
        "                               \"Bucket\": pd.qcut(notmiss.X, n)})\n",
        "            d2 = d1.groupby('Bucket', as_index=True)\n",
        "            r, p = spearmanr(d2.mean().X, d2.mean().Y)\n",
        "            n = n - 1 \n",
        "        except Exception as e:\n",
        "            n = n - 1\n",
        "\n",
        "    if len(d2) == 1:\n",
        "        n = force_bin         \n",
        "        bins = algorithms.quantile(notmiss.X, np.linspace(0, 1, n))\n",
        "        if len(np.unique(bins)) == 2:\n",
        "            bins = np.insert(bins, 0, 1)\n",
        "            bins[1] = bins[1]-(bins[1]/2)\n",
        "        d1 = pd.DataFrame({\"X\": notmiss.X, \"Y\": notmiss.Y, \n",
        "                           \"Bucket\": pd.cut(notmiss.X, np.unique(bins), \n",
        "                                            include_lowest=True)}) \n",
        "        d2 = d1.groupby('Bucket', as_index=True)\n",
        "    \n",
        "    d3 = pd.DataFrame({}, index=[])\n",
        "    d3[\"MIN_VALUE\"] = d2.min().X\n",
        "    d3[\"MAX_VALUE\"] = d2.max().X\n",
        "    d3[\"COUNT\"] = d2.count().Y\n",
        "    d3[\"EVENT\"] = d2.sum().Y\n",
        "    d3[\"NONEVENT\"] = d2.count().Y - d2.sum().Y\n",
        "    d3=d3.reset_index(drop=True)\n",
        "    \n",
        "    if len(justmiss.index) > 0:\n",
        "        d4 = pd.DataFrame({'MIN_VALUE':np.nan}, index=[0])\n",
        "        d4[\"MAX_VALUE\"] = np.nan\n",
        "        d4[\"COUNT\"] = justmiss.count().Y\n",
        "        d4[\"EVENT\"] = justmiss.sum().Y\n",
        "        d4[\"NONEVENT\"] = justmiss.count().Y - justmiss.sum().Y\n",
        "        d3 = d3.append(d4, ignore_index=True)\n",
        "    \n",
        "    d3[\"EVENT_RATE\"] = d3.EVENT/d3.COUNT\n",
        "    d3[\"NON_EVENT_RATE\"] = d3.NONEVENT/d3.COUNT\n",
        "    d3[\"DIST_EVENT\"] = d3.EVENT/d3.sum().EVENT\n",
        "    d3[\"DIST_NON_EVENT\"] = d3.NONEVENT/d3.sum().NONEVENT\n",
        "    d3[\"WOE\"] = np.log(d3.DIST_EVENT/d3.DIST_NON_EVENT)\n",
        "    d3[\"IV\"] = (d3.DIST_EVENT-d3.DIST_NON_EVENT) * np.log(d3.DIST_EVENT/d3.DIST_NON_EVENT)\n",
        "    d3[\"VAR_NAME\"] = \"VAR\"\n",
        "    d3 = d3[['VAR_NAME', 'MIN_VALUE', 'MAX_VALUE', 'COUNT', 'EVENT', \n",
        "             'EVENT_RATE', 'NONEVENT', 'NON_EVENT_RATE', 'DIST_EVENT', \n",
        "             'DIST_NON_EVENT', 'WOE', 'IV']]       \n",
        "    d3 = d3.replace([np.inf, -np.inf], 0)\n",
        "    d3.IV = d3.IV.sum()\n",
        "    \n",
        "    return(d3)\n",
        "\n",
        "\n",
        "# De# define a monotocharacterical binning funclues\n",
        "def char_bin(Y, X):\n",
        "        \n",
        "    df1 = pd.DataFrame({\"X\": X, \"Y\": Y})\n",
        "    justmiss = df1[['X', 'Y']][df1.X.isnull()]\n",
        "    notmiss = df1[['X', 'Y']][df1.X.notnull()]    \n",
        "    df2 = notmiss.groupby('X', as_index=True)\n",
        "    \n",
        "    d3 = pd.DataFrame({}, index=[])\n",
        "    d3[\"COUNT\"] = df2.count().Y\n",
        "    d3[\"MIN_VALUE\"] = df2.sum().Y.index\n",
        "    d3[\"MAX_VALUE\"] = d3[\"MIN_VALUE\"]\n",
        "    d3[\"EVENT\"] = df2.sum().Y\n",
        "    d3[\"NONEVENT\"] = df2.count().Y - df2.sum().Y\n",
        "    \n",
        "    if len(justmiss.index) > 0:\n",
        "        d4 = pd.DataFrame({'MIN_VALUE':np.nan}, index=[0])\n",
        "        d4[\"MAX_VALUE\"] = np.nan\n",
        "        d4[\"COUNT\"] = justmiss.count().Y\n",
        "        d4[\"EVENT\"] = justmiss.sum().Y\n",
        "        d4[\"NONEVENT\"] = justmiss.count().Y - justmiss.sum().Y\n",
        "        d3 = d3.append(d4, ignore_index=True)\n",
        "    \n",
        "    d3[\"EVENT_RATE\"] = d3.EVENT/d3.COUNT\n",
        "    d3[\"NON_EVENT_RATE\"] = d3.NONEVENT/d3.COUNT\n",
        "    d3[\"DIST_EVENT\"] = d3.EVENT/d3.sum().EVENT\n",
        "    d3[\"DIST_NON_EVENT\"] = d3.NONEVENT/d3.sum().NONEVENT\n",
        "    d3[\"WOE\"] = np.log(d3.DIST_EVENT/d3.DIST_NON_EVENT)\n",
        "    d3[\"IV\"] = (d3.DIST_EVENT-d3.DIST_NON_EVENT)*np.log(d3.DIST_EVENT/d3.DIST_NON_EVENT)\n",
        "    d3[\"VAR_NAME\"] = \"VAR\"\n",
        "    d3 = d3[['VAR_NAME', 'MIN_VALUE', 'MAX_VALUE', 'COUNT', 'EVENT', 'EVENT_RATE', 'NONEVENT', 'NON_EVENT_RATE', 'DIST_EVENT', 'DIST_NON_EVENT', 'WOE', 'IV']]      \n",
        "    d3 = d3.replace([np.inf, -np.inf], 0)\n",
        "    d3.IV = d3.IV.sum()\n",
        "    d3 = d3.reset_index(drop=True)\n",
        "    \n",
        "    return(d3)\n",
        "\n",
        "\n",
        "def data_vars(df1, target):\n",
        "    stack = traceback.extract_stack()\n",
        "    filename, lineno, function_name, code = stack[-2]\n",
        "    vars_name = re.compile(r'\\((.*?)\\).*$').search(code).groups()[0]\n",
        "    final = (re.findall(r\"[\\w']+\", vars_name))[-1]\n",
        "    \n",
        "    x = df1.dtypes.index\n",
        "    count = -1\n",
        "    \n",
        "    for i in x:\n",
        "        if i.upper() not in (final.upper()):\n",
        "            if np.issubdtype(df1[i], np.number) and len(pd.Series.unique(df1[i])) > 2:\n",
        "                conv = mono_bin(target, df1[i])\n",
        "                conv[\"VAR_NAME\"] = i\n",
        "                count = count + 1\n",
        "            else:\n",
        "                conv = char_bin(target, df1[i])\n",
        "                conv[\"VAR_NAME\"] = i            \n",
        "                count = count + 1\n",
        "                \n",
        "            if count == 0:\n",
        "                iv_df = conv\n",
        "            else:\n",
        "                iv_df = iv_df.append(conv, ignore_index=True)\n",
        "    \n",
        "    iv = pd.DataFrame({'IV':iv_df.groupby('VAR_NAME').IV.max()})\n",
        "    iv = iv.reset_index()\n",
        "    return(iv_df,iv)\n",
        "    \n",
        "final_iv, IV = data_vars(data_sample[data_sample.columns.difference(['TARGET'])], data_sample.TARGET)\n",
        "IV = IV.rename(columns={'VAR_NAME':'index'})\n",
        "IV.sort_values(['IV'], ascending=0)\n",
        "\n",
        "hi_ivs = list(IV.loc[IV['IV'] >= 0.02].sort_values(['IV'],ascending=0)['index'])"
      ],
      "execution_count": 0,
      "outputs": []
    },
    {
      "cell_type": "markdown",
      "metadata": {
        "id": "jdgbt3sBgRMQ",
        "colab_type": "text"
      },
      "source": [
        "##Sec 5.  Modeling using Support Vector Machine "
      ]
    },
    {
      "cell_type": "code",
      "metadata": {
        "id": "bNMC8Z3d9NjZ",
        "colab_type": "code",
        "colab": {
          "base_uri": "https://localhost:8080/",
          "height": 34
        },
        "outputId": "093903d1-5bd2-468a-ca17-93110e4109ea"
      },
      "source": [
        "# Split our data into training and test sets with the reduced feature set\n",
        "train_features, test_features, train_labels, test_labels = train_test_split(features[hi_ivs], labels, test_size = 0.4, random_state=rs)\n",
        "\n",
        "#Support Vector Machine Classsifier\n",
        "clf = SVC(gamma='scale', random_state=rs)\n",
        "clf.fit(train_features, train_labels)\n",
        "\n",
        "train_pred = clf.predict(train_features)\n",
        "test_pred = clf.predict(test_features)\n",
        "\n",
        "clf.score(test_features, test_labels)"
      ],
      "execution_count": 82,
      "outputs": [
        {
          "output_type": "execute_result",
          "data": {
            "text/plain": [
              "0.9157232704402516"
            ]
          },
          "metadata": {
            "tags": []
          },
          "execution_count": 82
        }
      ]
    },
    {
      "cell_type": "markdown",
      "metadata": {
        "id": "NIfQdbAgyM-x",
        "colab_type": "text"
      },
      "source": [
        "That accuracy looks really impressive ... until you look at how many times each label value was predicted by the model."
      ]
    },
    {
      "cell_type": "code",
      "metadata": {
        "id": "JyzpdF54UPbx",
        "colab_type": "code",
        "outputId": "b87b70f3-1684-4a3d-b76d-1fe3c2dad1bc",
        "colab": {
          "base_uri": "https://localhost:8080/",
          "height": 153
        }
      },
      "source": [
        "print(f\"True label counts:\\n{test_labels.value_counts()}\\n\\nPredicted label counts:\\n{pd.Series(test_pred).value_counts()}\")"
      ],
      "execution_count": 83,
      "outputs": [
        {
          "output_type": "stream",
          "text": [
            "True label counts:\n",
            "0    10192\n",
            "1      938\n",
            "Name: TARGET, dtype: int64\n",
            "\n",
            "Predicted label counts:\n",
            "0    11130\n",
            "dtype: int64\n"
          ],
          "name": "stdout"
        }
      ]
    },
    {
      "cell_type": "markdown",
      "metadata": {
        "id": "Tza9RNOgyqCx",
        "colab_type": "text"
      },
      "source": [
        "All the values predicted by our model are zero. Prediction accuracy can't give us a good sense of how well the model has worked because almost all of the data we used for training was negative. We need to dig deeper into our results by looking at some metrics related to how well each of the labels are picked relative to their true labels."
      ]
    },
    {
      "cell_type": "markdown",
      "metadata": {
        "id": "OfGgI92JuGOy",
        "colab_type": "text"
      },
      "source": [
        "A **confusion matrix** shows counts of true negatives, true positives, false negatives and false positives.\n",
        "\n",
        "![confusion template](http://drive.google.com/uc?export=view&id=11MS9Xw6kQA7jda9hwc2P3Upr7AfvXvV9)\n"
      ]
    },
    {
      "cell_type": "code",
      "metadata": {
        "id": "vHmoadaixTkY",
        "colab_type": "code",
        "colab": {}
      },
      "source": [
        "def print_confusion_matrix(act_labels, pred_labels):\n",
        "  cm = confusion_matrix(act_labels, pred_labels)\n",
        "  sns.heatmap(cm, annot=True, fmt='d', annot_kws={\"size\": 18}, cmap=sns.color_palette(\"Blues\", 100), cbar=None)\n",
        "  plt.ylabel('True', fontsize=24)\n",
        "  plt.xlabel('Predicted', fontsize=24)\n",
        "  plt.tick_params(axis=\"x\", labelsize=18)\n",
        "  plt.tick_params(axis=\"y\", labelsize=18)\n",
        "  plt.plot()"
      ],
      "execution_count": 0,
      "outputs": []
    },
    {
      "cell_type": "code",
      "metadata": {
        "id": "f66K2My1VXKV",
        "colab_type": "code",
        "outputId": "0058873e-3dcf-4961-fd9b-e50a74778995",
        "colab": {
          "base_uri": "https://localhost:8080/",
          "height": 305
        }
      },
      "source": [
        "print_confusion_matrix(test_labels, test_pred)"
      ],
      "execution_count": 85,
      "outputs": [
        {
          "output_type": "display_data",
          "data": {
            "image/png": "[encoded data removed]",
            "text/plain": [
              "<Figure size 432x288 with 1 Axes>"
            ]
          },
          "metadata": {
            "tags": []
          }
        }
      ]
    },
    {
      "cell_type": "markdown",
      "metadata": {
        "id": "btQ3E-VNyFRc",
        "colab_type": "text"
      },
      "source": [
        "\n",
        "The *classification report* in scikit learn gives us:\n",
        "\n",
        "**Precision** talks about how precise/accurate your model is out of those predicted positive. It represents the proportion of *positive results* that are correctly labeled as positive.\n",
        "\n",
        "$$Precision = \\frac{True\\ Positives}{True\\ Positives + False\\ Positives}$$\n",
        "\n",
        "**Recall** measures the proportion of *actual positives* that are correctly identified as such (e.g., the percentage of sick people who are correctly identified as having the condition).\n",
        "\n",
        "$$Recall = \\frac{True\\ Positives}{True\\ Positives + False\\ Negatives}$$\n",
        "\n",
        "**F1 Score** is a measure of accuracy using precision and recall. It takes the occurence of both false positives and false negatives into account.\n",
        "\n",
        "$$F_1\\ Score = 2 \\times \\frac{Precision \\times Recall}{Precision + Recall}$$"
      ]
    },
    {
      "cell_type": "code",
      "metadata": {
        "id": "1_5utArxwm6u",
        "colab_type": "code",
        "outputId": "fab3933f-0e87-4387-bf1c-202a507d21bc",
        "colab": {
          "base_uri": "https://localhost:8080/",
          "height": 224
        }
      },
      "source": [
        "print(classification_report(test_labels, test_pred))"
      ],
      "execution_count": 86,
      "outputs": [
        {
          "output_type": "stream",
          "text": [
            "              precision    recall  f1-score   support\n",
            "\n",
            "           0       0.92      1.00      0.96     10192\n",
            "           1       0.00      0.00      0.00       938\n",
            "\n",
            "    accuracy                           0.92     11130\n",
            "   macro avg       0.46      0.50      0.48     11130\n",
            "weighted avg       0.84      0.92      0.88     11130\n",
            "\n"
          ],
          "name": "stdout"
        },
        {
          "output_type": "stream",
          "text": [
            "/usr/local/lib/python3.6/dist-packages/sklearn/metrics/classification.py:1437: UndefinedMetricWarning: Precision and F-score are ill-defined and being set to 0.0 in labels with no predicted samples.\n",
            "  'precision', 'predicted', average, warn_for)\n"
          ],
          "name": "stderr"
        }
      ]
    },
    {
      "cell_type": "markdown",
      "metadata": {
        "id": "fSRfUBe1fSvh",
        "colab_type": "text"
      },
      "source": [
        "##Sec 6. Modeling using RandomForest"
      ]
    },
    {
      "cell_type": "markdown",
      "metadata": {
        "id": "273aunLCooun",
        "colab_type": "text"
      },
      "source": [
        "The ramdom forest classifier can identify which features are more important for accurate classification. This can be used for feature selection."
      ]
    },
    {
      "cell_type": "code",
      "metadata": {
        "id": "A6SfCCZEqDl5",
        "colab_type": "code",
        "outputId": "d1f5fdf9-8c53-4e23-a7ac-138fca2f3db7",
        "colab": {
          "base_uri": "https://localhost:8080/",
          "height": 323
        }
      },
      "source": [
        "# Variable Importance\n",
        "clf = RandomForestClassifier(n_estimators=20, criterion='entropy', random_state=rs, max_features=4, max_depth=2)\n",
        "\n",
        "clf.fit(features, labels)\n",
        "\n",
        "preds = clf.predict(features)\n",
        "\n",
        "VI = pd.DataFrame(clf.feature_importances_, columns = [\"RF\"], index=features.columns)\n",
        "\n",
        "VI = VI.reset_index()\n",
        "\n",
        "print(f\" Feature importance from random forest:\\n{VI.sort_values(['RF'], ascending=0)}\")\n",
        "\n",
        "hi_vis = list(VI.loc[VI['RF'] >= 0.02].sort_values(['RF'],ascending=0)['index'])"
      ],
      "execution_count": 87,
      "outputs": [
        {
          "output_type": "stream",
          "text": [
            " Feature importance from random forest:\n",
            "                     index        RF\n",
            "2            DAYS_EMPLOYED  0.354634\n",
            "1               DAYS_BIRTH  0.155717\n",
            "0              CODE_GENDER  0.149578\n",
            "4   DAYS_LAST_PHONE_CHANGE  0.080220\n",
            "9      NAME_EDUCATION_TYPE  0.070437\n",
            "13       ORGANIZATION_TYPE  0.070390\n",
            "11        NAME_INCOME_TYPE  0.037313\n",
            "15  REG_CITY_NOT_WORK_CITY  0.026129\n",
            "10      NAME_FAMILY_STATUS  0.021418\n",
            "12         OCCUPATION_TYPE  0.013534\n",
            "3          DAYS_ID_PUBLISH  0.011485\n",
            "5        DAYS_REGISTRATION  0.009145\n",
            "6           FLAG_EMP_PHONE  0.000000\n",
            "7               FLAG_PHONE  0.000000\n",
            "8          FLAG_WORK_PHONE  0.000000\n",
            "14  REG_CITY_NOT_LIVE_CITY  0.000000\n"
          ],
          "name": "stdout"
        }
      ]
    },
    {
      "cell_type": "code",
      "metadata": {
        "id": "ATd8xSwnpNMC",
        "colab_type": "code",
        "colab": {}
      },
      "source": [
        "# Split our data into training and test sets\n",
        "# train_features, test_features, train_labels, test_labels = train_test_split(features[hi_vis], labels, test_size = 0.4)\n",
        "train_features, test_features, train_labels, test_labels = train_test_split(features, labels, test_size = 0.4, random_state=rs)\n",
        "\n",
        "# clf = RandomForestClassifier(criterion='entropy', random_state=rs, max_depth=2)\n",
        "\n",
        "# Refit the model with the reduced feature set\n",
        "clf.fit(train_features, train_labels)\n",
        "\n",
        "train_pred = clf.predict(train_features)\n",
        "test_pred = clf.predict(test_features)\n",
        "\n",
        "accuracy_train = accuracy_score(train_pred, train_labels)\n",
        "accuracy_test = accuracy_score(test_pred, test_labels)"
      ],
      "execution_count": 0,
      "outputs": []
    },
    {
      "cell_type": "markdown",
      "metadata": {
        "id": "x4Ls2xtTq1Ui",
        "colab_type": "text"
      },
      "source": [
        "Once again we'll see that accuracy does not necessarily reflect how well the model is performing.\n",
        "\n",
        "We'll look at the **area under the curve (AUC)** for the **receiver operating characteristic (ROC)** curve to get a better idea of true model performance."
      ]
    },
    {
      "cell_type": "code",
      "metadata": {
        "id": "6zMoRIofr1mU",
        "colab_type": "code",
        "colab": {}
      },
      "source": [
        "def plot_roc_curve(fpr, tpr):\n",
        "    # plt.rcParams[\"figure.figsize\"] = (10, 8)\n",
        "    plt.figure(figsize=(10,8))\n",
        "    plt.plot(fpr, tpr, color='orange', label='ROC')\n",
        "    plt.plot([0, 1], [0, 1], color='darkblue', linestyle='--')\n",
        "    plt.xlabel('False Positive Rate')\n",
        "    plt.ylabel('True Positive Rate')\n",
        "    plt.title('Receiver Operating Characteristic (ROC) Curve')\n",
        "    plt.legend()\n",
        "    plt.show()"
      ],
      "execution_count": 0,
      "outputs": []
    },
    {
      "cell_type": "code",
      "metadata": {
        "id": "UZPByjAiqsct",
        "colab_type": "code",
        "colab": {}
      },
      "source": [
        "fpr_train, tpr_train, _ = roc_curve(np.array(train_labels), clf.predict_proba(train_features)[:,1])\n",
        "auc_train = auc(fpr_train, tpr_train)\n",
        "fpr_test, tpr_test, _ = roc_curve(np.array(test_labels), clf.predict_proba(test_features)[:,1])\n",
        "auc_test = auc(fpr_test, tpr_test)"
      ],
      "execution_count": 0,
      "outputs": []
    },
    {
      "cell_type": "code",
      "metadata": {
        "id": "NZoaJS0-qz2p",
        "colab_type": "code",
        "outputId": "f8497fd9-a287-4122-da29-fca95ec1b22c",
        "colab": {
          "base_uri": "https://localhost:8080/",
          "height": 85
        }
      },
      "source": [
        "print(f\"Training accuracy = {accuracy_train}\\nTest accuracy = {accuracy_test}\")\n",
        "print(f\"Training AUC = {auc_train}\\nTest AUC = {auc_test}\")"
      ],
      "execution_count": 91,
      "outputs": [
        {
          "output_type": "stream",
          "text": [
            "Training accuracy = 0.9161325106331996\n",
            "Test accuracy = 0.9157232704402516\n",
            "Training AUC = 0.6339743440042597\n",
            "Test AUC = 0.6260955433920329\n"
          ],
          "name": "stdout"
        }
      ]
    },
    {
      "cell_type": "code",
      "metadata": {
        "id": "EUz52aQcsKBV",
        "colab_type": "code",
        "outputId": "bd5c803d-fb52-4a86-ead0-3e8b3dcbef96",
        "colab": {
          "base_uri": "https://localhost:8080/",
          "height": 513
        }
      },
      "source": [
        "plot_roc_curve(fpr_test, tpr_test)"
      ],
      "execution_count": 92,
      "outputs": [
        {
          "output_type": "display_data",
          "data": {
            "image/png": "[encoded data removed]",
            "text/plain": [
              "<Figure size 720x576 with 1 Axes>"
            ]
          },
          "metadata": {
            "tags": []
          }
        }
      ]
    },
    {
      "cell_type": "code",
      "metadata": {
        "id": "faJQlW0crRV8",
        "colab_type": "code",
        "outputId": "8c3ee448-9311-4e6b-8e55-e83465475cb5",
        "colab": {
          "base_uri": "https://localhost:8080/",
          "height": 512
        }
      },
      "source": [
        "print_confusion_matrix(test_labels, test_pred)\n",
        "print(classification_report(test_labels, test_pred))"
      ],
      "execution_count": 93,
      "outputs": [
        {
          "output_type": "stream",
          "text": [
            "              precision    recall  f1-score   support\n",
            "\n",
            "           0       0.92      1.00      0.96     10192\n",
            "           1       0.00      0.00      0.00       938\n",
            "\n",
            "    accuracy                           0.92     11130\n",
            "   macro avg       0.46      0.50      0.48     11130\n",
            "weighted avg       0.84      0.92      0.88     11130\n",
            "\n"
          ],
          "name": "stdout"
        },
        {
          "output_type": "stream",
          "text": [
            "/usr/local/lib/python3.6/dist-packages/sklearn/metrics/classification.py:1437: UndefinedMetricWarning: Precision and F-score are ill-defined and being set to 0.0 in labels with no predicted samples.\n",
            "  'precision', 'predicted', average, warn_for)\n"
          ],
          "name": "stderr"
        },
        {
          "output_type": "display_data",
          "data": {
            "image/png": "[encoded data removed]",
            "text/plain": [
              "<Figure size 432x288 with 1 Axes>"
            ]
          },
          "metadata": {
            "tags": []
          }
        }
      ]
    },
    {
      "cell_type": "markdown",
      "metadata": {
        "id": "f6dpXwiVfsEL",
        "colab_type": "text"
      },
      "source": [
        "##Sec 7. Modeling Using Gradient Boosting"
      ]
    },
    {
      "cell_type": "markdown",
      "metadata": {
        "id": "P39uHfivnDtd",
        "colab_type": "text"
      },
      "source": [
        "**Multicollinearity** refers to predictors that are correlated with other predictors.  Multicollinearity occurs when your model includes multiple factors that are correlated not just to your response variable, but also to each other. In other words, it results when you have factors that are a bit redundant.\n",
        "\n",
        "One way to measure multicollinearity is the **variance inflation factor (VIF)**, which assesses how much the variance of an estimated regression coefficient increases if your predictors are correlated.  If no factors are correlated, the VIFs will all be 1."
      ]
    },
    {
      "cell_type": "code",
      "metadata": {
        "id": "Ny4ofrjAoha0",
        "colab_type": "code",
        "outputId": "d53b3f49-7ba0-4a0c-86ef-d2a6380290dd",
        "colab": {
          "base_uri": "https://localhost:8080/",
          "height": 561
        }
      },
      "source": [
        "# Multicollinearity\n",
        "def calculate_vif(features):\n",
        "    vif = pd.DataFrame()\n",
        "    vif[\"Features\"] = features.columns\n",
        "    vif[\"VIF\"] = [variance_inflation_factor(features.values, i) for i in range(features.shape[1])]    \n",
        "    return(vif)\n",
        "\n",
        "# Model   \n",
        "vif = calculate_vif(features)\n",
        "print(vif.sort_values('VIF'))\n",
        "\n",
        "# lc_features = features.copy()\n",
        "# # Remove features with high collinearity (where VIF > 10)\n",
        "# while vif['VIF'][vif['VIF'] > 10].any():\n",
        "#   remove = vif.sort_values('VIF', ascending=0)['Features'][:1]\n",
        "#   lc_features.drop(remove, axis=1, inplace=True)\n",
        "#   vif = calculate_vif(lc_features)\n",
        "\n",
        "print(\"\\nFeatures with low multicollinearity:\")\n",
        "low_mc = list(vif.loc[vif['VIF'] <= 10].sort_values(['VIF'], ascending=0)['Features'])\n",
        "pprint(low_mc)\n",
        "\n",
        "# Split our data into training and test sets\n",
        "train_features, test_features, train_labels, test_labels = train_test_split(features[low_mc], labels, test_size = 0.4, random_state=rs)\n",
        "train_labels = train_labels.reset_index(drop=True)\n",
        "test_labels = test_labels.reset_index(drop=True)\n",
        "# train, test = train_test_split(data_sample, test_size = 0.4)\n",
        "# train = train.reset_index(drop=True)\n",
        "# test = test.reset_index(drop=True)\n",
        "\n",
        "# train_features = train[list(vif[\"Features\"])]\n",
        "# train_labels = train['TARGET']\n",
        "# test_features = test[list(vif[\"Features\"])]\n",
        "# test_labels = test['TARGET']\n",
        "# print(f\"Test label counts:\\n{test_labels.value_counts()}\")"
      ],
      "execution_count": 94,
      "outputs": [
        {
          "output_type": "stream",
          "text": [
            "                  Features        VIF\n",
            "14  REG_CITY_NOT_LIVE_CITY   1.382980\n",
            "8          FLAG_WORK_PHONE   1.507059\n",
            "7               FLAG_PHONE   1.575282\n",
            "0              CODE_GENDER   1.634808\n",
            "15  REG_CITY_NOT_WORK_CITY   1.783040\n",
            "4   DAYS_LAST_PHONE_CHANGE   2.444302\n",
            "10      NAME_FAMILY_STATUS   3.004476\n",
            "11        NAME_INCOME_TYPE   3.369404\n",
            "5        DAYS_REGISTRATION   3.445652\n",
            "13       ORGANIZATION_TYPE   5.260715\n",
            "3          DAYS_ID_PUBLISH   5.664222\n",
            "12         OCCUPATION_TYPE   6.301921\n",
            "9      NAME_EDUCATION_TYPE   7.825231\n",
            "2            DAYS_EMPLOYED  15.309743\n",
            "1               DAYS_BIRTH  28.014434\n",
            "6           FLAG_EMP_PHONE  33.403087\n",
            "\n",
            "Features with low multicollinearity:\n",
            "['NAME_EDUCATION_TYPE',\n",
            " 'OCCUPATION_TYPE',\n",
            " 'DAYS_ID_PUBLISH',\n",
            " 'ORGANIZATION_TYPE',\n",
            " 'DAYS_REGISTRATION',\n",
            " 'NAME_INCOME_TYPE',\n",
            " 'NAME_FAMILY_STATUS',\n",
            " 'DAYS_LAST_PHONE_CHANGE',\n",
            " 'REG_CITY_NOT_WORK_CITY',\n",
            " 'CODE_GENDER',\n",
            " 'FLAG_PHONE',\n",
            " 'FLAG_WORK_PHONE',\n",
            " 'REG_CITY_NOT_LIVE_CITY']\n"
          ],
          "name": "stdout"
        }
      ]
    },
    {
      "cell_type": "code",
      "metadata": {
        "id": "A-KhzQJZq91Y",
        "colab_type": "code",
        "colab": {}
      },
      "source": [
        "#GradientBoosting\n",
        "# clf = GradientBoostingClassifier(learning_rate=0.21, random_state=rs)\n",
        "clf = GradientBoostingClassifier(random_state=rs)\n",
        "\n",
        "clf.fit(train_features, train_labels)\n",
        "\n",
        "train_pred = clf.predict(train_features)\n",
        "test_pred = clf.predict(test_features)"
      ],
      "execution_count": 0,
      "outputs": []
    },
    {
      "cell_type": "code",
      "metadata": {
        "id": "xvAYL9RirCWH",
        "colab_type": "code",
        "colab": {}
      },
      "source": [
        "accuracy_train = accuracy_score(train_pred, train_labels)\n",
        "accuracy_test = accuracy_score(test_pred, test_labels)\n",
        "\n",
        "fpr_train, tpr_train, _ = roc_curve(np.array(train_labels), clf.predict_proba(train_features)[:, 1])\n",
        "auc_train = auc(fpr_train, tpr_train)\n",
        "\n",
        "fpr_test, tpr_test, _ = roc_curve(np.array(test_labels), clf.predict_proba(test_features)[:, 1])\n",
        "auc_test = auc(fpr_test, tpr_test)"
      ],
      "execution_count": 0,
      "outputs": []
    },
    {
      "cell_type": "code",
      "metadata": {
        "id": "zaeghSh1rF93",
        "colab_type": "code",
        "outputId": "e24feee0-fbca-4506-9714-8edb9a3ead65",
        "colab": {
          "base_uri": "https://localhost:8080/",
          "height": 85
        }
      },
      "source": [
        "print(f\"Training accuracy = {accuracy_train}\\nTest accuracy = {accuracy_test}\")\n",
        "print(f\"Training AUC = {auc_train}\\nTest AUC = {auc_test}\")"
      ],
      "execution_count": 97,
      "outputs": [
        {
          "output_type": "stream",
          "text": [
            "Training accuracy = 0.9166716587791289\n",
            "Test accuracy = 0.915633423180593\n",
            "Training AUC = 0.7241732678816639\n",
            "Test AUC = 0.6095847782281685\n"
          ],
          "name": "stdout"
        }
      ]
    },
    {
      "cell_type": "code",
      "metadata": {
        "colab_type": "code",
        "outputId": "c1296745-18e5-48f0-ecff-44a5d91c61c0",
        "id": "HiR9GFAAiDQi",
        "colab": {
          "base_uri": "https://localhost:8080/",
          "height": 513
        }
      },
      "source": [
        "plot_roc_curve(fpr_test, tpr_test)"
      ],
      "execution_count": 98,
      "outputs": [
        {
          "output_type": "display_data",
          "data": {
            "image/png": "[encoded data removed]",
            "text/plain": [
              "<Figure size 720x576 with 1 Axes>"
            ]
          },
          "metadata": {
            "tags": []
          }
        }
      ]
    },
    {
      "cell_type": "code",
      "metadata": {
        "id": "7rm6th-Cs0_f",
        "colab_type": "code",
        "outputId": "09cdc634-c1eb-4eda-b842-e53cac2f445b",
        "colab": {
          "base_uri": "https://localhost:8080/",
          "height": 458
        }
      },
      "source": [
        "print_confusion_matrix(test_labels, test_pred)\n",
        "print(classification_report(test_labels, test_pred))"
      ],
      "execution_count": 99,
      "outputs": [
        {
          "output_type": "stream",
          "text": [
            "              precision    recall  f1-score   support\n",
            "\n",
            "           0       0.92      1.00      0.96     10192\n",
            "           1       0.33      0.00      0.00       938\n",
            "\n",
            "    accuracy                           0.92     11130\n",
            "   macro avg       0.62      0.50      0.48     11130\n",
            "weighted avg       0.87      0.92      0.88     11130\n",
            "\n"
          ],
          "name": "stdout"
        },
        {
          "output_type": "display_data",
          "data": {
            "image/png": "[encoded data removed]",
            "text/plain": [
              "<Figure size 432x288 with 1 Axes>"
            ]
          },
          "metadata": {
            "tags": []
          }
        }
      ]
    },
    {
      "cell_type": "markdown",
      "metadata": {
        "id": "K_Uy6zfgf3Ga",
        "colab_type": "text"
      },
      "source": [
        "## Sec 8. Validation and Performance Measurement of Model"
      ]
    },
    {
      "cell_type": "code",
      "metadata": {
        "id": "JYuGUefrrJMH",
        "colab_type": "code",
        "colab": {}
      },
      "source": [
        "# Deciles and Kolmogarov Smirnoff Statistics\n",
        "\n",
        "def plot_pandas_style(styler):\n",
        "    html = '\\n'.join([line.lstrip() for line in styler.render().split('\\n')])\n",
        "    return HTML(html)\n",
        "\n",
        "def highlight_max(s, color='yellow'):\n",
        "    '''\n",
        "    highlight the maximum in a Series yellow.\n",
        "    '''\n",
        "    is_max = s == s.max()\n",
        "    return ['background-color: {}'.format(color) if v else '' for v in is_max]\n",
        "\n",
        "def decile_labels(agg1, label, color='skyblue'):\n",
        "    agg_dummy = pd.DataFrame(OrderedDict((('TOTAL', 0), ('TARGET', 0), ('NONTARGET', 0), ('PCT_TGT', 0), ('CUM_TGT', 0), ('CUM_NONTGT', 0), ('DIST_TGT', 0), ('DIST_NONTGT', 0), ('SPREAD', 0))), index=[0])\n",
        "    agg1 = agg1.append(agg_dummy).sort_index()\n",
        "    agg1.index.name = label\n",
        "    agg1 = agg1.style.apply(highlight_max, color = 'yellow', subset=['SPREAD'])\n",
        "    agg1.bar(subset=['TARGET'], color='{}'.format(color))\n",
        "    agg1.bar(subset=['TOTAL'], color='{}'.format(color))\n",
        "    agg1.bar(subset=['PCT_TGT'], color='{}'.format(color))\n",
        "    return(agg1)\n",
        "    \n",
        "def deciling(data, decile_by, target, nontarget):\n",
        "    inputs = list(decile_by)\n",
        "    inputs.extend((target, nontarget))\n",
        "    decile = data[inputs]\n",
        "    grouped = decile.groupby(decile_by)\n",
        "    agg1 = pd.DataFrame({}, index=[])\n",
        "    agg1['TOTAL'] = grouped.sum()[nontarget] + grouped.sum()[target]\n",
        "    agg1['TARGET'] = grouped.sum()[target]\n",
        "    agg1['NONTARGET'] = grouped.sum()[nontarget]\n",
        "    agg1['PCT_TGT'] = grouped.mean()[target] * 100\n",
        "    agg1['CUM_TGT'] = grouped.sum()[target].cumsum()\n",
        "    agg1['CUM_NONTGT'] = grouped.sum()[nontarget].cumsum()\n",
        "    agg1['DIST_TGT'] = agg1['CUM_TGT']/agg1['TARGET'].sum() * 100\n",
        "    agg1['DIST_NONTGT'] = agg1['CUM_NONTGT']/agg1['NONTARGET'].sum() * 100\n",
        "    agg1['SPREAD'] = (agg1['DIST_TGT'] - agg1['DIST_NONTGT'])\n",
        "    agg1 = decile_labels(agg1, 'DECILE', color='skyblue')\n",
        "    return(plot_pandas_style(agg1))\n",
        "    \n",
        "def scoring (features, clf, target): \n",
        "  score=pd.DataFrame(clf.predict_proba(features)[:, 1], columns = ['SCORE'])\n",
        "  score['DECILE'] = pd.qcut(score['SCORE'].rank(method = 'first'), 10, labels=range(10, 0, -1))\n",
        "  score['DECILE'] = score['DECILE'].astype(float)\n",
        "  score['TARGET'] = target\n",
        "  score['NONTARGET'] = 1 - target\n",
        "  return score"
      ],
      "execution_count": 0,
      "outputs": []
    },
    {
      "cell_type": "code",
      "metadata": {
        "id": "yf0xu_HbrOAv",
        "colab_type": "code",
        "outputId": "2db6f282-7891-4898-8169-1c27c7c723ca",
        "colab": {
          "base_uri": "https://localhost:8080/",
          "height": 221
        }
      },
      "source": [
        "scores_train = scoring(train_features, clf, train_labels)\n",
        "scores_test = scoring(test_features, clf, test_labels)"
      ],
      "execution_count": 101,
      "outputs": [
        {
          "output_type": "stream",
          "text": [
            "      SCORE  DECILE  TARGET\n",
            "0  0.158937     1.0       0\n",
            "1  0.072336     6.0       0\n",
            "2  0.041535    10.0       0\n",
            "3  0.060483     7.0       0\n",
            "4  0.150272     1.0       1\n",
            "      SCORE  DECILE  TARGET\n",
            "0  0.048519     9.0       0\n",
            "1  0.116616     2.0       1\n",
            "2  0.104829     3.0       0\n",
            "3  0.080084     5.0       0\n",
            "4  0.163164     1.0       0\n"
          ],
          "name": "stdout"
        }
      ]
    },
    {
      "cell_type": "code",
      "metadata": {
        "id": "zmGBoNjUjdoM",
        "colab_type": "code",
        "colab": {
          "base_uri": "https://localhost:8080/",
          "height": 292
        },
        "outputId": "d76a94cb-7cf0-4875-9c91-e1fc0c438641"
      },
      "source": [
        "deciling(scores_train, ['DECILE'], 'TARGET', 'NONTARGET')"
      ],
      "execution_count": 102,
      "outputs": [
        {
          "output_type": "execute_result",
          "data": {
            "text/html": [
              "<style  type=\"text/css\" >\n",
              "#T_8cde4d84_e146_11e9_ab45_0242ac1c0002row0_col0 {\n",
              "width:  10em;\n",
              "height:  80%;\n",
              "}    #T_8cde4d84_e146_11e9_ab45_0242ac1c0002row0_col1 {\n",
              "width:  10em;\n",
              "height:  80%;\n",
              "}    #T_8cde4d84_e146_11e9_ab45_0242ac1c0002row0_col3 {\n",
              "width:  10em;\n",
              "height:  80%;\n",
              "}    #T_8cde4d84_e146_11e9_ab45_0242ac1c0002row1_col0 {\n",
              "width:  10em;\n",
              "height:  80%;\n",
              "background:  linear-gradient(90deg,skyblue 100.0%, transparent 100.0%);\n",
              "}    #T_8cde4d84_e146_11e9_ab45_0242ac1c0002row1_col1 {\n",
              "width:  10em;\n",
              "height:  80%;\n",
              "background:  linear-gradient(90deg,skyblue 100.0%, transparent 100.0%);\n",
              "}    #T_8cde4d84_e146_11e9_ab45_0242ac1c0002row1_col3 {\n",
              "width:  10em;\n",
              "height:  80%;\n",
              "background:  linear-gradient(90deg,skyblue 100.0%, transparent 100.0%);\n",
              "}    #T_8cde4d84_e146_11e9_ab45_0242ac1c0002row2_col0 {\n",
              "width:  10em;\n",
              "height:  80%;\n",
              "background:  linear-gradient(90deg,skyblue 99.9%, transparent 99.9%);\n",
              "}    #T_8cde4d84_e146_11e9_ab45_0242ac1c0002row2_col1 {\n",
              "width:  10em;\n",
              "height:  80%;\n",
              "background:  linear-gradient(90deg,skyblue 48.5%, transparent 48.5%);\n",
              "}    #T_8cde4d84_e146_11e9_ab45_0242ac1c0002row2_col3 {\n",
              "width:  10em;\n",
              "height:  80%;\n",
              "background:  linear-gradient(90deg,skyblue 48.5%, transparent 48.5%);\n",
              "}    #T_8cde4d84_e146_11e9_ab45_0242ac1c0002row3_col0 {\n",
              "width:  10em;\n",
              "height:  80%;\n",
              "background:  linear-gradient(90deg,skyblue 99.9%, transparent 99.9%);\n",
              "}    #T_8cde4d84_e146_11e9_ab45_0242ac1c0002row3_col1 {\n",
              "width:  10em;\n",
              "height:  80%;\n",
              "background:  linear-gradient(90deg,skyblue 40.7%, transparent 40.7%);\n",
              "}    #T_8cde4d84_e146_11e9_ab45_0242ac1c0002row3_col3 {\n",
              "width:  10em;\n",
              "height:  80%;\n",
              "background:  linear-gradient(90deg,skyblue 40.7%, transparent 40.7%);\n",
              "}    #T_8cde4d84_e146_11e9_ab45_0242ac1c0002row3_col8 {\n",
              "background-color:  yellow;\n",
              "}    #T_8cde4d84_e146_11e9_ab45_0242ac1c0002row4_col0 {\n",
              "width:  10em;\n",
              "height:  80%;\n",
              "background:  linear-gradient(90deg,skyblue 99.9%, transparent 99.9%);\n",
              "}    #T_8cde4d84_e146_11e9_ab45_0242ac1c0002row4_col1 {\n",
              "width:  10em;\n",
              "height:  80%;\n",
              "background:  linear-gradient(90deg,skyblue 31.3%, transparent 31.3%);\n",
              "}    #T_8cde4d84_e146_11e9_ab45_0242ac1c0002row4_col3 {\n",
              "width:  10em;\n",
              "height:  80%;\n",
              "background:  linear-gradient(90deg,skyblue 31.3%, transparent 31.3%);\n",
              "}    #T_8cde4d84_e146_11e9_ab45_0242ac1c0002row5_col0 {\n",
              "width:  10em;\n",
              "height:  80%;\n",
              "background:  linear-gradient(90deg,skyblue 99.9%, transparent 99.9%);\n",
              "}    #T_8cde4d84_e146_11e9_ab45_0242ac1c0002row5_col1 {\n",
              "width:  10em;\n",
              "height:  80%;\n",
              "background:  linear-gradient(90deg,skyblue 25.7%, transparent 25.7%);\n",
              "}    #T_8cde4d84_e146_11e9_ab45_0242ac1c0002row5_col3 {\n",
              "width:  10em;\n",
              "height:  80%;\n",
              "background:  linear-gradient(90deg,skyblue 25.8%, transparent 25.8%);\n",
              "}    #T_8cde4d84_e146_11e9_ab45_0242ac1c0002row6_col0 {\n",
              "width:  10em;\n",
              "height:  80%;\n",
              "background:  linear-gradient(90deg,skyblue 100.0%, transparent 100.0%);\n",
              "}    #T_8cde4d84_e146_11e9_ab45_0242ac1c0002row6_col1 {\n",
              "width:  10em;\n",
              "height:  80%;\n",
              "background:  linear-gradient(90deg,skyblue 28.3%, transparent 28.3%);\n",
              "}    #T_8cde4d84_e146_11e9_ab45_0242ac1c0002row6_col3 {\n",
              "width:  10em;\n",
              "height:  80%;\n",
              "background:  linear-gradient(90deg,skyblue 28.3%, transparent 28.3%);\n",
              "}    #T_8cde4d84_e146_11e9_ab45_0242ac1c0002row7_col0 {\n",
              "width:  10em;\n",
              "height:  80%;\n",
              "background:  linear-gradient(90deg,skyblue 99.9%, transparent 99.9%);\n",
              "}    #T_8cde4d84_e146_11e9_ab45_0242ac1c0002row7_col1 {\n",
              "width:  10em;\n",
              "height:  80%;\n",
              "background:  linear-gradient(90deg,skyblue 16.8%, transparent 16.8%);\n",
              "}    #T_8cde4d84_e146_11e9_ab45_0242ac1c0002row7_col3 {\n",
              "width:  10em;\n",
              "height:  80%;\n",
              "background:  linear-gradient(90deg,skyblue 16.8%, transparent 16.8%);\n",
              "}    #T_8cde4d84_e146_11e9_ab45_0242ac1c0002row8_col0 {\n",
              "width:  10em;\n",
              "height:  80%;\n",
              "background:  linear-gradient(90deg,skyblue 99.9%, transparent 99.9%);\n",
              "}    #T_8cde4d84_e146_11e9_ab45_0242ac1c0002row8_col1 {\n",
              "width:  10em;\n",
              "height:  80%;\n",
              "background:  linear-gradient(90deg,skyblue 14.7%, transparent 14.7%);\n",
              "}    #T_8cde4d84_e146_11e9_ab45_0242ac1c0002row8_col3 {\n",
              "width:  10em;\n",
              "height:  80%;\n",
              "background:  linear-gradient(90deg,skyblue 14.7%, transparent 14.7%);\n",
              "}    #T_8cde4d84_e146_11e9_ab45_0242ac1c0002row9_col0 {\n",
              "width:  10em;\n",
              "height:  80%;\n",
              "background:  linear-gradient(90deg,skyblue 99.9%, transparent 99.9%);\n",
              "}    #T_8cde4d84_e146_11e9_ab45_0242ac1c0002row9_col1 {\n",
              "width:  10em;\n",
              "height:  80%;\n",
              "background:  linear-gradient(90deg,skyblue 9.9%, transparent 9.9%);\n",
              "}    #T_8cde4d84_e146_11e9_ab45_0242ac1c0002row9_col3 {\n",
              "width:  10em;\n",
              "height:  80%;\n",
              "background:  linear-gradient(90deg,skyblue 9.9%, transparent 9.9%);\n",
              "}    #T_8cde4d84_e146_11e9_ab45_0242ac1c0002row10_col0 {\n",
              "width:  10em;\n",
              "height:  80%;\n",
              "background:  linear-gradient(90deg,skyblue 100.0%, transparent 100.0%);\n",
              "}    #T_8cde4d84_e146_11e9_ab45_0242ac1c0002row10_col1 {\n",
              "width:  10em;\n",
              "height:  80%;\n",
              "background:  linear-gradient(90deg,skyblue 6.0%, transparent 6.0%);\n",
              "}    #T_8cde4d84_e146_11e9_ab45_0242ac1c0002row10_col3 {\n",
              "width:  10em;\n",
              "height:  80%;\n",
              "background:  linear-gradient(90deg,skyblue 6.0%, transparent 6.0%);\n",
              "}</style><table id=\"T_8cde4d84_e146_11e9_ab45_0242ac1c0002\" ><thead>    <tr>        <th class=\"blank level0\" ></th>        <th class=\"col_heading level0 col0\" >TOTAL</th>        <th class=\"col_heading level0 col1\" >TARGET</th>        <th class=\"col_heading level0 col2\" >NONTARGET</th>        <th class=\"col_heading level0 col3\" >PCT_TGT</th>        <th class=\"col_heading level0 col4\" >CUM_TGT</th>        <th class=\"col_heading level0 col5\" >CUM_NONTGT</th>        <th class=\"col_heading level0 col6\" >DIST_TGT</th>        <th class=\"col_heading level0 col7\" >DIST_NONTGT</th>        <th class=\"col_heading level0 col8\" >SPREAD</th>    </tr>    <tr>        <th class=\"index_name level0\" >DECILE</th>        <th class=\"blank\" ></th>        <th class=\"blank\" ></th>        <th class=\"blank\" ></th>        <th class=\"blank\" ></th>        <th class=\"blank\" ></th>        <th class=\"blank\" ></th>        <th class=\"blank\" ></th>        <th class=\"blank\" ></th>        <th class=\"blank\" ></th>    </tr></thead><tbody>\n",
              "<tr>\n",
              "<th id=\"T_8cde4d84_e146_11e9_ab45_0242ac1c0002level0_row0\" class=\"row_heading level0 row0\" >0.0</th>\n",
              "<td id=\"T_8cde4d84_e146_11e9_ab45_0242ac1c0002row0_col0\" class=\"data row0 col0\" >0</td>\n",
              "<td id=\"T_8cde4d84_e146_11e9_ab45_0242ac1c0002row0_col1\" class=\"data row0 col1\" >0</td>\n",
              "<td id=\"T_8cde4d84_e146_11e9_ab45_0242ac1c0002row0_col2\" class=\"data row0 col2\" >0</td>\n",
              "<td id=\"T_8cde4d84_e146_11e9_ab45_0242ac1c0002row0_col3\" class=\"data row0 col3\" >0</td>\n",
              "<td id=\"T_8cde4d84_e146_11e9_ab45_0242ac1c0002row0_col4\" class=\"data row0 col4\" >0</td>\n",
              "<td id=\"T_8cde4d84_e146_11e9_ab45_0242ac1c0002row0_col5\" class=\"data row0 col5\" >0</td>\n",
              "<td id=\"T_8cde4d84_e146_11e9_ab45_0242ac1c0002row0_col6\" class=\"data row0 col6\" >0</td>\n",
              "<td id=\"T_8cde4d84_e146_11e9_ab45_0242ac1c0002row0_col7\" class=\"data row0 col7\" >0</td>\n",
              "<td id=\"T_8cde4d84_e146_11e9_ab45_0242ac1c0002row0_col8\" class=\"data row0 col8\" >0</td>\n",
              "</tr>\n",
              "<tr>\n",
              "<th id=\"T_8cde4d84_e146_11e9_ab45_0242ac1c0002level0_row1\" class=\"row_heading level0 row1\" >1.0</th>\n",
              "<td id=\"T_8cde4d84_e146_11e9_ab45_0242ac1c0002row1_col0\" class=\"data row1 col0\" >1670</td>\n",
              "<td id=\"T_8cde4d84_e146_11e9_ab45_0242ac1c0002row1_col1\" class=\"data row1 col1\" >435</td>\n",
              "<td id=\"T_8cde4d84_e146_11e9_ab45_0242ac1c0002row1_col2\" class=\"data row1 col2\" >1235</td>\n",
              "<td id=\"T_8cde4d84_e146_11e9_ab45_0242ac1c0002row1_col3\" class=\"data row1 col3\" >26.0479</td>\n",
              "<td id=\"T_8cde4d84_e146_11e9_ab45_0242ac1c0002row1_col4\" class=\"data row1 col4\" >435</td>\n",
              "<td id=\"T_8cde4d84_e146_11e9_ab45_0242ac1c0002row1_col5\" class=\"data row1 col5\" >1235</td>\n",
              "<td id=\"T_8cde4d84_e146_11e9_ab45_0242ac1c0002row1_col6\" class=\"data row1 col6\" >31.0714</td>\n",
              "<td id=\"T_8cde4d84_e146_11e9_ab45_0242ac1c0002row1_col7\" class=\"data row1 col7\" >8.07559</td>\n",
              "<td id=\"T_8cde4d84_e146_11e9_ab45_0242ac1c0002row1_col8\" class=\"data row1 col8\" >22.9958</td>\n",
              "</tr>\n",
              "<tr>\n",
              "<th id=\"T_8cde4d84_e146_11e9_ab45_0242ac1c0002level0_row2\" class=\"row_heading level0 row2\" >2.0</th>\n",
              "<td id=\"T_8cde4d84_e146_11e9_ab45_0242ac1c0002row2_col0\" class=\"data row2 col0\" >1669</td>\n",
              "<td id=\"T_8cde4d84_e146_11e9_ab45_0242ac1c0002row2_col1\" class=\"data row2 col1\" >211</td>\n",
              "<td id=\"T_8cde4d84_e146_11e9_ab45_0242ac1c0002row2_col2\" class=\"data row2 col2\" >1458</td>\n",
              "<td id=\"T_8cde4d84_e146_11e9_ab45_0242ac1c0002row2_col3\" class=\"data row2 col3\" >12.6423</td>\n",
              "<td id=\"T_8cde4d84_e146_11e9_ab45_0242ac1c0002row2_col4\" class=\"data row2 col4\" >646</td>\n",
              "<td id=\"T_8cde4d84_e146_11e9_ab45_0242ac1c0002row2_col5\" class=\"data row2 col5\" >2693</td>\n",
              "<td id=\"T_8cde4d84_e146_11e9_ab45_0242ac1c0002row2_col6\" class=\"data row2 col6\" >46.1429</td>\n",
              "<td id=\"T_8cde4d84_e146_11e9_ab45_0242ac1c0002row2_col7\" class=\"data row2 col7\" >17.6094</td>\n",
              "<td id=\"T_8cde4d84_e146_11e9_ab45_0242ac1c0002row2_col8\" class=\"data row2 col8\" >28.5335</td>\n",
              "</tr>\n",
              "<tr>\n",
              "<th id=\"T_8cde4d84_e146_11e9_ab45_0242ac1c0002level0_row3\" class=\"row_heading level0 row3\" >3.0</th>\n",
              "<td id=\"T_8cde4d84_e146_11e9_ab45_0242ac1c0002row3_col0\" class=\"data row3 col0\" >1669</td>\n",
              "<td id=\"T_8cde4d84_e146_11e9_ab45_0242ac1c0002row3_col1\" class=\"data row3 col1\" >177</td>\n",
              "<td id=\"T_8cde4d84_e146_11e9_ab45_0242ac1c0002row3_col2\" class=\"data row3 col2\" >1492</td>\n",
              "<td id=\"T_8cde4d84_e146_11e9_ab45_0242ac1c0002row3_col3\" class=\"data row3 col3\" >10.6052</td>\n",
              "<td id=\"T_8cde4d84_e146_11e9_ab45_0242ac1c0002row3_col4\" class=\"data row3 col4\" >823</td>\n",
              "<td id=\"T_8cde4d84_e146_11e9_ab45_0242ac1c0002row3_col5\" class=\"data row3 col5\" >4185</td>\n",
              "<td id=\"T_8cde4d84_e146_11e9_ab45_0242ac1c0002row3_col6\" class=\"data row3 col6\" >58.7857</td>\n",
              "<td id=\"T_8cde4d84_e146_11e9_ab45_0242ac1c0002row3_col7\" class=\"data row3 col7\" >27.3655</td>\n",
              "<td id=\"T_8cde4d84_e146_11e9_ab45_0242ac1c0002row3_col8\" class=\"data row3 col8\" >31.4203</td>\n",
              "</tr>\n",
              "<tr>\n",
              "<th id=\"T_8cde4d84_e146_11e9_ab45_0242ac1c0002level0_row4\" class=\"row_heading level0 row4\" >4.0</th>\n",
              "<td id=\"T_8cde4d84_e146_11e9_ab45_0242ac1c0002row4_col0\" class=\"data row4 col0\" >1669</td>\n",
              "<td id=\"T_8cde4d84_e146_11e9_ab45_0242ac1c0002row4_col1\" class=\"data row4 col1\" >136</td>\n",
              "<td id=\"T_8cde4d84_e146_11e9_ab45_0242ac1c0002row4_col2\" class=\"data row4 col2\" >1533</td>\n",
              "<td id=\"T_8cde4d84_e146_11e9_ab45_0242ac1c0002row4_col3\" class=\"data row4 col3\" >8.14859</td>\n",
              "<td id=\"T_8cde4d84_e146_11e9_ab45_0242ac1c0002row4_col4\" class=\"data row4 col4\" >959</td>\n",
              "<td id=\"T_8cde4d84_e146_11e9_ab45_0242ac1c0002row4_col5\" class=\"data row4 col5\" >5718</td>\n",
              "<td id=\"T_8cde4d84_e146_11e9_ab45_0242ac1c0002row4_col6\" class=\"data row4 col6\" >68.5</td>\n",
              "<td id=\"T_8cde4d84_e146_11e9_ab45_0242ac1c0002row4_col7\" class=\"data row4 col7\" >37.3897</td>\n",
              "<td id=\"T_8cde4d84_e146_11e9_ab45_0242ac1c0002row4_col8\" class=\"data row4 col8\" >31.1103</td>\n",
              "</tr>\n",
              "<tr>\n",
              "<th id=\"T_8cde4d84_e146_11e9_ab45_0242ac1c0002level0_row5\" class=\"row_heading level0 row5\" >5.0</th>\n",
              "<td id=\"T_8cde4d84_e146_11e9_ab45_0242ac1c0002row5_col0\" class=\"data row5 col0\" >1669</td>\n",
              "<td id=\"T_8cde4d84_e146_11e9_ab45_0242ac1c0002row5_col1\" class=\"data row5 col1\" >112</td>\n",
              "<td id=\"T_8cde4d84_e146_11e9_ab45_0242ac1c0002row5_col2\" class=\"data row5 col2\" >1557</td>\n",
              "<td id=\"T_8cde4d84_e146_11e9_ab45_0242ac1c0002row5_col3\" class=\"data row5 col3\" >6.71061</td>\n",
              "<td id=\"T_8cde4d84_e146_11e9_ab45_0242ac1c0002row5_col4\" class=\"data row5 col4\" >1071</td>\n",
              "<td id=\"T_8cde4d84_e146_11e9_ab45_0242ac1c0002row5_col5\" class=\"data row5 col5\" >7275</td>\n",
              "<td id=\"T_8cde4d84_e146_11e9_ab45_0242ac1c0002row5_col6\" class=\"data row5 col6\" >76.5</td>\n",
              "<td id=\"T_8cde4d84_e146_11e9_ab45_0242ac1c0002row5_col7\" class=\"data row5 col7\" >47.5708</td>\n",
              "<td id=\"T_8cde4d84_e146_11e9_ab45_0242ac1c0002row5_col8\" class=\"data row5 col8\" >28.9292</td>\n",
              "</tr>\n",
              "<tr>\n",
              "<th id=\"T_8cde4d84_e146_11e9_ab45_0242ac1c0002level0_row6\" class=\"row_heading level0 row6\" >6.0</th>\n",
              "<td id=\"T_8cde4d84_e146_11e9_ab45_0242ac1c0002row6_col0\" class=\"data row6 col0\" >1670</td>\n",
              "<td id=\"T_8cde4d84_e146_11e9_ab45_0242ac1c0002row6_col1\" class=\"data row6 col1\" >123</td>\n",
              "<td id=\"T_8cde4d84_e146_11e9_ab45_0242ac1c0002row6_col2\" class=\"data row6 col2\" >1547</td>\n",
              "<td id=\"T_8cde4d84_e146_11e9_ab45_0242ac1c0002row6_col3\" class=\"data row6 col3\" >7.36527</td>\n",
              "<td id=\"T_8cde4d84_e146_11e9_ab45_0242ac1c0002row6_col4\" class=\"data row6 col4\" >1194</td>\n",
              "<td id=\"T_8cde4d84_e146_11e9_ab45_0242ac1c0002row6_col5\" class=\"data row6 col5\" >8822</td>\n",
              "<td id=\"T_8cde4d84_e146_11e9_ab45_0242ac1c0002row6_col6\" class=\"data row6 col6\" >85.2857</td>\n",
              "<td id=\"T_8cde4d84_e146_11e9_ab45_0242ac1c0002row6_col7\" class=\"data row6 col7\" >57.6865</td>\n",
              "<td id=\"T_8cde4d84_e146_11e9_ab45_0242ac1c0002row6_col8\" class=\"data row6 col8\" >27.5992</td>\n",
              "</tr>\n",
              "<tr>\n",
              "<th id=\"T_8cde4d84_e146_11e9_ab45_0242ac1c0002level0_row7\" class=\"row_heading level0 row7\" >7.0</th>\n",
              "<td id=\"T_8cde4d84_e146_11e9_ab45_0242ac1c0002row7_col0\" class=\"data row7 col0\" >1669</td>\n",
              "<td id=\"T_8cde4d84_e146_11e9_ab45_0242ac1c0002row7_col1\" class=\"data row7 col1\" >73</td>\n",
              "<td id=\"T_8cde4d84_e146_11e9_ab45_0242ac1c0002row7_col2\" class=\"data row7 col2\" >1596</td>\n",
              "<td id=\"T_8cde4d84_e146_11e9_ab45_0242ac1c0002row7_col3\" class=\"data row7 col3\" >4.37388</td>\n",
              "<td id=\"T_8cde4d84_e146_11e9_ab45_0242ac1c0002row7_col4\" class=\"data row7 col4\" >1267</td>\n",
              "<td id=\"T_8cde4d84_e146_11e9_ab45_0242ac1c0002row7_col5\" class=\"data row7 col5\" >10418</td>\n",
              "<td id=\"T_8cde4d84_e146_11e9_ab45_0242ac1c0002row7_col6\" class=\"data row7 col6\" >90.5</td>\n",
              "<td id=\"T_8cde4d84_e146_11e9_ab45_0242ac1c0002row7_col7\" class=\"data row7 col7\" >68.1227</td>\n",
              "<td id=\"T_8cde4d84_e146_11e9_ab45_0242ac1c0002row7_col8\" class=\"data row7 col8\" >22.3773</td>\n",
              "</tr>\n",
              "<tr>\n",
              "<th id=\"T_8cde4d84_e146_11e9_ab45_0242ac1c0002level0_row8\" class=\"row_heading level0 row8\" >8.0</th>\n",
              "<td id=\"T_8cde4d84_e146_11e9_ab45_0242ac1c0002row8_col0\" class=\"data row8 col0\" >1669</td>\n",
              "<td id=\"T_8cde4d84_e146_11e9_ab45_0242ac1c0002row8_col1\" class=\"data row8 col1\" >64</td>\n",
              "<td id=\"T_8cde4d84_e146_11e9_ab45_0242ac1c0002row8_col2\" class=\"data row8 col2\" >1605</td>\n",
              "<td id=\"T_8cde4d84_e146_11e9_ab45_0242ac1c0002row8_col3\" class=\"data row8 col3\" >3.83463</td>\n",
              "<td id=\"T_8cde4d84_e146_11e9_ab45_0242ac1c0002row8_col4\" class=\"data row8 col4\" >1331</td>\n",
              "<td id=\"T_8cde4d84_e146_11e9_ab45_0242ac1c0002row8_col5\" class=\"data row8 col5\" >12023</td>\n",
              "<td id=\"T_8cde4d84_e146_11e9_ab45_0242ac1c0002row8_col6\" class=\"data row8 col6\" >95.0714</td>\n",
              "<td id=\"T_8cde4d84_e146_11e9_ab45_0242ac1c0002row8_col7\" class=\"data row8 col7\" >78.6177</td>\n",
              "<td id=\"T_8cde4d84_e146_11e9_ab45_0242ac1c0002row8_col8\" class=\"data row8 col8\" >16.4538</td>\n",
              "</tr>\n",
              "<tr>\n",
              "<th id=\"T_8cde4d84_e146_11e9_ab45_0242ac1c0002level0_row9\" class=\"row_heading level0 row9\" >9.0</th>\n",
              "<td id=\"T_8cde4d84_e146_11e9_ab45_0242ac1c0002row9_col0\" class=\"data row9 col0\" >1669</td>\n",
              "<td id=\"T_8cde4d84_e146_11e9_ab45_0242ac1c0002row9_col1\" class=\"data row9 col1\" >43</td>\n",
              "<td id=\"T_8cde4d84_e146_11e9_ab45_0242ac1c0002row9_col2\" class=\"data row9 col2\" >1626</td>\n",
              "<td id=\"T_8cde4d84_e146_11e9_ab45_0242ac1c0002row9_col3\" class=\"data row9 col3\" >2.57639</td>\n",
              "<td id=\"T_8cde4d84_e146_11e9_ab45_0242ac1c0002row9_col4\" class=\"data row9 col4\" >1374</td>\n",
              "<td id=\"T_8cde4d84_e146_11e9_ab45_0242ac1c0002row9_col5\" class=\"data row9 col5\" >13649</td>\n",
              "<td id=\"T_8cde4d84_e146_11e9_ab45_0242ac1c0002row9_col6\" class=\"data row9 col6\" >98.1429</td>\n",
              "<td id=\"T_8cde4d84_e146_11e9_ab45_0242ac1c0002row9_col7\" class=\"data row9 col7\" >89.25</td>\n",
              "<td id=\"T_8cde4d84_e146_11e9_ab45_0242ac1c0002row9_col8\" class=\"data row9 col8\" >8.89287</td>\n",
              "</tr>\n",
              "<tr>\n",
              "<th id=\"T_8cde4d84_e146_11e9_ab45_0242ac1c0002level0_row10\" class=\"row_heading level0 row10\" >10.0</th>\n",
              "<td id=\"T_8cde4d84_e146_11e9_ab45_0242ac1c0002row10_col0\" class=\"data row10 col0\" >1670</td>\n",
              "<td id=\"T_8cde4d84_e146_11e9_ab45_0242ac1c0002row10_col1\" class=\"data row10 col1\" >26</td>\n",
              "<td id=\"T_8cde4d84_e146_11e9_ab45_0242ac1c0002row10_col2\" class=\"data row10 col2\" >1644</td>\n",
              "<td id=\"T_8cde4d84_e146_11e9_ab45_0242ac1c0002row10_col3\" class=\"data row10 col3\" >1.55689</td>\n",
              "<td id=\"T_8cde4d84_e146_11e9_ab45_0242ac1c0002row10_col4\" class=\"data row10 col4\" >1400</td>\n",
              "<td id=\"T_8cde4d84_e146_11e9_ab45_0242ac1c0002row10_col5\" class=\"data row10 col5\" >15293</td>\n",
              "<td id=\"T_8cde4d84_e146_11e9_ab45_0242ac1c0002row10_col6\" class=\"data row10 col6\" >100</td>\n",
              "<td id=\"T_8cde4d84_e146_11e9_ab45_0242ac1c0002row10_col7\" class=\"data row10 col7\" >100</td>\n",
              "<td id=\"T_8cde4d84_e146_11e9_ab45_0242ac1c0002row10_col8\" class=\"data row10 col8\" >0</td>\n",
              "</tr>\n",
              "</tbody></table>"
            ],
            "text/plain": [
              "<IPython.core.display.HTML object>"
            ]
          },
          "metadata": {
            "tags": []
          },
          "execution_count": 102
        }
      ]
    },
    {
      "cell_type": "code",
      "metadata": {
        "id": "5GD6h1HjiYXU",
        "colab_type": "code",
        "colab": {
          "base_uri": "https://localhost:8080/",
          "height": 292
        },
        "outputId": "6591ca40-ef2c-4b85-80c9-c848ff03e210"
      },
      "source": [
        "deciling(scores_test, ['DECILE'], 'TARGET', 'NONTARGET')"
      ],
      "execution_count": 103,
      "outputs": [
        {
          "output_type": "execute_result",
          "data": {
            "text/html": [
              "<style  type=\"text/css\" >\n",
              "#T_8cebd56c_e146_11e9_ab45_0242ac1c0002row0_col0 {\n",
              "width:  10em;\n",
              "height:  80%;\n",
              "}    #T_8cebd56c_e146_11e9_ab45_0242ac1c0002row0_col1 {\n",
              "width:  10em;\n",
              "height:  80%;\n",
              "}    #T_8cebd56c_e146_11e9_ab45_0242ac1c0002row0_col3 {\n",
              "width:  10em;\n",
              "height:  80%;\n",
              "}    #T_8cebd56c_e146_11e9_ab45_0242ac1c0002row1_col0 {\n",
              "width:  10em;\n",
              "height:  80%;\n",
              "background:  linear-gradient(90deg,skyblue 100.0%, transparent 100.0%);\n",
              "}    #T_8cebd56c_e146_11e9_ab45_0242ac1c0002row1_col1 {\n",
              "width:  10em;\n",
              "height:  80%;\n",
              "background:  linear-gradient(90deg,skyblue 100.0%, transparent 100.0%);\n",
              "}    #T_8cebd56c_e146_11e9_ab45_0242ac1c0002row1_col3 {\n",
              "width:  10em;\n",
              "height:  80%;\n",
              "background:  linear-gradient(90deg,skyblue 100.0%, transparent 100.0%);\n",
              "}    #T_8cebd56c_e146_11e9_ab45_0242ac1c0002row2_col0 {\n",
              "width:  10em;\n",
              "height:  80%;\n",
              "background:  linear-gradient(90deg,skyblue 100.0%, transparent 100.0%);\n",
              "}    #T_8cebd56c_e146_11e9_ab45_0242ac1c0002row2_col1 {\n",
              "width:  10em;\n",
              "height:  80%;\n",
              "background:  linear-gradient(90deg,skyblue 82.9%, transparent 82.9%);\n",
              "}    #T_8cebd56c_e146_11e9_ab45_0242ac1c0002row2_col3 {\n",
              "width:  10em;\n",
              "height:  80%;\n",
              "background:  linear-gradient(90deg,skyblue 82.9%, transparent 82.9%);\n",
              "}    #T_8cebd56c_e146_11e9_ab45_0242ac1c0002row3_col0 {\n",
              "width:  10em;\n",
              "height:  80%;\n",
              "background:  linear-gradient(90deg,skyblue 100.0%, transparent 100.0%);\n",
              "}    #T_8cebd56c_e146_11e9_ab45_0242ac1c0002row3_col1 {\n",
              "width:  10em;\n",
              "height:  80%;\n",
              "background:  linear-gradient(90deg,skyblue 68.3%, transparent 68.3%);\n",
              "}    #T_8cebd56c_e146_11e9_ab45_0242ac1c0002row3_col3 {\n",
              "width:  10em;\n",
              "height:  80%;\n",
              "background:  linear-gradient(90deg,skyblue 68.3%, transparent 68.3%);\n",
              "}    #T_8cebd56c_e146_11e9_ab45_0242ac1c0002row4_col0 {\n",
              "width:  10em;\n",
              "height:  80%;\n",
              "background:  linear-gradient(90deg,skyblue 100.0%, transparent 100.0%);\n",
              "}    #T_8cebd56c_e146_11e9_ab45_0242ac1c0002row4_col1 {\n",
              "width:  10em;\n",
              "height:  80%;\n",
              "background:  linear-gradient(90deg,skyblue 62.2%, transparent 62.2%);\n",
              "}    #T_8cebd56c_e146_11e9_ab45_0242ac1c0002row4_col3 {\n",
              "width:  10em;\n",
              "height:  80%;\n",
              "background:  linear-gradient(90deg,skyblue 62.2%, transparent 62.2%);\n",
              "}    #T_8cebd56c_e146_11e9_ab45_0242ac1c0002row4_col8 {\n",
              "background-color:  yellow;\n",
              "}    #T_8cebd56c_e146_11e9_ab45_0242ac1c0002row5_col0 {\n",
              "width:  10em;\n",
              "height:  80%;\n",
              "background:  linear-gradient(90deg,skyblue 100.0%, transparent 100.0%);\n",
              "}    #T_8cebd56c_e146_11e9_ab45_0242ac1c0002row5_col1 {\n",
              "width:  10em;\n",
              "height:  80%;\n",
              "background:  linear-gradient(90deg,skyblue 45.7%, transparent 45.7%);\n",
              "}    #T_8cebd56c_e146_11e9_ab45_0242ac1c0002row5_col3 {\n",
              "width:  10em;\n",
              "height:  80%;\n",
              "background:  linear-gradient(90deg,skyblue 45.7%, transparent 45.7%);\n",
              "}    #T_8cebd56c_e146_11e9_ab45_0242ac1c0002row6_col0 {\n",
              "width:  10em;\n",
              "height:  80%;\n",
              "background:  linear-gradient(90deg,skyblue 100.0%, transparent 100.0%);\n",
              "}    #T_8cebd56c_e146_11e9_ab45_0242ac1c0002row6_col1 {\n",
              "width:  10em;\n",
              "height:  80%;\n",
              "background:  linear-gradient(90deg,skyblue 54.3%, transparent 54.3%);\n",
              "}    #T_8cebd56c_e146_11e9_ab45_0242ac1c0002row6_col3 {\n",
              "width:  10em;\n",
              "height:  80%;\n",
              "background:  linear-gradient(90deg,skyblue 54.3%, transparent 54.3%);\n",
              "}    #T_8cebd56c_e146_11e9_ab45_0242ac1c0002row7_col0 {\n",
              "width:  10em;\n",
              "height:  80%;\n",
              "background:  linear-gradient(90deg,skyblue 100.0%, transparent 100.0%);\n",
              "}    #T_8cebd56c_e146_11e9_ab45_0242ac1c0002row7_col1 {\n",
              "width:  10em;\n",
              "height:  80%;\n",
              "background:  linear-gradient(90deg,skyblue 46.3%, transparent 46.3%);\n",
              "}    #T_8cebd56c_e146_11e9_ab45_0242ac1c0002row7_col3 {\n",
              "width:  10em;\n",
              "height:  80%;\n",
              "background:  linear-gradient(90deg,skyblue 46.3%, transparent 46.3%);\n",
              "}    #T_8cebd56c_e146_11e9_ab45_0242ac1c0002row8_col0 {\n",
              "width:  10em;\n",
              "height:  80%;\n",
              "background:  linear-gradient(90deg,skyblue 100.0%, transparent 100.0%);\n",
              "}    #T_8cebd56c_e146_11e9_ab45_0242ac1c0002row8_col1 {\n",
              "width:  10em;\n",
              "height:  80%;\n",
              "background:  linear-gradient(90deg,skyblue 51.8%, transparent 51.8%);\n",
              "}    #T_8cebd56c_e146_11e9_ab45_0242ac1c0002row8_col3 {\n",
              "width:  10em;\n",
              "height:  80%;\n",
              "background:  linear-gradient(90deg,skyblue 51.8%, transparent 51.8%);\n",
              "}    #T_8cebd56c_e146_11e9_ab45_0242ac1c0002row9_col0 {\n",
              "width:  10em;\n",
              "height:  80%;\n",
              "background:  linear-gradient(90deg,skyblue 100.0%, transparent 100.0%);\n",
              "}    #T_8cebd56c_e146_11e9_ab45_0242ac1c0002row9_col1 {\n",
              "width:  10em;\n",
              "height:  80%;\n",
              "background:  linear-gradient(90deg,skyblue 29.9%, transparent 29.9%);\n",
              "}    #T_8cebd56c_e146_11e9_ab45_0242ac1c0002row9_col3 {\n",
              "width:  10em;\n",
              "height:  80%;\n",
              "background:  linear-gradient(90deg,skyblue 29.9%, transparent 29.9%);\n",
              "}    #T_8cebd56c_e146_11e9_ab45_0242ac1c0002row10_col0 {\n",
              "width:  10em;\n",
              "height:  80%;\n",
              "background:  linear-gradient(90deg,skyblue 100.0%, transparent 100.0%);\n",
              "}    #T_8cebd56c_e146_11e9_ab45_0242ac1c0002row10_col1 {\n",
              "width:  10em;\n",
              "height:  80%;\n",
              "background:  linear-gradient(90deg,skyblue 30.5%, transparent 30.5%);\n",
              "}    #T_8cebd56c_e146_11e9_ab45_0242ac1c0002row10_col3 {\n",
              "width:  10em;\n",
              "height:  80%;\n",
              "background:  linear-gradient(90deg,skyblue 30.5%, transparent 30.5%);\n",
              "}</style><table id=\"T_8cebd56c_e146_11e9_ab45_0242ac1c0002\" ><thead>    <tr>        <th class=\"blank level0\" ></th>        <th class=\"col_heading level0 col0\" >TOTAL</th>        <th class=\"col_heading level0 col1\" >TARGET</th>        <th class=\"col_heading level0 col2\" >NONTARGET</th>        <th class=\"col_heading level0 col3\" >PCT_TGT</th>        <th class=\"col_heading level0 col4\" >CUM_TGT</th>        <th class=\"col_heading level0 col5\" >CUM_NONTGT</th>        <th class=\"col_heading level0 col6\" >DIST_TGT</th>        <th class=\"col_heading level0 col7\" >DIST_NONTGT</th>        <th class=\"col_heading level0 col8\" >SPREAD</th>    </tr>    <tr>        <th class=\"index_name level0\" >DECILE</th>        <th class=\"blank\" ></th>        <th class=\"blank\" ></th>        <th class=\"blank\" ></th>        <th class=\"blank\" ></th>        <th class=\"blank\" ></th>        <th class=\"blank\" ></th>        <th class=\"blank\" ></th>        <th class=\"blank\" ></th>        <th class=\"blank\" ></th>    </tr></thead><tbody>\n",
              "<tr>\n",
              "<th id=\"T_8cebd56c_e146_11e9_ab45_0242ac1c0002level0_row0\" class=\"row_heading level0 row0\" >0.0</th>\n",
              "<td id=\"T_8cebd56c_e146_11e9_ab45_0242ac1c0002row0_col0\" class=\"data row0 col0\" >0</td>\n",
              "<td id=\"T_8cebd56c_e146_11e9_ab45_0242ac1c0002row0_col1\" class=\"data row0 col1\" >0</td>\n",
              "<td id=\"T_8cebd56c_e146_11e9_ab45_0242ac1c0002row0_col2\" class=\"data row0 col2\" >0</td>\n",
              "<td id=\"T_8cebd56c_e146_11e9_ab45_0242ac1c0002row0_col3\" class=\"data row0 col3\" >0</td>\n",
              "<td id=\"T_8cebd56c_e146_11e9_ab45_0242ac1c0002row0_col4\" class=\"data row0 col4\" >0</td>\n",
              "<td id=\"T_8cebd56c_e146_11e9_ab45_0242ac1c0002row0_col5\" class=\"data row0 col5\" >0</td>\n",
              "<td id=\"T_8cebd56c_e146_11e9_ab45_0242ac1c0002row0_col6\" class=\"data row0 col6\" >0</td>\n",
              "<td id=\"T_8cebd56c_e146_11e9_ab45_0242ac1c0002row0_col7\" class=\"data row0 col7\" >0</td>\n",
              "<td id=\"T_8cebd56c_e146_11e9_ab45_0242ac1c0002row0_col8\" class=\"data row0 col8\" >0</td>\n",
              "</tr>\n",
              "<tr>\n",
              "<th id=\"T_8cebd56c_e146_11e9_ab45_0242ac1c0002level0_row1\" class=\"row_heading level0 row1\" >1.0</th>\n",
              "<td id=\"T_8cebd56c_e146_11e9_ab45_0242ac1c0002row1_col0\" class=\"data row1 col0\" >1113</td>\n",
              "<td id=\"T_8cebd56c_e146_11e9_ab45_0242ac1c0002row1_col1\" class=\"data row1 col1\" >164</td>\n",
              "<td id=\"T_8cebd56c_e146_11e9_ab45_0242ac1c0002row1_col2\" class=\"data row1 col2\" >949</td>\n",
              "<td id=\"T_8cebd56c_e146_11e9_ab45_0242ac1c0002row1_col3\" class=\"data row1 col3\" >14.735</td>\n",
              "<td id=\"T_8cebd56c_e146_11e9_ab45_0242ac1c0002row1_col4\" class=\"data row1 col4\" >164</td>\n",
              "<td id=\"T_8cebd56c_e146_11e9_ab45_0242ac1c0002row1_col5\" class=\"data row1 col5\" >949</td>\n",
              "<td id=\"T_8cebd56c_e146_11e9_ab45_0242ac1c0002row1_col6\" class=\"data row1 col6\" >17.484</td>\n",
              "<td id=\"T_8cebd56c_e146_11e9_ab45_0242ac1c0002row1_col7\" class=\"data row1 col7\" >9.31122</td>\n",
              "<td id=\"T_8cebd56c_e146_11e9_ab45_0242ac1c0002row1_col8\" class=\"data row1 col8\" >8.17278</td>\n",
              "</tr>\n",
              "<tr>\n",
              "<th id=\"T_8cebd56c_e146_11e9_ab45_0242ac1c0002level0_row2\" class=\"row_heading level0 row2\" >2.0</th>\n",
              "<td id=\"T_8cebd56c_e146_11e9_ab45_0242ac1c0002row2_col0\" class=\"data row2 col0\" >1113</td>\n",
              "<td id=\"T_8cebd56c_e146_11e9_ab45_0242ac1c0002row2_col1\" class=\"data row2 col1\" >136</td>\n",
              "<td id=\"T_8cebd56c_e146_11e9_ab45_0242ac1c0002row2_col2\" class=\"data row2 col2\" >977</td>\n",
              "<td id=\"T_8cebd56c_e146_11e9_ab45_0242ac1c0002row2_col3\" class=\"data row2 col3\" >12.2192</td>\n",
              "<td id=\"T_8cebd56c_e146_11e9_ab45_0242ac1c0002row2_col4\" class=\"data row2 col4\" >300</td>\n",
              "<td id=\"T_8cebd56c_e146_11e9_ab45_0242ac1c0002row2_col5\" class=\"data row2 col5\" >1926</td>\n",
              "<td id=\"T_8cebd56c_e146_11e9_ab45_0242ac1c0002row2_col6\" class=\"data row2 col6\" >31.9829</td>\n",
              "<td id=\"T_8cebd56c_e146_11e9_ab45_0242ac1c0002row2_col7\" class=\"data row2 col7\" >18.8972</td>\n",
              "<td id=\"T_8cebd56c_e146_11e9_ab45_0242ac1c0002row2_col8\" class=\"data row2 col8\" >13.0858</td>\n",
              "</tr>\n",
              "<tr>\n",
              "<th id=\"T_8cebd56c_e146_11e9_ab45_0242ac1c0002level0_row3\" class=\"row_heading level0 row3\" >3.0</th>\n",
              "<td id=\"T_8cebd56c_e146_11e9_ab45_0242ac1c0002row3_col0\" class=\"data row3 col0\" >1113</td>\n",
              "<td id=\"T_8cebd56c_e146_11e9_ab45_0242ac1c0002row3_col1\" class=\"data row3 col1\" >112</td>\n",
              "<td id=\"T_8cebd56c_e146_11e9_ab45_0242ac1c0002row3_col2\" class=\"data row3 col2\" >1001</td>\n",
              "<td id=\"T_8cebd56c_e146_11e9_ab45_0242ac1c0002row3_col3\" class=\"data row3 col3\" >10.0629</td>\n",
              "<td id=\"T_8cebd56c_e146_11e9_ab45_0242ac1c0002row3_col4\" class=\"data row3 col4\" >412</td>\n",
              "<td id=\"T_8cebd56c_e146_11e9_ab45_0242ac1c0002row3_col5\" class=\"data row3 col5\" >2927</td>\n",
              "<td id=\"T_8cebd56c_e146_11e9_ab45_0242ac1c0002row3_col6\" class=\"data row3 col6\" >43.9232</td>\n",
              "<td id=\"T_8cebd56c_e146_11e9_ab45_0242ac1c0002row3_col7\" class=\"data row3 col7\" >28.7186</td>\n",
              "<td id=\"T_8cebd56c_e146_11e9_ab45_0242ac1c0002row3_col8\" class=\"data row3 col8\" >15.2046</td>\n",
              "</tr>\n",
              "<tr>\n",
              "<th id=\"T_8cebd56c_e146_11e9_ab45_0242ac1c0002level0_row4\" class=\"row_heading level0 row4\" >4.0</th>\n",
              "<td id=\"T_8cebd56c_e146_11e9_ab45_0242ac1c0002row4_col0\" class=\"data row4 col0\" >1113</td>\n",
              "<td id=\"T_8cebd56c_e146_11e9_ab45_0242ac1c0002row4_col1\" class=\"data row4 col1\" >102</td>\n",
              "<td id=\"T_8cebd56c_e146_11e9_ab45_0242ac1c0002row4_col2\" class=\"data row4 col2\" >1011</td>\n",
              "<td id=\"T_8cebd56c_e146_11e9_ab45_0242ac1c0002row4_col3\" class=\"data row4 col3\" >9.16442</td>\n",
              "<td id=\"T_8cebd56c_e146_11e9_ab45_0242ac1c0002row4_col4\" class=\"data row4 col4\" >514</td>\n",
              "<td id=\"T_8cebd56c_e146_11e9_ab45_0242ac1c0002row4_col5\" class=\"data row4 col5\" >3938</td>\n",
              "<td id=\"T_8cebd56c_e146_11e9_ab45_0242ac1c0002row4_col6\" class=\"data row4 col6\" >54.7974</td>\n",
              "<td id=\"T_8cebd56c_e146_11e9_ab45_0242ac1c0002row4_col7\" class=\"data row4 col7\" >38.6381</td>\n",
              "<td id=\"T_8cebd56c_e146_11e9_ab45_0242ac1c0002row4_col8\" class=\"data row4 col8\" >16.1593</td>\n",
              "</tr>\n",
              "<tr>\n",
              "<th id=\"T_8cebd56c_e146_11e9_ab45_0242ac1c0002level0_row5\" class=\"row_heading level0 row5\" >5.0</th>\n",
              "<td id=\"T_8cebd56c_e146_11e9_ab45_0242ac1c0002row5_col0\" class=\"data row5 col0\" >1113</td>\n",
              "<td id=\"T_8cebd56c_e146_11e9_ab45_0242ac1c0002row5_col1\" class=\"data row5 col1\" >75</td>\n",
              "<td id=\"T_8cebd56c_e146_11e9_ab45_0242ac1c0002row5_col2\" class=\"data row5 col2\" >1038</td>\n",
              "<td id=\"T_8cebd56c_e146_11e9_ab45_0242ac1c0002row5_col3\" class=\"data row5 col3\" >6.73854</td>\n",
              "<td id=\"T_8cebd56c_e146_11e9_ab45_0242ac1c0002row5_col4\" class=\"data row5 col4\" >589</td>\n",
              "<td id=\"T_8cebd56c_e146_11e9_ab45_0242ac1c0002row5_col5\" class=\"data row5 col5\" >4976</td>\n",
              "<td id=\"T_8cebd56c_e146_11e9_ab45_0242ac1c0002row5_col6\" class=\"data row5 col6\" >62.7932</td>\n",
              "<td id=\"T_8cebd56c_e146_11e9_ab45_0242ac1c0002row5_col7\" class=\"data row5 col7\" >48.8226</td>\n",
              "<td id=\"T_8cebd56c_e146_11e9_ab45_0242ac1c0002row5_col8\" class=\"data row5 col8\" >13.9706</td>\n",
              "</tr>\n",
              "<tr>\n",
              "<th id=\"T_8cebd56c_e146_11e9_ab45_0242ac1c0002level0_row6\" class=\"row_heading level0 row6\" >6.0</th>\n",
              "<td id=\"T_8cebd56c_e146_11e9_ab45_0242ac1c0002row6_col0\" class=\"data row6 col0\" >1113</td>\n",
              "<td id=\"T_8cebd56c_e146_11e9_ab45_0242ac1c0002row6_col1\" class=\"data row6 col1\" >89</td>\n",
              "<td id=\"T_8cebd56c_e146_11e9_ab45_0242ac1c0002row6_col2\" class=\"data row6 col2\" >1024</td>\n",
              "<td id=\"T_8cebd56c_e146_11e9_ab45_0242ac1c0002row6_col3\" class=\"data row6 col3\" >7.99641</td>\n",
              "<td id=\"T_8cebd56c_e146_11e9_ab45_0242ac1c0002row6_col4\" class=\"data row6 col4\" >678</td>\n",
              "<td id=\"T_8cebd56c_e146_11e9_ab45_0242ac1c0002row6_col5\" class=\"data row6 col5\" >6000</td>\n",
              "<td id=\"T_8cebd56c_e146_11e9_ab45_0242ac1c0002row6_col6\" class=\"data row6 col6\" >72.2814</td>\n",
              "<td id=\"T_8cebd56c_e146_11e9_ab45_0242ac1c0002row6_col7\" class=\"data row6 col7\" >58.8697</td>\n",
              "<td id=\"T_8cebd56c_e146_11e9_ab45_0242ac1c0002row6_col8\" class=\"data row6 col8\" >13.4117</td>\n",
              "</tr>\n",
              "<tr>\n",
              "<th id=\"T_8cebd56c_e146_11e9_ab45_0242ac1c0002level0_row7\" class=\"row_heading level0 row7\" >7.0</th>\n",
              "<td id=\"T_8cebd56c_e146_11e9_ab45_0242ac1c0002row7_col0\" class=\"data row7 col0\" >1113</td>\n",
              "<td id=\"T_8cebd56c_e146_11e9_ab45_0242ac1c0002row7_col1\" class=\"data row7 col1\" >76</td>\n",
              "<td id=\"T_8cebd56c_e146_11e9_ab45_0242ac1c0002row7_col2\" class=\"data row7 col2\" >1037</td>\n",
              "<td id=\"T_8cebd56c_e146_11e9_ab45_0242ac1c0002row7_col3\" class=\"data row7 col3\" >6.82839</td>\n",
              "<td id=\"T_8cebd56c_e146_11e9_ab45_0242ac1c0002row7_col4\" class=\"data row7 col4\" >754</td>\n",
              "<td id=\"T_8cebd56c_e146_11e9_ab45_0242ac1c0002row7_col5\" class=\"data row7 col5\" >7037</td>\n",
              "<td id=\"T_8cebd56c_e146_11e9_ab45_0242ac1c0002row7_col6\" class=\"data row7 col6\" >80.3838</td>\n",
              "<td id=\"T_8cebd56c_e146_11e9_ab45_0242ac1c0002row7_col7\" class=\"data row7 col7\" >69.0443</td>\n",
              "<td id=\"T_8cebd56c_e146_11e9_ab45_0242ac1c0002row7_col8\" class=\"data row7 col8\" >11.3394</td>\n",
              "</tr>\n",
              "<tr>\n",
              "<th id=\"T_8cebd56c_e146_11e9_ab45_0242ac1c0002level0_row8\" class=\"row_heading level0 row8\" >8.0</th>\n",
              "<td id=\"T_8cebd56c_e146_11e9_ab45_0242ac1c0002row8_col0\" class=\"data row8 col0\" >1113</td>\n",
              "<td id=\"T_8cebd56c_e146_11e9_ab45_0242ac1c0002row8_col1\" class=\"data row8 col1\" >85</td>\n",
              "<td id=\"T_8cebd56c_e146_11e9_ab45_0242ac1c0002row8_col2\" class=\"data row8 col2\" >1028</td>\n",
              "<td id=\"T_8cebd56c_e146_11e9_ab45_0242ac1c0002row8_col3\" class=\"data row8 col3\" >7.63702</td>\n",
              "<td id=\"T_8cebd56c_e146_11e9_ab45_0242ac1c0002row8_col4\" class=\"data row8 col4\" >839</td>\n",
              "<td id=\"T_8cebd56c_e146_11e9_ab45_0242ac1c0002row8_col5\" class=\"data row8 col5\" >8065</td>\n",
              "<td id=\"T_8cebd56c_e146_11e9_ab45_0242ac1c0002row8_col6\" class=\"data row8 col6\" >89.4456</td>\n",
              "<td id=\"T_8cebd56c_e146_11e9_ab45_0242ac1c0002row8_col7\" class=\"data row8 col7\" >79.1307</td>\n",
              "<td id=\"T_8cebd56c_e146_11e9_ab45_0242ac1c0002row8_col8\" class=\"data row8 col8\" >10.3149</td>\n",
              "</tr>\n",
              "<tr>\n",
              "<th id=\"T_8cebd56c_e146_11e9_ab45_0242ac1c0002level0_row9\" class=\"row_heading level0 row9\" >9.0</th>\n",
              "<td id=\"T_8cebd56c_e146_11e9_ab45_0242ac1c0002row9_col0\" class=\"data row9 col0\" >1113</td>\n",
              "<td id=\"T_8cebd56c_e146_11e9_ab45_0242ac1c0002row9_col1\" class=\"data row9 col1\" >49</td>\n",
              "<td id=\"T_8cebd56c_e146_11e9_ab45_0242ac1c0002row9_col2\" class=\"data row9 col2\" >1064</td>\n",
              "<td id=\"T_8cebd56c_e146_11e9_ab45_0242ac1c0002row9_col3\" class=\"data row9 col3\" >4.40252</td>\n",
              "<td id=\"T_8cebd56c_e146_11e9_ab45_0242ac1c0002row9_col4\" class=\"data row9 col4\" >888</td>\n",
              "<td id=\"T_8cebd56c_e146_11e9_ab45_0242ac1c0002row9_col5\" class=\"data row9 col5\" >9129</td>\n",
              "<td id=\"T_8cebd56c_e146_11e9_ab45_0242ac1c0002row9_col6\" class=\"data row9 col6\" >94.6695</td>\n",
              "<td id=\"T_8cebd56c_e146_11e9_ab45_0242ac1c0002row9_col7\" class=\"data row9 col7\" >89.5703</td>\n",
              "<td id=\"T_8cebd56c_e146_11e9_ab45_0242ac1c0002row9_col8\" class=\"data row9 col8\" >5.09926</td>\n",
              "</tr>\n",
              "<tr>\n",
              "<th id=\"T_8cebd56c_e146_11e9_ab45_0242ac1c0002level0_row10\" class=\"row_heading level0 row10\" >10.0</th>\n",
              "<td id=\"T_8cebd56c_e146_11e9_ab45_0242ac1c0002row10_col0\" class=\"data row10 col0\" >1113</td>\n",
              "<td id=\"T_8cebd56c_e146_11e9_ab45_0242ac1c0002row10_col1\" class=\"data row10 col1\" >50</td>\n",
              "<td id=\"T_8cebd56c_e146_11e9_ab45_0242ac1c0002row10_col2\" class=\"data row10 col2\" >1063</td>\n",
              "<td id=\"T_8cebd56c_e146_11e9_ab45_0242ac1c0002row10_col3\" class=\"data row10 col3\" >4.49236</td>\n",
              "<td id=\"T_8cebd56c_e146_11e9_ab45_0242ac1c0002row10_col4\" class=\"data row10 col4\" >938</td>\n",
              "<td id=\"T_8cebd56c_e146_11e9_ab45_0242ac1c0002row10_col5\" class=\"data row10 col5\" >10192</td>\n",
              "<td id=\"T_8cebd56c_e146_11e9_ab45_0242ac1c0002row10_col6\" class=\"data row10 col6\" >100</td>\n",
              "<td id=\"T_8cebd56c_e146_11e9_ab45_0242ac1c0002row10_col7\" class=\"data row10 col7\" >100</td>\n",
              "<td id=\"T_8cebd56c_e146_11e9_ab45_0242ac1c0002row10_col8\" class=\"data row10 col8\" >0</td>\n",
              "</tr>\n",
              "</tbody></table>"
            ],
            "text/plain": [
              "<IPython.core.display.HTML object>"
            ]
          },
          "metadata": {
            "tags": []
          },
          "execution_count": 103
        }
      ]
    },
    {
      "cell_type": "code",
      "metadata": {
        "id": "OkLFpPYurkuu",
        "colab_type": "code",
        "colab": {}
      },
      "source": [
        " #Gains Chart2\n",
        "    \n",
        "def plots(agg1, target, type):\n",
        "  plt.figure(1, figsize=(20, 5))\n",
        "  plt.subplot(131)\n",
        "  plt.plot(agg1['DECILE'], agg1['ACTUAL'], label='Actual')\n",
        "  plt.plot(agg1['DECILE'], agg1['PRED'], label='Pred')\n",
        "  plt.xticks(range(10, 110, 10))\n",
        "  plt.legend(fontsize=15)\n",
        "  plt.grid(True)\n",
        "  plt.title('Actual vs Predicted', fontsize=20)\n",
        "  plt.xlabel(\"Population %\", fontsize=15)\n",
        "  plt.ylabel(str(target) + \" \" + str(type) + \" %\", fontsize=15)\n",
        "\n",
        "  plt.subplot(132)\n",
        "  X = agg1['DECILE'].tolist()\n",
        "  X.append(0)\n",
        "  Y = agg1['DIST_TGT'].tolist()\n",
        "  Y.append(0)\n",
        "  plt.plot(sorted(X), sorted(Y))\n",
        "  plt.plot([0, 100], [0, 100], 'r--')\n",
        "  plt.xticks(range(0, 110, 10))\n",
        "  plt.yticks(range(0, 110, 10))\n",
        "  plt.grid(True)\n",
        "  plt.title('Cumulative Gains Chart', fontsize=20)\n",
        "  plt.xlabel(\"Population %\", fontsize=15)\n",
        "  plt.ylabel(str(target) + str(\" DISTRIBUTION\") + \" %\", fontsize=15)\n",
        "  plt.annotate(round(agg1[agg1['DECILE'] == 30].DIST_TGT.item(), 2), xy=[30, 30], \n",
        "          xytext=(25, agg1[agg1['DECILE'] == 30].DIST_TGT.item() + 5), fontsize = 13)\n",
        "  plt.annotate(round(agg1[agg1['DECILE'] == 50].DIST_TGT.item(), 2), xy=[50, 50], \n",
        "          xytext=(45, agg1[agg1['DECILE'] == 50].DIST_TGT.item() + 5), fontsize = 13)\n",
        "\n",
        "  plt.subplot(133)\n",
        "  plt.plot(agg1['DECILE'], agg1['LIFT'])\n",
        "  plt.axhline(y=1, C='r', ls='--')\n",
        "  plt.xticks(range(10, 110, 10))\n",
        "  plt.grid(True)\n",
        "  plt.title('Lift Chart', fontsize=20)\n",
        "  plt.xlabel(\"Population %\", fontsize=15)\n",
        "  plt.ylabel(\"Lift\", fontsize=15)\n",
        "\n",
        "  plt.tight_layout()\n",
        "\n",
        "def gains(data, decile_by, target, score):\n",
        "  inputs = list(decile_by)\n",
        "  inputs.extend((target, score))\n",
        "  decile = data[inputs]\n",
        "  grouped = decile.groupby(decile_by)\n",
        "  agg1 = pd.DataFrame({}, index=[])\n",
        "  agg1['ACTUAL'] = grouped.mean()[target]*100\n",
        "  agg1['PRED'] = grouped.mean()[score]*100\n",
        "  agg1['DIST_TGT'] = grouped.sum()[target].cumsum()/grouped.sum()[target].sum()*100\n",
        "  agg1.index.name = 'DECILE'\n",
        "  agg1 = agg1.reset_index()\n",
        "  agg1['DECILE'] = agg1['DECILE']*10\n",
        "  agg1['LIFT'] = agg1['DIST_TGT']/agg1['DECILE']\n",
        "  plots(agg1, target, 'Distribution')\n"
      ],
      "execution_count": 0,
      "outputs": []
    },
    {
      "cell_type": "code",
      "metadata": {
        "id": "ffHAFXboFX2N",
        "colab_type": "code",
        "colab": {
          "base_uri": "https://localhost:8080/",
          "height": 369
        },
        "outputId": "67a73d6f-c970-4334-dbe5-887e2cd67fbd"
      },
      "source": [
        "lift_train = pd.concat([train_features, scores_train], axis=1)\n",
        "lift_test = pd.concat([test_features, scores_test], axis=1)\n",
        "\n",
        "gains(lift_train, ['DECILE'], 'TARGET', 'SCORE')"
      ],
      "execution_count": 105,
      "outputs": [
        {
          "output_type": "display_data",
          "data": {
            "image/png": "[encoded data removed]",
            "text/plain": [
              "<Figure size 1440x360 with 3 Axes>"
            ]
          },
          "metadata": {
            "tags": []
          }
        }
      ]
    },
    {
      "cell_type": "code",
      "metadata": {
        "id": "17R69uLTib9u",
        "colab_type": "code",
        "colab": {
          "base_uri": "https://localhost:8080/",
          "height": 369
        },
        "outputId": "eef72731-f700-4459-d31a-f07a02dbc24c"
      },
      "source": [
        "gains(lift_test, ['DECILE'], 'TARGET', 'SCORE')"
      ],
      "execution_count": 106,
      "outputs": [
        {
          "output_type": "display_data",
          "data": {
            "image/png": "[encoded data removed]",
            "text/plain": [
              "<Figure size 1440x360 with 3 Axes>"
            ]
          },
          "metadata": {
            "tags": []
          }
        }
      ]
    }
  ]
}