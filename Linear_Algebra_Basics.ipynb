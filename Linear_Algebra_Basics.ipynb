{
  "nbformat": 4,
  "nbformat_minor": 0,
  "metadata": {
    "colab": {
      "name": "Linear Algebra Basics.ipynb",
      "version": "0.3.2",
      "provenance": [],
      "collapsed_sections": [],
      "include_colab_link": true
    },
    "kernelspec": {
      "name": "python3",
      "display_name": "Python 3"
    }
  },
  "cells": [
    {
      "cell_type": "markdown",
      "metadata": {
        "id": "view-in-github",
        "colab_type": "text"
      },
      "source": [
        "<a href=\"https://colab.research.google.com/github/paulc00/ML-Intro/blob/master/Linear_Algebra_Basics.ipynb\" target=\"_parent\"><img src=\"https://colab.research.google.com/assets/colab-badge.svg\" alt=\"Open In Colab\"/></a>"
      ]
    },
    {
      "cell_type": "markdown",
      "metadata": {
        "id": "mTBU5gbKrOdi",
        "colab_type": "text"
      },
      "source": [
        "# Some Linear Algebra Basics\n",
        "## Python Imports\n",
        "At the beginning of our Python source code we can import packages to extend the functionality of Python. \n",
        "\n",
        "In this case we will be importing the NumPy library which supports *efficient* linear algebra calculations."
      ]
    },
    {
      "cell_type": "code",
      "metadata": {
        "id": "Qic3o1BUg9WA",
        "colab_type": "code",
        "colab": {}
      },
      "source": [
        "# Import the NumPy library for linear algebra\n",
        "\n",
        "# we assign 'np' as an alias that we can use later when calling or using\n",
        "# anything in the NumPy package\n",
        "import numpy as np"
      ],
      "execution_count": 0,
      "outputs": []
    },
    {
      "cell_type": "markdown",
      "metadata": {
        "id": "LeojiFGmrkUM",
        "colab_type": "text"
      },
      "source": [
        "## Summing a vector\n",
        "The following cells will create a vector $$x = \\begin{bmatrix}3&1&4&2\\end{bmatrix}$$ and then calculate the sum of its elements, $$s = \\sum_{i=1}^n x_i$$"
      ]
    },
    {
      "cell_type": "code",
      "metadata": {
        "id": "Ff9XowkkiA4W",
        "colab_type": "code",
        "colab": {
          "base_uri": "https://localhost:8080/",
          "height": 51
        },
        "outputId": "48382bfb-ac08-4afd-d6e7-8774aa558175"
      },
      "source": [
        "# Create a vector, x\n",
        "\n",
        "# np.array is used to define vectors or matrices in NumPy. Here we will \n",
        "# initialize our arrays with python lists.\n",
        "x = np.array([3, 1, 4, 2])\n",
        "\n",
        "# Display x (using an f-string)\n",
        "print(f\"x =\\n{x}\")"
      ],
      "execution_count": 2,
      "outputs": [
        {
          "output_type": "stream",
          "text": [
            "x =\n",
            "[3 1 4 2]\n"
          ],
          "name": "stdout"
        }
      ]
    },
    {
      "cell_type": "code",
      "metadata": {
        "id": "o8EM-pOZod4J",
        "colab_type": "code",
        "colab": {
          "base_uri": "https://localhost:8080/",
          "height": 34
        },
        "outputId": "2f4ef3c0-3230-4d17-b6fe-4386ab661db9"
      },
      "source": [
        "# Calculate the sum the elements of x\n",
        "s = x.sum()\n",
        "\n",
        "# Display the sum\n",
        "print(f\"Sum of elements of x = {s}\")"
      ],
      "execution_count": 3,
      "outputs": [
        {
          "output_type": "stream",
          "text": [
            "Sum of elements of x = 10\n"
          ],
          "name": "stdout"
        }
      ]
    },
    {
      "cell_type": "markdown",
      "metadata": {
        "id": "8OtvtftpsFq9",
        "colab_type": "text"
      },
      "source": [
        "## Vector Dot-Product\n",
        "In the next few cells we will create a new vector $y = \\begin{bmatrix}1\\\\2\\\\3\\\\4\\end{bmatrix}$.\n",
        "\n",
        "Then we'll calculate the dot product of $x$ and $y$, $$d = xy = x \\cdot y = \\begin{bmatrix}3&1&4&2\\end{bmatrix} \\cdot \\begin{bmatrix}1\\\\2\\\\3\\\\4\\end{bmatrix}$$\n",
        "\n",
        "*Please note: While linear algebra rules for the dot-product demand that number of columns in the first argument equal the number of rows in the second argument, NumPy will automatically transpose one of the vectors if two row vectors or two column vectors are passed. So, in NumPy, $\\begin{bmatrix}3&1&4&2\\end{bmatrix} \\cdot \\begin{bmatrix}1&2&3&4\\end{bmatrix}$ or $\\begin{bmatrix}3\\\\1\\\\4\\\\2\\end{bmatrix} \\cdot \\begin{bmatrix}1\\\\2\\\\3\\\\4\\end{bmatrix}$ will produce the same dot-product as shown above.*\n"
      ]
    },
    {
      "cell_type": "code",
      "metadata": {
        "id": "G92XFLSbiEuE",
        "colab_type": "code",
        "colab": {
          "base_uri": "https://localhost:8080/",
          "height": 153
        },
        "outputId": "d8a00b64-f2a9-4a11-8b07-e15d0e0374ca"
      },
      "source": [
        "# Create a column vector y\n",
        "y = np.array([[1],\n",
        "              [2],\n",
        "              [3],\n",
        "              [4]])\n",
        "\n",
        "# Display our vectors\n",
        "print(f\"x =\\n{x}\\n\\ny =\\n{y}\")"
      ],
      "execution_count": 4,
      "outputs": [
        {
          "output_type": "stream",
          "text": [
            "x =\n",
            "[3 1 4 2]\n",
            "\n",
            "y =\n",
            "[[1]\n",
            " [2]\n",
            " [3]\n",
            " [4]]\n"
          ],
          "name": "stdout"
        }
      ]
    },
    {
      "cell_type": "code",
      "metadata": {
        "id": "eSlGnWjpogS1",
        "colab_type": "code",
        "colab": {
          "base_uri": "https://localhost:8080/",
          "height": 34
        },
        "outputId": "8bf95fb4-ab48-43b0-f726-5bd4fa7fe00e"
      },
      "source": [
        "# Calculate the dot product of x and y\n",
        "d = x @ y\n",
        "\n",
        "# Display the dot product\n",
        "print(f\"d = x . y = {d}\")"
      ],
      "execution_count": 5,
      "outputs": [
        {
          "output_type": "stream",
          "text": [
            "d = x . y = [25]\n"
          ],
          "name": "stdout"
        }
      ]
    },
    {
      "cell_type": "markdown",
      "metadata": {
        "id": "s7WFyH4Os_ou",
        "colab_type": "text"
      },
      "source": [
        "## Matrix Dot-Product\n",
        "In the remaining cells we create two matrices $X = \\begin{bmatrix}3&1\\\\4&2\\end{bmatrix}$ and $Y = \\begin{bmatrix}1&2\\\\3&4\\end{bmatrix}$.\n",
        "\n",
        "Then we'll calculate the dot product of $X$ and $Y$,$$D = XY = X\\cdot Y = \\begin{bmatrix}3&1\\\\4&2\\end{bmatrix} \\cdot \\begin{bmatrix}1&2\\\\3&4\\end{bmatrix}$$"
      ]
    },
    {
      "cell_type": "code",
      "metadata": {
        "id": "NdJPXGK1hw_c",
        "colab_type": "code",
        "colab": {
          "base_uri": "https://localhost:8080/",
          "height": 136
        },
        "outputId": "52f66375-3067-4fed-f73b-80db45975964"
      },
      "source": [
        "# Create two matrices\n",
        "X = np.array([[3, 1], \n",
        "              [4, 2]])          # This definition is easier to read\n",
        "\n",
        "Y = np.array([[1, 2], [3, 4]])  # This definition is more compact\n",
        "\n",
        "# Display our matrices\n",
        "print(f\"X =\\n{X}\\n\\nY =\\n{Y}\")"
      ],
      "execution_count": 6,
      "outputs": [
        {
          "output_type": "stream",
          "text": [
            "X =\n",
            "[[3 1]\n",
            " [4 2]]\n",
            "\n",
            "Y =\n",
            "[[1 2]\n",
            " [3 4]]\n"
          ],
          "name": "stdout"
        }
      ]
    },
    {
      "cell_type": "code",
      "metadata": {
        "id": "crmlzrnSpZ-a",
        "colab_type": "code",
        "colab": {
          "base_uri": "https://localhost:8080/",
          "height": 68
        },
        "outputId": "abd9a428-f1da-418c-aa66-2e254cebd13c"
      },
      "source": [
        "# Calculate the dot product of X and Y\n",
        "D = X @ Y\n",
        "\n",
        "# Display the dot product\n",
        "print(f\"D = X . Y =\\n{D}\")"
      ],
      "execution_count": 7,
      "outputs": [
        {
          "output_type": "stream",
          "text": [
            "D = X . Y =\n",
            "[[ 6 10]\n",
            " [10 16]]\n"
          ],
          "name": "stdout"
        }
      ]
    },
    {
      "cell_type": "markdown",
      "metadata": {
        "id": "ZZbbqOhe2Wnm",
        "colab_type": "text"
      },
      "source": [
        "## Exercises\n",
        "\n",
        "### Exercise 1\n",
        "\n",
        "Calculate and display $$\\begin{bmatrix}3&1&4\\end{bmatrix} \\cdot \\begin{bmatrix}1\\\\2\\\\3\\end{bmatrix}$$"
      ]
    },
    {
      "cell_type": "code",
      "metadata": {
        "id": "05pZBYLu2xwX",
        "colab_type": "code",
        "colab": {}
      },
      "source": [
        "# Create the first vector\n",
        "\n",
        "# Create the second vector\n",
        "\n",
        "# Calculate the dot-product\n",
        "\n",
        "# Display the dot-product\n"
      ],
      "execution_count": 0,
      "outputs": []
    },
    {
      "cell_type": "markdown",
      "metadata": {
        "id": "61oUurem3GaP",
        "colab_type": "text"
      },
      "source": [
        "### Exercise 2\n",
        "\n",
        "Calculate and display $$\\begin{bmatrix}5&3\\\\1&2\\end{bmatrix} \\cdot \\begin{bmatrix}7&4\\\\6&8\\end{bmatrix}$$"
      ]
    },
    {
      "cell_type": "code",
      "metadata": {
        "id": "KgFjypt43ctO",
        "colab_type": "code",
        "colab": {}
      },
      "source": [
        "# Create the first matrix\n",
        "\n",
        "# Create the second matrix\n",
        "\n",
        "# Calculate the dot-product\n",
        "\n",
        "# Display the dot-product\n"
      ],
      "execution_count": 0,
      "outputs": []
    },
    {
      "cell_type": "markdown",
      "metadata": {
        "id": "SiLeaGTd3zgU",
        "colab_type": "text"
      },
      "source": [
        "### Exercise 3\n",
        "\n",
        "Calculate and display $$\\begin{align}x &= \\begin{bmatrix}3&1&4\\end{bmatrix}\\\\z &= \\sum_{i=1}^n x_i\\end{align}$$"
      ]
    },
    {
      "cell_type": "code",
      "metadata": {
        "id": "aOQaA3KY4ib1",
        "colab_type": "code",
        "colab": {}
      },
      "source": [
        "# Create the vector\n",
        "# x = ...\n",
        "\n",
        "# Calculate the sum\n",
        "# s = ...\n",
        "\n",
        "# Display the dot-product\n",
        "# print(f\"... = {...}\")"
      ],
      "execution_count": 0,
      "outputs": []
    }
  ]
}